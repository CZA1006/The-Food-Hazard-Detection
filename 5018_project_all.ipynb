{
  "metadata": {
    "kernelspec": {
      "name": "python3",
      "display_name": "Python 3"
    },
    "language_info": {
      "name": "python",
      "version": "3.10.14",
      "mimetype": "text/x-python",
      "codemirror_mode": {
        "name": "ipython",
        "version": 3
      },
      "pygments_lexer": "ipython3",
      "nbconvert_exporter": "python",
      "file_extension": ".py"
    },
    "colab": {
      "provenance": [],
      "gpuType": "A100",
      "collapsed_sections": [
        "-Q_9l5oMWxA0",
        "d_8B_Wo0Y4b2"
      ],
      "toc_visible": true
    },
    "accelerator": "GPU",
    "widgets": {
      "application/vnd.jupyter.widget-state+json": {
        "aec1cde2eeff417e83de1ca2873246ef": {
          "model_module": "@jupyter-widgets/controls",
          "model_name": "HBoxModel",
          "model_module_version": "1.5.0",
          "state": {
            "_dom_classes": [],
            "_model_module": "@jupyter-widgets/controls",
            "_model_module_version": "1.5.0",
            "_model_name": "HBoxModel",
            "_view_count": null,
            "_view_module": "@jupyter-widgets/controls",
            "_view_module_version": "1.5.0",
            "_view_name": "HBoxView",
            "box_style": "",
            "children": [
              "IPY_MODEL_3ca9752a8976461988093eb5c5001843",
              "IPY_MODEL_8b12e34043a04b0c99c3e6b4f874dd64",
              "IPY_MODEL_654974dfa52042f483af4575b2d863f0"
            ],
            "layout": "IPY_MODEL_a69cc79a141242eba091b509e24cb222"
          }
        },
        "3ca9752a8976461988093eb5c5001843": {
          "model_module": "@jupyter-widgets/controls",
          "model_name": "HTMLModel",
          "model_module_version": "1.5.0",
          "state": {
            "_dom_classes": [],
            "_model_module": "@jupyter-widgets/controls",
            "_model_module_version": "1.5.0",
            "_model_name": "HTMLModel",
            "_view_count": null,
            "_view_module": "@jupyter-widgets/controls",
            "_view_module_version": "1.5.0",
            "_view_name": "HTMLView",
            "description": "",
            "description_tooltip": null,
            "layout": "IPY_MODEL_51d5c29257fc44fcad667b6d061476e9",
            "placeholder": "​",
            "style": "IPY_MODEL_5d2d1f8119124279a6923367e6cddf4d",
            "value": "tokenizer_config.json: 100%"
          }
        },
        "8b12e34043a04b0c99c3e6b4f874dd64": {
          "model_module": "@jupyter-widgets/controls",
          "model_name": "FloatProgressModel",
          "model_module_version": "1.5.0",
          "state": {
            "_dom_classes": [],
            "_model_module": "@jupyter-widgets/controls",
            "_model_module_version": "1.5.0",
            "_model_name": "FloatProgressModel",
            "_view_count": null,
            "_view_module": "@jupyter-widgets/controls",
            "_view_module_version": "1.5.0",
            "_view_name": "ProgressView",
            "bar_style": "success",
            "description": "",
            "description_tooltip": null,
            "layout": "IPY_MODEL_6b3c3d29c3be4dec8f224042f4786d7a",
            "max": 48,
            "min": 0,
            "orientation": "horizontal",
            "style": "IPY_MODEL_f501d1deed86404eb8208f36bef8e6b5",
            "value": 48
          }
        },
        "654974dfa52042f483af4575b2d863f0": {
          "model_module": "@jupyter-widgets/controls",
          "model_name": "HTMLModel",
          "model_module_version": "1.5.0",
          "state": {
            "_dom_classes": [],
            "_model_module": "@jupyter-widgets/controls",
            "_model_module_version": "1.5.0",
            "_model_name": "HTMLModel",
            "_view_count": null,
            "_view_module": "@jupyter-widgets/controls",
            "_view_module_version": "1.5.0",
            "_view_name": "HTMLView",
            "description": "",
            "description_tooltip": null,
            "layout": "IPY_MODEL_a06963c6d18a446aa6b93abf40cecec8",
            "placeholder": "​",
            "style": "IPY_MODEL_ee137d13de3942d18a2801b97cdeae7a",
            "value": " 48.0/48.0 [00:00&lt;00:00, 2.05kB/s]"
          }
        },
        "a69cc79a141242eba091b509e24cb222": {
          "model_module": "@jupyter-widgets/base",
          "model_name": "LayoutModel",
          "model_module_version": "1.2.0",
          "state": {
            "_model_module": "@jupyter-widgets/base",
            "_model_module_version": "1.2.0",
            "_model_name": "LayoutModel",
            "_view_count": null,
            "_view_module": "@jupyter-widgets/base",
            "_view_module_version": "1.2.0",
            "_view_name": "LayoutView",
            "align_content": null,
            "align_items": null,
            "align_self": null,
            "border": null,
            "bottom": null,
            "display": null,
            "flex": null,
            "flex_flow": null,
            "grid_area": null,
            "grid_auto_columns": null,
            "grid_auto_flow": null,
            "grid_auto_rows": null,
            "grid_column": null,
            "grid_gap": null,
            "grid_row": null,
            "grid_template_areas": null,
            "grid_template_columns": null,
            "grid_template_rows": null,
            "height": null,
            "justify_content": null,
            "justify_items": null,
            "left": null,
            "margin": null,
            "max_height": null,
            "max_width": null,
            "min_height": null,
            "min_width": null,
            "object_fit": null,
            "object_position": null,
            "order": null,
            "overflow": null,
            "overflow_x": null,
            "overflow_y": null,
            "padding": null,
            "right": null,
            "top": null,
            "visibility": null,
            "width": null
          }
        },
        "51d5c29257fc44fcad667b6d061476e9": {
          "model_module": "@jupyter-widgets/base",
          "model_name": "LayoutModel",
          "model_module_version": "1.2.0",
          "state": {
            "_model_module": "@jupyter-widgets/base",
            "_model_module_version": "1.2.0",
            "_model_name": "LayoutModel",
            "_view_count": null,
            "_view_module": "@jupyter-widgets/base",
            "_view_module_version": "1.2.0",
            "_view_name": "LayoutView",
            "align_content": null,
            "align_items": null,
            "align_self": null,
            "border": null,
            "bottom": null,
            "display": null,
            "flex": null,
            "flex_flow": null,
            "grid_area": null,
            "grid_auto_columns": null,
            "grid_auto_flow": null,
            "grid_auto_rows": null,
            "grid_column": null,
            "grid_gap": null,
            "grid_row": null,
            "grid_template_areas": null,
            "grid_template_columns": null,
            "grid_template_rows": null,
            "height": null,
            "justify_content": null,
            "justify_items": null,
            "left": null,
            "margin": null,
            "max_height": null,
            "max_width": null,
            "min_height": null,
            "min_width": null,
            "object_fit": null,
            "object_position": null,
            "order": null,
            "overflow": null,
            "overflow_x": null,
            "overflow_y": null,
            "padding": null,
            "right": null,
            "top": null,
            "visibility": null,
            "width": null
          }
        },
        "5d2d1f8119124279a6923367e6cddf4d": {
          "model_module": "@jupyter-widgets/controls",
          "model_name": "DescriptionStyleModel",
          "model_module_version": "1.5.0",
          "state": {
            "_model_module": "@jupyter-widgets/controls",
            "_model_module_version": "1.5.0",
            "_model_name": "DescriptionStyleModel",
            "_view_count": null,
            "_view_module": "@jupyter-widgets/base",
            "_view_module_version": "1.2.0",
            "_view_name": "StyleView",
            "description_width": ""
          }
        },
        "6b3c3d29c3be4dec8f224042f4786d7a": {
          "model_module": "@jupyter-widgets/base",
          "model_name": "LayoutModel",
          "model_module_version": "1.2.0",
          "state": {
            "_model_module": "@jupyter-widgets/base",
            "_model_module_version": "1.2.0",
            "_model_name": "LayoutModel",
            "_view_count": null,
            "_view_module": "@jupyter-widgets/base",
            "_view_module_version": "1.2.0",
            "_view_name": "LayoutView",
            "align_content": null,
            "align_items": null,
            "align_self": null,
            "border": null,
            "bottom": null,
            "display": null,
            "flex": null,
            "flex_flow": null,
            "grid_area": null,
            "grid_auto_columns": null,
            "grid_auto_flow": null,
            "grid_auto_rows": null,
            "grid_column": null,
            "grid_gap": null,
            "grid_row": null,
            "grid_template_areas": null,
            "grid_template_columns": null,
            "grid_template_rows": null,
            "height": null,
            "justify_content": null,
            "justify_items": null,
            "left": null,
            "margin": null,
            "max_height": null,
            "max_width": null,
            "min_height": null,
            "min_width": null,
            "object_fit": null,
            "object_position": null,
            "order": null,
            "overflow": null,
            "overflow_x": null,
            "overflow_y": null,
            "padding": null,
            "right": null,
            "top": null,
            "visibility": null,
            "width": null
          }
        },
        "f501d1deed86404eb8208f36bef8e6b5": {
          "model_module": "@jupyter-widgets/controls",
          "model_name": "ProgressStyleModel",
          "model_module_version": "1.5.0",
          "state": {
            "_model_module": "@jupyter-widgets/controls",
            "_model_module_version": "1.5.0",
            "_model_name": "ProgressStyleModel",
            "_view_count": null,
            "_view_module": "@jupyter-widgets/base",
            "_view_module_version": "1.2.0",
            "_view_name": "StyleView",
            "bar_color": null,
            "description_width": ""
          }
        },
        "a06963c6d18a446aa6b93abf40cecec8": {
          "model_module": "@jupyter-widgets/base",
          "model_name": "LayoutModel",
          "model_module_version": "1.2.0",
          "state": {
            "_model_module": "@jupyter-widgets/base",
            "_model_module_version": "1.2.0",
            "_model_name": "LayoutModel",
            "_view_count": null,
            "_view_module": "@jupyter-widgets/base",
            "_view_module_version": "1.2.0",
            "_view_name": "LayoutView",
            "align_content": null,
            "align_items": null,
            "align_self": null,
            "border": null,
            "bottom": null,
            "display": null,
            "flex": null,
            "flex_flow": null,
            "grid_area": null,
            "grid_auto_columns": null,
            "grid_auto_flow": null,
            "grid_auto_rows": null,
            "grid_column": null,
            "grid_gap": null,
            "grid_row": null,
            "grid_template_areas": null,
            "grid_template_columns": null,
            "grid_template_rows": null,
            "height": null,
            "justify_content": null,
            "justify_items": null,
            "left": null,
            "margin": null,
            "max_height": null,
            "max_width": null,
            "min_height": null,
            "min_width": null,
            "object_fit": null,
            "object_position": null,
            "order": null,
            "overflow": null,
            "overflow_x": null,
            "overflow_y": null,
            "padding": null,
            "right": null,
            "top": null,
            "visibility": null,
            "width": null
          }
        },
        "ee137d13de3942d18a2801b97cdeae7a": {
          "model_module": "@jupyter-widgets/controls",
          "model_name": "DescriptionStyleModel",
          "model_module_version": "1.5.0",
          "state": {
            "_model_module": "@jupyter-widgets/controls",
            "_model_module_version": "1.5.0",
            "_model_name": "DescriptionStyleModel",
            "_view_count": null,
            "_view_module": "@jupyter-widgets/base",
            "_view_module_version": "1.2.0",
            "_view_name": "StyleView",
            "description_width": ""
          }
        },
        "91dd6cca54544268b9a88378c02c678f": {
          "model_module": "@jupyter-widgets/controls",
          "model_name": "HBoxModel",
          "model_module_version": "1.5.0",
          "state": {
            "_dom_classes": [],
            "_model_module": "@jupyter-widgets/controls",
            "_model_module_version": "1.5.0",
            "_model_name": "HBoxModel",
            "_view_count": null,
            "_view_module": "@jupyter-widgets/controls",
            "_view_module_version": "1.5.0",
            "_view_name": "HBoxView",
            "box_style": "",
            "children": [
              "IPY_MODEL_1c6ab53275f54ae8aca96bc925f1b85c",
              "IPY_MODEL_f73b0e2d6eaf464790c30c578f23f9bb",
              "IPY_MODEL_dd2ed890b29f4fd29f87ae4620165360"
            ],
            "layout": "IPY_MODEL_e0ce6b0fa3894b93acfa7ab82841b90d"
          }
        },
        "1c6ab53275f54ae8aca96bc925f1b85c": {
          "model_module": "@jupyter-widgets/controls",
          "model_name": "HTMLModel",
          "model_module_version": "1.5.0",
          "state": {
            "_dom_classes": [],
            "_model_module": "@jupyter-widgets/controls",
            "_model_module_version": "1.5.0",
            "_model_name": "HTMLModel",
            "_view_count": null,
            "_view_module": "@jupyter-widgets/controls",
            "_view_module_version": "1.5.0",
            "_view_name": "HTMLView",
            "description": "",
            "description_tooltip": null,
            "layout": "IPY_MODEL_28a3b1d6b3e14fbd8a61f6e3201b4991",
            "placeholder": "​",
            "style": "IPY_MODEL_ac115f1261a94853b88417c7f40d5be6",
            "value": "vocab.txt: 100%"
          }
        },
        "f73b0e2d6eaf464790c30c578f23f9bb": {
          "model_module": "@jupyter-widgets/controls",
          "model_name": "FloatProgressModel",
          "model_module_version": "1.5.0",
          "state": {
            "_dom_classes": [],
            "_model_module": "@jupyter-widgets/controls",
            "_model_module_version": "1.5.0",
            "_model_name": "FloatProgressModel",
            "_view_count": null,
            "_view_module": "@jupyter-widgets/controls",
            "_view_module_version": "1.5.0",
            "_view_name": "ProgressView",
            "bar_style": "success",
            "description": "",
            "description_tooltip": null,
            "layout": "IPY_MODEL_799b6f174e444762924781b100abc3f4",
            "max": 231508,
            "min": 0,
            "orientation": "horizontal",
            "style": "IPY_MODEL_6971ae7617b2411a8d5ec43e95b50402",
            "value": 231508
          }
        },
        "dd2ed890b29f4fd29f87ae4620165360": {
          "model_module": "@jupyter-widgets/controls",
          "model_name": "HTMLModel",
          "model_module_version": "1.5.0",
          "state": {
            "_dom_classes": [],
            "_model_module": "@jupyter-widgets/controls",
            "_model_module_version": "1.5.0",
            "_model_name": "HTMLModel",
            "_view_count": null,
            "_view_module": "@jupyter-widgets/controls",
            "_view_module_version": "1.5.0",
            "_view_name": "HTMLView",
            "description": "",
            "description_tooltip": null,
            "layout": "IPY_MODEL_ec64af13cbed4f7885d6f92c0c78a77d",
            "placeholder": "​",
            "style": "IPY_MODEL_6e1bea47d02d4972b44640e1f027515d",
            "value": " 232k/232k [00:00&lt;00:00, 1.88MB/s]"
          }
        },
        "e0ce6b0fa3894b93acfa7ab82841b90d": {
          "model_module": "@jupyter-widgets/base",
          "model_name": "LayoutModel",
          "model_module_version": "1.2.0",
          "state": {
            "_model_module": "@jupyter-widgets/base",
            "_model_module_version": "1.2.0",
            "_model_name": "LayoutModel",
            "_view_count": null,
            "_view_module": "@jupyter-widgets/base",
            "_view_module_version": "1.2.0",
            "_view_name": "LayoutView",
            "align_content": null,
            "align_items": null,
            "align_self": null,
            "border": null,
            "bottom": null,
            "display": null,
            "flex": null,
            "flex_flow": null,
            "grid_area": null,
            "grid_auto_columns": null,
            "grid_auto_flow": null,
            "grid_auto_rows": null,
            "grid_column": null,
            "grid_gap": null,
            "grid_row": null,
            "grid_template_areas": null,
            "grid_template_columns": null,
            "grid_template_rows": null,
            "height": null,
            "justify_content": null,
            "justify_items": null,
            "left": null,
            "margin": null,
            "max_height": null,
            "max_width": null,
            "min_height": null,
            "min_width": null,
            "object_fit": null,
            "object_position": null,
            "order": null,
            "overflow": null,
            "overflow_x": null,
            "overflow_y": null,
            "padding": null,
            "right": null,
            "top": null,
            "visibility": null,
            "width": null
          }
        },
        "28a3b1d6b3e14fbd8a61f6e3201b4991": {
          "model_module": "@jupyter-widgets/base",
          "model_name": "LayoutModel",
          "model_module_version": "1.2.0",
          "state": {
            "_model_module": "@jupyter-widgets/base",
            "_model_module_version": "1.2.0",
            "_model_name": "LayoutModel",
            "_view_count": null,
            "_view_module": "@jupyter-widgets/base",
            "_view_module_version": "1.2.0",
            "_view_name": "LayoutView",
            "align_content": null,
            "align_items": null,
            "align_self": null,
            "border": null,
            "bottom": null,
            "display": null,
            "flex": null,
            "flex_flow": null,
            "grid_area": null,
            "grid_auto_columns": null,
            "grid_auto_flow": null,
            "grid_auto_rows": null,
            "grid_column": null,
            "grid_gap": null,
            "grid_row": null,
            "grid_template_areas": null,
            "grid_template_columns": null,
            "grid_template_rows": null,
            "height": null,
            "justify_content": null,
            "justify_items": null,
            "left": null,
            "margin": null,
            "max_height": null,
            "max_width": null,
            "min_height": null,
            "min_width": null,
            "object_fit": null,
            "object_position": null,
            "order": null,
            "overflow": null,
            "overflow_x": null,
            "overflow_y": null,
            "padding": null,
            "right": null,
            "top": null,
            "visibility": null,
            "width": null
          }
        },
        "ac115f1261a94853b88417c7f40d5be6": {
          "model_module": "@jupyter-widgets/controls",
          "model_name": "DescriptionStyleModel",
          "model_module_version": "1.5.0",
          "state": {
            "_model_module": "@jupyter-widgets/controls",
            "_model_module_version": "1.5.0",
            "_model_name": "DescriptionStyleModel",
            "_view_count": null,
            "_view_module": "@jupyter-widgets/base",
            "_view_module_version": "1.2.0",
            "_view_name": "StyleView",
            "description_width": ""
          }
        },
        "799b6f174e444762924781b100abc3f4": {
          "model_module": "@jupyter-widgets/base",
          "model_name": "LayoutModel",
          "model_module_version": "1.2.0",
          "state": {
            "_model_module": "@jupyter-widgets/base",
            "_model_module_version": "1.2.0",
            "_model_name": "LayoutModel",
            "_view_count": null,
            "_view_module": "@jupyter-widgets/base",
            "_view_module_version": "1.2.0",
            "_view_name": "LayoutView",
            "align_content": null,
            "align_items": null,
            "align_self": null,
            "border": null,
            "bottom": null,
            "display": null,
            "flex": null,
            "flex_flow": null,
            "grid_area": null,
            "grid_auto_columns": null,
            "grid_auto_flow": null,
            "grid_auto_rows": null,
            "grid_column": null,
            "grid_gap": null,
            "grid_row": null,
            "grid_template_areas": null,
            "grid_template_columns": null,
            "grid_template_rows": null,
            "height": null,
            "justify_content": null,
            "justify_items": null,
            "left": null,
            "margin": null,
            "max_height": null,
            "max_width": null,
            "min_height": null,
            "min_width": null,
            "object_fit": null,
            "object_position": null,
            "order": null,
            "overflow": null,
            "overflow_x": null,
            "overflow_y": null,
            "padding": null,
            "right": null,
            "top": null,
            "visibility": null,
            "width": null
          }
        },
        "6971ae7617b2411a8d5ec43e95b50402": {
          "model_module": "@jupyter-widgets/controls",
          "model_name": "ProgressStyleModel",
          "model_module_version": "1.5.0",
          "state": {
            "_model_module": "@jupyter-widgets/controls",
            "_model_module_version": "1.5.0",
            "_model_name": "ProgressStyleModel",
            "_view_count": null,
            "_view_module": "@jupyter-widgets/base",
            "_view_module_version": "1.2.0",
            "_view_name": "StyleView",
            "bar_color": null,
            "description_width": ""
          }
        },
        "ec64af13cbed4f7885d6f92c0c78a77d": {
          "model_module": "@jupyter-widgets/base",
          "model_name": "LayoutModel",
          "model_module_version": "1.2.0",
          "state": {
            "_model_module": "@jupyter-widgets/base",
            "_model_module_version": "1.2.0",
            "_model_name": "LayoutModel",
            "_view_count": null,
            "_view_module": "@jupyter-widgets/base",
            "_view_module_version": "1.2.0",
            "_view_name": "LayoutView",
            "align_content": null,
            "align_items": null,
            "align_self": null,
            "border": null,
            "bottom": null,
            "display": null,
            "flex": null,
            "flex_flow": null,
            "grid_area": null,
            "grid_auto_columns": null,
            "grid_auto_flow": null,
            "grid_auto_rows": null,
            "grid_column": null,
            "grid_gap": null,
            "grid_row": null,
            "grid_template_areas": null,
            "grid_template_columns": null,
            "grid_template_rows": null,
            "height": null,
            "justify_content": null,
            "justify_items": null,
            "left": null,
            "margin": null,
            "max_height": null,
            "max_width": null,
            "min_height": null,
            "min_width": null,
            "object_fit": null,
            "object_position": null,
            "order": null,
            "overflow": null,
            "overflow_x": null,
            "overflow_y": null,
            "padding": null,
            "right": null,
            "top": null,
            "visibility": null,
            "width": null
          }
        },
        "6e1bea47d02d4972b44640e1f027515d": {
          "model_module": "@jupyter-widgets/controls",
          "model_name": "DescriptionStyleModel",
          "model_module_version": "1.5.0",
          "state": {
            "_model_module": "@jupyter-widgets/controls",
            "_model_module_version": "1.5.0",
            "_model_name": "DescriptionStyleModel",
            "_view_count": null,
            "_view_module": "@jupyter-widgets/base",
            "_view_module_version": "1.2.0",
            "_view_name": "StyleView",
            "description_width": ""
          }
        },
        "b14e7bc644074e0bacf645a89a39d066": {
          "model_module": "@jupyter-widgets/controls",
          "model_name": "HBoxModel",
          "model_module_version": "1.5.0",
          "state": {
            "_dom_classes": [],
            "_model_module": "@jupyter-widgets/controls",
            "_model_module_version": "1.5.0",
            "_model_name": "HBoxModel",
            "_view_count": null,
            "_view_module": "@jupyter-widgets/controls",
            "_view_module_version": "1.5.0",
            "_view_name": "HBoxView",
            "box_style": "",
            "children": [
              "IPY_MODEL_aaff13c5db3b46e79108025b2f4f136f",
              "IPY_MODEL_206447893ad749c89e03f3767b1005bd",
              "IPY_MODEL_e94b8e554efc4569a0cc9ec4d0e08956"
            ],
            "layout": "IPY_MODEL_d9032fa109e7457cac0b642c70676f1a"
          }
        },
        "aaff13c5db3b46e79108025b2f4f136f": {
          "model_module": "@jupyter-widgets/controls",
          "model_name": "HTMLModel",
          "model_module_version": "1.5.0",
          "state": {
            "_dom_classes": [],
            "_model_module": "@jupyter-widgets/controls",
            "_model_module_version": "1.5.0",
            "_model_name": "HTMLModel",
            "_view_count": null,
            "_view_module": "@jupyter-widgets/controls",
            "_view_module_version": "1.5.0",
            "_view_name": "HTMLView",
            "description": "",
            "description_tooltip": null,
            "layout": "IPY_MODEL_dbfa2937d5b448eebefd88eba6154022",
            "placeholder": "​",
            "style": "IPY_MODEL_a0a0c5d2c77a4020846a7024759e216e",
            "value": "tokenizer.json: 100%"
          }
        },
        "206447893ad749c89e03f3767b1005bd": {
          "model_module": "@jupyter-widgets/controls",
          "model_name": "FloatProgressModel",
          "model_module_version": "1.5.0",
          "state": {
            "_dom_classes": [],
            "_model_module": "@jupyter-widgets/controls",
            "_model_module_version": "1.5.0",
            "_model_name": "FloatProgressModel",
            "_view_count": null,
            "_view_module": "@jupyter-widgets/controls",
            "_view_module_version": "1.5.0",
            "_view_name": "ProgressView",
            "bar_style": "success",
            "description": "",
            "description_tooltip": null,
            "layout": "IPY_MODEL_b0d7464986e54fafa1b60731950e6788",
            "max": 466062,
            "min": 0,
            "orientation": "horizontal",
            "style": "IPY_MODEL_a38db137a1b2403a9dd93e332f61bed9",
            "value": 466062
          }
        },
        "e94b8e554efc4569a0cc9ec4d0e08956": {
          "model_module": "@jupyter-widgets/controls",
          "model_name": "HTMLModel",
          "model_module_version": "1.5.0",
          "state": {
            "_dom_classes": [],
            "_model_module": "@jupyter-widgets/controls",
            "_model_module_version": "1.5.0",
            "_model_name": "HTMLModel",
            "_view_count": null,
            "_view_module": "@jupyter-widgets/controls",
            "_view_module_version": "1.5.0",
            "_view_name": "HTMLView",
            "description": "",
            "description_tooltip": null,
            "layout": "IPY_MODEL_d7e4f81fba054c4ca1b96b34e5bc416e",
            "placeholder": "​",
            "style": "IPY_MODEL_5cc7af7027564a64872af26ae657171a",
            "value": " 466k/466k [00:00&lt;00:00, 7.30MB/s]"
          }
        },
        "d9032fa109e7457cac0b642c70676f1a": {
          "model_module": "@jupyter-widgets/base",
          "model_name": "LayoutModel",
          "model_module_version": "1.2.0",
          "state": {
            "_model_module": "@jupyter-widgets/base",
            "_model_module_version": "1.2.0",
            "_model_name": "LayoutModel",
            "_view_count": null,
            "_view_module": "@jupyter-widgets/base",
            "_view_module_version": "1.2.0",
            "_view_name": "LayoutView",
            "align_content": null,
            "align_items": null,
            "align_self": null,
            "border": null,
            "bottom": null,
            "display": null,
            "flex": null,
            "flex_flow": null,
            "grid_area": null,
            "grid_auto_columns": null,
            "grid_auto_flow": null,
            "grid_auto_rows": null,
            "grid_column": null,
            "grid_gap": null,
            "grid_row": null,
            "grid_template_areas": null,
            "grid_template_columns": null,
            "grid_template_rows": null,
            "height": null,
            "justify_content": null,
            "justify_items": null,
            "left": null,
            "margin": null,
            "max_height": null,
            "max_width": null,
            "min_height": null,
            "min_width": null,
            "object_fit": null,
            "object_position": null,
            "order": null,
            "overflow": null,
            "overflow_x": null,
            "overflow_y": null,
            "padding": null,
            "right": null,
            "top": null,
            "visibility": null,
            "width": null
          }
        },
        "dbfa2937d5b448eebefd88eba6154022": {
          "model_module": "@jupyter-widgets/base",
          "model_name": "LayoutModel",
          "model_module_version": "1.2.0",
          "state": {
            "_model_module": "@jupyter-widgets/base",
            "_model_module_version": "1.2.0",
            "_model_name": "LayoutModel",
            "_view_count": null,
            "_view_module": "@jupyter-widgets/base",
            "_view_module_version": "1.2.0",
            "_view_name": "LayoutView",
            "align_content": null,
            "align_items": null,
            "align_self": null,
            "border": null,
            "bottom": null,
            "display": null,
            "flex": null,
            "flex_flow": null,
            "grid_area": null,
            "grid_auto_columns": null,
            "grid_auto_flow": null,
            "grid_auto_rows": null,
            "grid_column": null,
            "grid_gap": null,
            "grid_row": null,
            "grid_template_areas": null,
            "grid_template_columns": null,
            "grid_template_rows": null,
            "height": null,
            "justify_content": null,
            "justify_items": null,
            "left": null,
            "margin": null,
            "max_height": null,
            "max_width": null,
            "min_height": null,
            "min_width": null,
            "object_fit": null,
            "object_position": null,
            "order": null,
            "overflow": null,
            "overflow_x": null,
            "overflow_y": null,
            "padding": null,
            "right": null,
            "top": null,
            "visibility": null,
            "width": null
          }
        },
        "a0a0c5d2c77a4020846a7024759e216e": {
          "model_module": "@jupyter-widgets/controls",
          "model_name": "DescriptionStyleModel",
          "model_module_version": "1.5.0",
          "state": {
            "_model_module": "@jupyter-widgets/controls",
            "_model_module_version": "1.5.0",
            "_model_name": "DescriptionStyleModel",
            "_view_count": null,
            "_view_module": "@jupyter-widgets/base",
            "_view_module_version": "1.2.0",
            "_view_name": "StyleView",
            "description_width": ""
          }
        },
        "b0d7464986e54fafa1b60731950e6788": {
          "model_module": "@jupyter-widgets/base",
          "model_name": "LayoutModel",
          "model_module_version": "1.2.0",
          "state": {
            "_model_module": "@jupyter-widgets/base",
            "_model_module_version": "1.2.0",
            "_model_name": "LayoutModel",
            "_view_count": null,
            "_view_module": "@jupyter-widgets/base",
            "_view_module_version": "1.2.0",
            "_view_name": "LayoutView",
            "align_content": null,
            "align_items": null,
            "align_self": null,
            "border": null,
            "bottom": null,
            "display": null,
            "flex": null,
            "flex_flow": null,
            "grid_area": null,
            "grid_auto_columns": null,
            "grid_auto_flow": null,
            "grid_auto_rows": null,
            "grid_column": null,
            "grid_gap": null,
            "grid_row": null,
            "grid_template_areas": null,
            "grid_template_columns": null,
            "grid_template_rows": null,
            "height": null,
            "justify_content": null,
            "justify_items": null,
            "left": null,
            "margin": null,
            "max_height": null,
            "max_width": null,
            "min_height": null,
            "min_width": null,
            "object_fit": null,
            "object_position": null,
            "order": null,
            "overflow": null,
            "overflow_x": null,
            "overflow_y": null,
            "padding": null,
            "right": null,
            "top": null,
            "visibility": null,
            "width": null
          }
        },
        "a38db137a1b2403a9dd93e332f61bed9": {
          "model_module": "@jupyter-widgets/controls",
          "model_name": "ProgressStyleModel",
          "model_module_version": "1.5.0",
          "state": {
            "_model_module": "@jupyter-widgets/controls",
            "_model_module_version": "1.5.0",
            "_model_name": "ProgressStyleModel",
            "_view_count": null,
            "_view_module": "@jupyter-widgets/base",
            "_view_module_version": "1.2.0",
            "_view_name": "StyleView",
            "bar_color": null,
            "description_width": ""
          }
        },
        "d7e4f81fba054c4ca1b96b34e5bc416e": {
          "model_module": "@jupyter-widgets/base",
          "model_name": "LayoutModel",
          "model_module_version": "1.2.0",
          "state": {
            "_model_module": "@jupyter-widgets/base",
            "_model_module_version": "1.2.0",
            "_model_name": "LayoutModel",
            "_view_count": null,
            "_view_module": "@jupyter-widgets/base",
            "_view_module_version": "1.2.0",
            "_view_name": "LayoutView",
            "align_content": null,
            "align_items": null,
            "align_self": null,
            "border": null,
            "bottom": null,
            "display": null,
            "flex": null,
            "flex_flow": null,
            "grid_area": null,
            "grid_auto_columns": null,
            "grid_auto_flow": null,
            "grid_auto_rows": null,
            "grid_column": null,
            "grid_gap": null,
            "grid_row": null,
            "grid_template_areas": null,
            "grid_template_columns": null,
            "grid_template_rows": null,
            "height": null,
            "justify_content": null,
            "justify_items": null,
            "left": null,
            "margin": null,
            "max_height": null,
            "max_width": null,
            "min_height": null,
            "min_width": null,
            "object_fit": null,
            "object_position": null,
            "order": null,
            "overflow": null,
            "overflow_x": null,
            "overflow_y": null,
            "padding": null,
            "right": null,
            "top": null,
            "visibility": null,
            "width": null
          }
        },
        "5cc7af7027564a64872af26ae657171a": {
          "model_module": "@jupyter-widgets/controls",
          "model_name": "DescriptionStyleModel",
          "model_module_version": "1.5.0",
          "state": {
            "_model_module": "@jupyter-widgets/controls",
            "_model_module_version": "1.5.0",
            "_model_name": "DescriptionStyleModel",
            "_view_count": null,
            "_view_module": "@jupyter-widgets/base",
            "_view_module_version": "1.2.0",
            "_view_name": "StyleView",
            "description_width": ""
          }
        },
        "27a9af7d2c8d4c5ba548f3d2ee0a2b06": {
          "model_module": "@jupyter-widgets/controls",
          "model_name": "HBoxModel",
          "model_module_version": "1.5.0",
          "state": {
            "_dom_classes": [],
            "_model_module": "@jupyter-widgets/controls",
            "_model_module_version": "1.5.0",
            "_model_name": "HBoxModel",
            "_view_count": null,
            "_view_module": "@jupyter-widgets/controls",
            "_view_module_version": "1.5.0",
            "_view_name": "HBoxView",
            "box_style": "",
            "children": [
              "IPY_MODEL_375e45ab6dd641ada1bab6d56dc4f270",
              "IPY_MODEL_cd4f7bb1f4e04abe891859ad75dd9e5b",
              "IPY_MODEL_f956bde15fee4b26ae370600be1cc0f4"
            ],
            "layout": "IPY_MODEL_285959fbe3934bf78cf00bfb9092f5fa"
          }
        },
        "375e45ab6dd641ada1bab6d56dc4f270": {
          "model_module": "@jupyter-widgets/controls",
          "model_name": "HTMLModel",
          "model_module_version": "1.5.0",
          "state": {
            "_dom_classes": [],
            "_model_module": "@jupyter-widgets/controls",
            "_model_module_version": "1.5.0",
            "_model_name": "HTMLModel",
            "_view_count": null,
            "_view_module": "@jupyter-widgets/controls",
            "_view_module_version": "1.5.0",
            "_view_name": "HTMLView",
            "description": "",
            "description_tooltip": null,
            "layout": "IPY_MODEL_4c4548410b54456ab1fa5139c2330153",
            "placeholder": "​",
            "style": "IPY_MODEL_7da26941fa2c4a6aa18af4cafe03b167",
            "value": "config.json: 100%"
          }
        },
        "cd4f7bb1f4e04abe891859ad75dd9e5b": {
          "model_module": "@jupyter-widgets/controls",
          "model_name": "FloatProgressModel",
          "model_module_version": "1.5.0",
          "state": {
            "_dom_classes": [],
            "_model_module": "@jupyter-widgets/controls",
            "_model_module_version": "1.5.0",
            "_model_name": "FloatProgressModel",
            "_view_count": null,
            "_view_module": "@jupyter-widgets/controls",
            "_view_module_version": "1.5.0",
            "_view_name": "ProgressView",
            "bar_style": "success",
            "description": "",
            "description_tooltip": null,
            "layout": "IPY_MODEL_6150427ab2db4f5ebc67324a4ef158ec",
            "max": 570,
            "min": 0,
            "orientation": "horizontal",
            "style": "IPY_MODEL_67c2975929a64ae285f961bdd02c62ac",
            "value": 570
          }
        },
        "f956bde15fee4b26ae370600be1cc0f4": {
          "model_module": "@jupyter-widgets/controls",
          "model_name": "HTMLModel",
          "model_module_version": "1.5.0",
          "state": {
            "_dom_classes": [],
            "_model_module": "@jupyter-widgets/controls",
            "_model_module_version": "1.5.0",
            "_model_name": "HTMLModel",
            "_view_count": null,
            "_view_module": "@jupyter-widgets/controls",
            "_view_module_version": "1.5.0",
            "_view_name": "HTMLView",
            "description": "",
            "description_tooltip": null,
            "layout": "IPY_MODEL_019e291212c84cca8d7fea6b27125eb3",
            "placeholder": "​",
            "style": "IPY_MODEL_f217cf35b4e5432a82cb0b13ae0f4ff2",
            "value": " 570/570 [00:00&lt;00:00, 25.6kB/s]"
          }
        },
        "285959fbe3934bf78cf00bfb9092f5fa": {
          "model_module": "@jupyter-widgets/base",
          "model_name": "LayoutModel",
          "model_module_version": "1.2.0",
          "state": {
            "_model_module": "@jupyter-widgets/base",
            "_model_module_version": "1.2.0",
            "_model_name": "LayoutModel",
            "_view_count": null,
            "_view_module": "@jupyter-widgets/base",
            "_view_module_version": "1.2.0",
            "_view_name": "LayoutView",
            "align_content": null,
            "align_items": null,
            "align_self": null,
            "border": null,
            "bottom": null,
            "display": null,
            "flex": null,
            "flex_flow": null,
            "grid_area": null,
            "grid_auto_columns": null,
            "grid_auto_flow": null,
            "grid_auto_rows": null,
            "grid_column": null,
            "grid_gap": null,
            "grid_row": null,
            "grid_template_areas": null,
            "grid_template_columns": null,
            "grid_template_rows": null,
            "height": null,
            "justify_content": null,
            "justify_items": null,
            "left": null,
            "margin": null,
            "max_height": null,
            "max_width": null,
            "min_height": null,
            "min_width": null,
            "object_fit": null,
            "object_position": null,
            "order": null,
            "overflow": null,
            "overflow_x": null,
            "overflow_y": null,
            "padding": null,
            "right": null,
            "top": null,
            "visibility": null,
            "width": null
          }
        },
        "4c4548410b54456ab1fa5139c2330153": {
          "model_module": "@jupyter-widgets/base",
          "model_name": "LayoutModel",
          "model_module_version": "1.2.0",
          "state": {
            "_model_module": "@jupyter-widgets/base",
            "_model_module_version": "1.2.0",
            "_model_name": "LayoutModel",
            "_view_count": null,
            "_view_module": "@jupyter-widgets/base",
            "_view_module_version": "1.2.0",
            "_view_name": "LayoutView",
            "align_content": null,
            "align_items": null,
            "align_self": null,
            "border": null,
            "bottom": null,
            "display": null,
            "flex": null,
            "flex_flow": null,
            "grid_area": null,
            "grid_auto_columns": null,
            "grid_auto_flow": null,
            "grid_auto_rows": null,
            "grid_column": null,
            "grid_gap": null,
            "grid_row": null,
            "grid_template_areas": null,
            "grid_template_columns": null,
            "grid_template_rows": null,
            "height": null,
            "justify_content": null,
            "justify_items": null,
            "left": null,
            "margin": null,
            "max_height": null,
            "max_width": null,
            "min_height": null,
            "min_width": null,
            "object_fit": null,
            "object_position": null,
            "order": null,
            "overflow": null,
            "overflow_x": null,
            "overflow_y": null,
            "padding": null,
            "right": null,
            "top": null,
            "visibility": null,
            "width": null
          }
        },
        "7da26941fa2c4a6aa18af4cafe03b167": {
          "model_module": "@jupyter-widgets/controls",
          "model_name": "DescriptionStyleModel",
          "model_module_version": "1.5.0",
          "state": {
            "_model_module": "@jupyter-widgets/controls",
            "_model_module_version": "1.5.0",
            "_model_name": "DescriptionStyleModel",
            "_view_count": null,
            "_view_module": "@jupyter-widgets/base",
            "_view_module_version": "1.2.0",
            "_view_name": "StyleView",
            "description_width": ""
          }
        },
        "6150427ab2db4f5ebc67324a4ef158ec": {
          "model_module": "@jupyter-widgets/base",
          "model_name": "LayoutModel",
          "model_module_version": "1.2.0",
          "state": {
            "_model_module": "@jupyter-widgets/base",
            "_model_module_version": "1.2.0",
            "_model_name": "LayoutModel",
            "_view_count": null,
            "_view_module": "@jupyter-widgets/base",
            "_view_module_version": "1.2.0",
            "_view_name": "LayoutView",
            "align_content": null,
            "align_items": null,
            "align_self": null,
            "border": null,
            "bottom": null,
            "display": null,
            "flex": null,
            "flex_flow": null,
            "grid_area": null,
            "grid_auto_columns": null,
            "grid_auto_flow": null,
            "grid_auto_rows": null,
            "grid_column": null,
            "grid_gap": null,
            "grid_row": null,
            "grid_template_areas": null,
            "grid_template_columns": null,
            "grid_template_rows": null,
            "height": null,
            "justify_content": null,
            "justify_items": null,
            "left": null,
            "margin": null,
            "max_height": null,
            "max_width": null,
            "min_height": null,
            "min_width": null,
            "object_fit": null,
            "object_position": null,
            "order": null,
            "overflow": null,
            "overflow_x": null,
            "overflow_y": null,
            "padding": null,
            "right": null,
            "top": null,
            "visibility": null,
            "width": null
          }
        },
        "67c2975929a64ae285f961bdd02c62ac": {
          "model_module": "@jupyter-widgets/controls",
          "model_name": "ProgressStyleModel",
          "model_module_version": "1.5.0",
          "state": {
            "_model_module": "@jupyter-widgets/controls",
            "_model_module_version": "1.5.0",
            "_model_name": "ProgressStyleModel",
            "_view_count": null,
            "_view_module": "@jupyter-widgets/base",
            "_view_module_version": "1.2.0",
            "_view_name": "StyleView",
            "bar_color": null,
            "description_width": ""
          }
        },
        "019e291212c84cca8d7fea6b27125eb3": {
          "model_module": "@jupyter-widgets/base",
          "model_name": "LayoutModel",
          "model_module_version": "1.2.0",
          "state": {
            "_model_module": "@jupyter-widgets/base",
            "_model_module_version": "1.2.0",
            "_model_name": "LayoutModel",
            "_view_count": null,
            "_view_module": "@jupyter-widgets/base",
            "_view_module_version": "1.2.0",
            "_view_name": "LayoutView",
            "align_content": null,
            "align_items": null,
            "align_self": null,
            "border": null,
            "bottom": null,
            "display": null,
            "flex": null,
            "flex_flow": null,
            "grid_area": null,
            "grid_auto_columns": null,
            "grid_auto_flow": null,
            "grid_auto_rows": null,
            "grid_column": null,
            "grid_gap": null,
            "grid_row": null,
            "grid_template_areas": null,
            "grid_template_columns": null,
            "grid_template_rows": null,
            "height": null,
            "justify_content": null,
            "justify_items": null,
            "left": null,
            "margin": null,
            "max_height": null,
            "max_width": null,
            "min_height": null,
            "min_width": null,
            "object_fit": null,
            "object_position": null,
            "order": null,
            "overflow": null,
            "overflow_x": null,
            "overflow_y": null,
            "padding": null,
            "right": null,
            "top": null,
            "visibility": null,
            "width": null
          }
        },
        "f217cf35b4e5432a82cb0b13ae0f4ff2": {
          "model_module": "@jupyter-widgets/controls",
          "model_name": "DescriptionStyleModel",
          "model_module_version": "1.5.0",
          "state": {
            "_model_module": "@jupyter-widgets/controls",
            "_model_module_version": "1.5.0",
            "_model_name": "DescriptionStyleModel",
            "_view_count": null,
            "_view_module": "@jupyter-widgets/base",
            "_view_module_version": "1.2.0",
            "_view_name": "StyleView",
            "description_width": ""
          }
        },
        "4a19844196d04df1b1252162e4bc038d": {
          "model_module": "@jupyter-widgets/controls",
          "model_name": "HBoxModel",
          "model_module_version": "1.5.0",
          "state": {
            "_dom_classes": [],
            "_model_module": "@jupyter-widgets/controls",
            "_model_module_version": "1.5.0",
            "_model_name": "HBoxModel",
            "_view_count": null,
            "_view_module": "@jupyter-widgets/controls",
            "_view_module_version": "1.5.0",
            "_view_name": "HBoxView",
            "box_style": "",
            "children": [
              "IPY_MODEL_1f520e5502014a728e14fbfeb86a2606",
              "IPY_MODEL_b39932adbf934bb784d2ced1cce915e2",
              "IPY_MODEL_31bad2bc65234eb0beda67cae9461e1a"
            ],
            "layout": "IPY_MODEL_6b86a6813e504738a7d880cb3c80adac"
          }
        },
        "1f520e5502014a728e14fbfeb86a2606": {
          "model_module": "@jupyter-widgets/controls",
          "model_name": "HTMLModel",
          "model_module_version": "1.5.0",
          "state": {
            "_dom_classes": [],
            "_model_module": "@jupyter-widgets/controls",
            "_model_module_version": "1.5.0",
            "_model_name": "HTMLModel",
            "_view_count": null,
            "_view_module": "@jupyter-widgets/controls",
            "_view_module_version": "1.5.0",
            "_view_name": "HTMLView",
            "description": "",
            "description_tooltip": null,
            "layout": "IPY_MODEL_0bce5b25e7d047528642189205b257ae",
            "placeholder": "​",
            "style": "IPY_MODEL_b49d9650ff554fa6b69b5fd5c14b2a8a",
            "value": "model.safetensors: 100%"
          }
        },
        "b39932adbf934bb784d2ced1cce915e2": {
          "model_module": "@jupyter-widgets/controls",
          "model_name": "FloatProgressModel",
          "model_module_version": "1.5.0",
          "state": {
            "_dom_classes": [],
            "_model_module": "@jupyter-widgets/controls",
            "_model_module_version": "1.5.0",
            "_model_name": "FloatProgressModel",
            "_view_count": null,
            "_view_module": "@jupyter-widgets/controls",
            "_view_module_version": "1.5.0",
            "_view_name": "ProgressView",
            "bar_style": "success",
            "description": "",
            "description_tooltip": null,
            "layout": "IPY_MODEL_a70e3710ecee4098ab7dc108e2554c88",
            "max": 440449768,
            "min": 0,
            "orientation": "horizontal",
            "style": "IPY_MODEL_ab429b28d1b74953ace7f5f59a9359b0",
            "value": 440449768
          }
        },
        "31bad2bc65234eb0beda67cae9461e1a": {
          "model_module": "@jupyter-widgets/controls",
          "model_name": "HTMLModel",
          "model_module_version": "1.5.0",
          "state": {
            "_dom_classes": [],
            "_model_module": "@jupyter-widgets/controls",
            "_model_module_version": "1.5.0",
            "_model_name": "HTMLModel",
            "_view_count": null,
            "_view_module": "@jupyter-widgets/controls",
            "_view_module_version": "1.5.0",
            "_view_name": "HTMLView",
            "description": "",
            "description_tooltip": null,
            "layout": "IPY_MODEL_1863831627a942c68bdc5bba72e05e4e",
            "placeholder": "​",
            "style": "IPY_MODEL_da871ee562a14c6087d75e9b36a6546a",
            "value": " 440M/440M [00:02&lt;00:00, 244MB/s]"
          }
        },
        "6b86a6813e504738a7d880cb3c80adac": {
          "model_module": "@jupyter-widgets/base",
          "model_name": "LayoutModel",
          "model_module_version": "1.2.0",
          "state": {
            "_model_module": "@jupyter-widgets/base",
            "_model_module_version": "1.2.0",
            "_model_name": "LayoutModel",
            "_view_count": null,
            "_view_module": "@jupyter-widgets/base",
            "_view_module_version": "1.2.0",
            "_view_name": "LayoutView",
            "align_content": null,
            "align_items": null,
            "align_self": null,
            "border": null,
            "bottom": null,
            "display": null,
            "flex": null,
            "flex_flow": null,
            "grid_area": null,
            "grid_auto_columns": null,
            "grid_auto_flow": null,
            "grid_auto_rows": null,
            "grid_column": null,
            "grid_gap": null,
            "grid_row": null,
            "grid_template_areas": null,
            "grid_template_columns": null,
            "grid_template_rows": null,
            "height": null,
            "justify_content": null,
            "justify_items": null,
            "left": null,
            "margin": null,
            "max_height": null,
            "max_width": null,
            "min_height": null,
            "min_width": null,
            "object_fit": null,
            "object_position": null,
            "order": null,
            "overflow": null,
            "overflow_x": null,
            "overflow_y": null,
            "padding": null,
            "right": null,
            "top": null,
            "visibility": null,
            "width": null
          }
        },
        "0bce5b25e7d047528642189205b257ae": {
          "model_module": "@jupyter-widgets/base",
          "model_name": "LayoutModel",
          "model_module_version": "1.2.0",
          "state": {
            "_model_module": "@jupyter-widgets/base",
            "_model_module_version": "1.2.0",
            "_model_name": "LayoutModel",
            "_view_count": null,
            "_view_module": "@jupyter-widgets/base",
            "_view_module_version": "1.2.0",
            "_view_name": "LayoutView",
            "align_content": null,
            "align_items": null,
            "align_self": null,
            "border": null,
            "bottom": null,
            "display": null,
            "flex": null,
            "flex_flow": null,
            "grid_area": null,
            "grid_auto_columns": null,
            "grid_auto_flow": null,
            "grid_auto_rows": null,
            "grid_column": null,
            "grid_gap": null,
            "grid_row": null,
            "grid_template_areas": null,
            "grid_template_columns": null,
            "grid_template_rows": null,
            "height": null,
            "justify_content": null,
            "justify_items": null,
            "left": null,
            "margin": null,
            "max_height": null,
            "max_width": null,
            "min_height": null,
            "min_width": null,
            "object_fit": null,
            "object_position": null,
            "order": null,
            "overflow": null,
            "overflow_x": null,
            "overflow_y": null,
            "padding": null,
            "right": null,
            "top": null,
            "visibility": null,
            "width": null
          }
        },
        "b49d9650ff554fa6b69b5fd5c14b2a8a": {
          "model_module": "@jupyter-widgets/controls",
          "model_name": "DescriptionStyleModel",
          "model_module_version": "1.5.0",
          "state": {
            "_model_module": "@jupyter-widgets/controls",
            "_model_module_version": "1.5.0",
            "_model_name": "DescriptionStyleModel",
            "_view_count": null,
            "_view_module": "@jupyter-widgets/base",
            "_view_module_version": "1.2.0",
            "_view_name": "StyleView",
            "description_width": ""
          }
        },
        "a70e3710ecee4098ab7dc108e2554c88": {
          "model_module": "@jupyter-widgets/base",
          "model_name": "LayoutModel",
          "model_module_version": "1.2.0",
          "state": {
            "_model_module": "@jupyter-widgets/base",
            "_model_module_version": "1.2.0",
            "_model_name": "LayoutModel",
            "_view_count": null,
            "_view_module": "@jupyter-widgets/base",
            "_view_module_version": "1.2.0",
            "_view_name": "LayoutView",
            "align_content": null,
            "align_items": null,
            "align_self": null,
            "border": null,
            "bottom": null,
            "display": null,
            "flex": null,
            "flex_flow": null,
            "grid_area": null,
            "grid_auto_columns": null,
            "grid_auto_flow": null,
            "grid_auto_rows": null,
            "grid_column": null,
            "grid_gap": null,
            "grid_row": null,
            "grid_template_areas": null,
            "grid_template_columns": null,
            "grid_template_rows": null,
            "height": null,
            "justify_content": null,
            "justify_items": null,
            "left": null,
            "margin": null,
            "max_height": null,
            "max_width": null,
            "min_height": null,
            "min_width": null,
            "object_fit": null,
            "object_position": null,
            "order": null,
            "overflow": null,
            "overflow_x": null,
            "overflow_y": null,
            "padding": null,
            "right": null,
            "top": null,
            "visibility": null,
            "width": null
          }
        },
        "ab429b28d1b74953ace7f5f59a9359b0": {
          "model_module": "@jupyter-widgets/controls",
          "model_name": "ProgressStyleModel",
          "model_module_version": "1.5.0",
          "state": {
            "_model_module": "@jupyter-widgets/controls",
            "_model_module_version": "1.5.0",
            "_model_name": "ProgressStyleModel",
            "_view_count": null,
            "_view_module": "@jupyter-widgets/base",
            "_view_module_version": "1.2.0",
            "_view_name": "StyleView",
            "bar_color": null,
            "description_width": ""
          }
        },
        "1863831627a942c68bdc5bba72e05e4e": {
          "model_module": "@jupyter-widgets/base",
          "model_name": "LayoutModel",
          "model_module_version": "1.2.0",
          "state": {
            "_model_module": "@jupyter-widgets/base",
            "_model_module_version": "1.2.0",
            "_model_name": "LayoutModel",
            "_view_count": null,
            "_view_module": "@jupyter-widgets/base",
            "_view_module_version": "1.2.0",
            "_view_name": "LayoutView",
            "align_content": null,
            "align_items": null,
            "align_self": null,
            "border": null,
            "bottom": null,
            "display": null,
            "flex": null,
            "flex_flow": null,
            "grid_area": null,
            "grid_auto_columns": null,
            "grid_auto_flow": null,
            "grid_auto_rows": null,
            "grid_column": null,
            "grid_gap": null,
            "grid_row": null,
            "grid_template_areas": null,
            "grid_template_columns": null,
            "grid_template_rows": null,
            "height": null,
            "justify_content": null,
            "justify_items": null,
            "left": null,
            "margin": null,
            "max_height": null,
            "max_width": null,
            "min_height": null,
            "min_width": null,
            "object_fit": null,
            "object_position": null,
            "order": null,
            "overflow": null,
            "overflow_x": null,
            "overflow_y": null,
            "padding": null,
            "right": null,
            "top": null,
            "visibility": null,
            "width": null
          }
        },
        "da871ee562a14c6087d75e9b36a6546a": {
          "model_module": "@jupyter-widgets/controls",
          "model_name": "DescriptionStyleModel",
          "model_module_version": "1.5.0",
          "state": {
            "_model_module": "@jupyter-widgets/controls",
            "_model_module_version": "1.5.0",
            "_model_name": "DescriptionStyleModel",
            "_view_count": null,
            "_view_module": "@jupyter-widgets/base",
            "_view_module_version": "1.2.0",
            "_view_name": "StyleView",
            "description_width": ""
          }
        },
        "21faebf7d3b34274b4dd0309d1ec4782": {
          "model_module": "@jupyter-widgets/controls",
          "model_name": "HBoxModel",
          "model_module_version": "1.5.0",
          "state": {
            "_dom_classes": [],
            "_model_module": "@jupyter-widgets/controls",
            "_model_module_version": "1.5.0",
            "_model_name": "HBoxModel",
            "_view_count": null,
            "_view_module": "@jupyter-widgets/controls",
            "_view_module_version": "1.5.0",
            "_view_name": "HBoxView",
            "box_style": "",
            "children": [
              "IPY_MODEL_9e2741109c024f92b2d858fe4c371483",
              "IPY_MODEL_af8ff3d538f64dda86018c7a1e0f0fde",
              "IPY_MODEL_6b0c5cae05cf4de1b223722605076fc0"
            ],
            "layout": "IPY_MODEL_e0b418199b7f4e498a152df79833ee02"
          }
        },
        "9e2741109c024f92b2d858fe4c371483": {
          "model_module": "@jupyter-widgets/controls",
          "model_name": "HTMLModel",
          "model_module_version": "1.5.0",
          "state": {
            "_dom_classes": [],
            "_model_module": "@jupyter-widgets/controls",
            "_model_module_version": "1.5.0",
            "_model_name": "HTMLModel",
            "_view_count": null,
            "_view_module": "@jupyter-widgets/controls",
            "_view_module_version": "1.5.0",
            "_view_name": "HTMLView",
            "description": "",
            "description_tooltip": null,
            "layout": "IPY_MODEL_83d6b8392678421d90bc2e90b60273be",
            "placeholder": "​",
            "style": "IPY_MODEL_5eb75678ae4e412c90b1409428587417",
            "value": "Map: 100%"
          }
        },
        "af8ff3d538f64dda86018c7a1e0f0fde": {
          "model_module": "@jupyter-widgets/controls",
          "model_name": "FloatProgressModel",
          "model_module_version": "1.5.0",
          "state": {
            "_dom_classes": [],
            "_model_module": "@jupyter-widgets/controls",
            "_model_module_version": "1.5.0",
            "_model_name": "FloatProgressModel",
            "_view_count": null,
            "_view_module": "@jupyter-widgets/controls",
            "_view_module_version": "1.5.0",
            "_view_name": "ProgressView",
            "bar_style": "success",
            "description": "",
            "description_tooltip": null,
            "layout": "IPY_MODEL_93f249f56a514a9494245dfd67dcf663",
            "max": 761,
            "min": 0,
            "orientation": "horizontal",
            "style": "IPY_MODEL_2746533b608f4bf78df653712792519e",
            "value": 761
          }
        },
        "6b0c5cae05cf4de1b223722605076fc0": {
          "model_module": "@jupyter-widgets/controls",
          "model_name": "HTMLModel",
          "model_module_version": "1.5.0",
          "state": {
            "_dom_classes": [],
            "_model_module": "@jupyter-widgets/controls",
            "_model_module_version": "1.5.0",
            "_model_name": "HTMLModel",
            "_view_count": null,
            "_view_module": "@jupyter-widgets/controls",
            "_view_module_version": "1.5.0",
            "_view_name": "HTMLView",
            "description": "",
            "description_tooltip": null,
            "layout": "IPY_MODEL_88d88df25a8b43a1922265c8d893f53f",
            "placeholder": "​",
            "style": "IPY_MODEL_2cadca866d294ce6a4e5e312e188d0c8",
            "value": " 761/761 [00:04&lt;00:00, 165.32 examples/s]"
          }
        },
        "e0b418199b7f4e498a152df79833ee02": {
          "model_module": "@jupyter-widgets/base",
          "model_name": "LayoutModel",
          "model_module_version": "1.2.0",
          "state": {
            "_model_module": "@jupyter-widgets/base",
            "_model_module_version": "1.2.0",
            "_model_name": "LayoutModel",
            "_view_count": null,
            "_view_module": "@jupyter-widgets/base",
            "_view_module_version": "1.2.0",
            "_view_name": "LayoutView",
            "align_content": null,
            "align_items": null,
            "align_self": null,
            "border": null,
            "bottom": null,
            "display": null,
            "flex": null,
            "flex_flow": null,
            "grid_area": null,
            "grid_auto_columns": null,
            "grid_auto_flow": null,
            "grid_auto_rows": null,
            "grid_column": null,
            "grid_gap": null,
            "grid_row": null,
            "grid_template_areas": null,
            "grid_template_columns": null,
            "grid_template_rows": null,
            "height": null,
            "justify_content": null,
            "justify_items": null,
            "left": null,
            "margin": null,
            "max_height": null,
            "max_width": null,
            "min_height": null,
            "min_width": null,
            "object_fit": null,
            "object_position": null,
            "order": null,
            "overflow": null,
            "overflow_x": null,
            "overflow_y": null,
            "padding": null,
            "right": null,
            "top": null,
            "visibility": null,
            "width": null
          }
        },
        "83d6b8392678421d90bc2e90b60273be": {
          "model_module": "@jupyter-widgets/base",
          "model_name": "LayoutModel",
          "model_module_version": "1.2.0",
          "state": {
            "_model_module": "@jupyter-widgets/base",
            "_model_module_version": "1.2.0",
            "_model_name": "LayoutModel",
            "_view_count": null,
            "_view_module": "@jupyter-widgets/base",
            "_view_module_version": "1.2.0",
            "_view_name": "LayoutView",
            "align_content": null,
            "align_items": null,
            "align_self": null,
            "border": null,
            "bottom": null,
            "display": null,
            "flex": null,
            "flex_flow": null,
            "grid_area": null,
            "grid_auto_columns": null,
            "grid_auto_flow": null,
            "grid_auto_rows": null,
            "grid_column": null,
            "grid_gap": null,
            "grid_row": null,
            "grid_template_areas": null,
            "grid_template_columns": null,
            "grid_template_rows": null,
            "height": null,
            "justify_content": null,
            "justify_items": null,
            "left": null,
            "margin": null,
            "max_height": null,
            "max_width": null,
            "min_height": null,
            "min_width": null,
            "object_fit": null,
            "object_position": null,
            "order": null,
            "overflow": null,
            "overflow_x": null,
            "overflow_y": null,
            "padding": null,
            "right": null,
            "top": null,
            "visibility": null,
            "width": null
          }
        },
        "5eb75678ae4e412c90b1409428587417": {
          "model_module": "@jupyter-widgets/controls",
          "model_name": "DescriptionStyleModel",
          "model_module_version": "1.5.0",
          "state": {
            "_model_module": "@jupyter-widgets/controls",
            "_model_module_version": "1.5.0",
            "_model_name": "DescriptionStyleModel",
            "_view_count": null,
            "_view_module": "@jupyter-widgets/base",
            "_view_module_version": "1.2.0",
            "_view_name": "StyleView",
            "description_width": ""
          }
        },
        "93f249f56a514a9494245dfd67dcf663": {
          "model_module": "@jupyter-widgets/base",
          "model_name": "LayoutModel",
          "model_module_version": "1.2.0",
          "state": {
            "_model_module": "@jupyter-widgets/base",
            "_model_module_version": "1.2.0",
            "_model_name": "LayoutModel",
            "_view_count": null,
            "_view_module": "@jupyter-widgets/base",
            "_view_module_version": "1.2.0",
            "_view_name": "LayoutView",
            "align_content": null,
            "align_items": null,
            "align_self": null,
            "border": null,
            "bottom": null,
            "display": null,
            "flex": null,
            "flex_flow": null,
            "grid_area": null,
            "grid_auto_columns": null,
            "grid_auto_flow": null,
            "grid_auto_rows": null,
            "grid_column": null,
            "grid_gap": null,
            "grid_row": null,
            "grid_template_areas": null,
            "grid_template_columns": null,
            "grid_template_rows": null,
            "height": null,
            "justify_content": null,
            "justify_items": null,
            "left": null,
            "margin": null,
            "max_height": null,
            "max_width": null,
            "min_height": null,
            "min_width": null,
            "object_fit": null,
            "object_position": null,
            "order": null,
            "overflow": null,
            "overflow_x": null,
            "overflow_y": null,
            "padding": null,
            "right": null,
            "top": null,
            "visibility": null,
            "width": null
          }
        },
        "2746533b608f4bf78df653712792519e": {
          "model_module": "@jupyter-widgets/controls",
          "model_name": "ProgressStyleModel",
          "model_module_version": "1.5.0",
          "state": {
            "_model_module": "@jupyter-widgets/controls",
            "_model_module_version": "1.5.0",
            "_model_name": "ProgressStyleModel",
            "_view_count": null,
            "_view_module": "@jupyter-widgets/base",
            "_view_module_version": "1.2.0",
            "_view_name": "StyleView",
            "bar_color": null,
            "description_width": ""
          }
        },
        "88d88df25a8b43a1922265c8d893f53f": {
          "model_module": "@jupyter-widgets/base",
          "model_name": "LayoutModel",
          "model_module_version": "1.2.0",
          "state": {
            "_model_module": "@jupyter-widgets/base",
            "_model_module_version": "1.2.0",
            "_model_name": "LayoutModel",
            "_view_count": null,
            "_view_module": "@jupyter-widgets/base",
            "_view_module_version": "1.2.0",
            "_view_name": "LayoutView",
            "align_content": null,
            "align_items": null,
            "align_self": null,
            "border": null,
            "bottom": null,
            "display": null,
            "flex": null,
            "flex_flow": null,
            "grid_area": null,
            "grid_auto_columns": null,
            "grid_auto_flow": null,
            "grid_auto_rows": null,
            "grid_column": null,
            "grid_gap": null,
            "grid_row": null,
            "grid_template_areas": null,
            "grid_template_columns": null,
            "grid_template_rows": null,
            "height": null,
            "justify_content": null,
            "justify_items": null,
            "left": null,
            "margin": null,
            "max_height": null,
            "max_width": null,
            "min_height": null,
            "min_width": null,
            "object_fit": null,
            "object_position": null,
            "order": null,
            "overflow": null,
            "overflow_x": null,
            "overflow_y": null,
            "padding": null,
            "right": null,
            "top": null,
            "visibility": null,
            "width": null
          }
        },
        "2cadca866d294ce6a4e5e312e188d0c8": {
          "model_module": "@jupyter-widgets/controls",
          "model_name": "DescriptionStyleModel",
          "model_module_version": "1.5.0",
          "state": {
            "_model_module": "@jupyter-widgets/controls",
            "_model_module_version": "1.5.0",
            "_model_name": "DescriptionStyleModel",
            "_view_count": null,
            "_view_module": "@jupyter-widgets/base",
            "_view_module_version": "1.2.0",
            "_view_name": "StyleView",
            "description_width": ""
          }
        },
        "9636ea5001eb41018d7f5409fae85d30": {
          "model_module": "@jupyter-widgets/controls",
          "model_name": "HBoxModel",
          "model_module_version": "1.5.0",
          "state": {
            "_dom_classes": [],
            "_model_module": "@jupyter-widgets/controls",
            "_model_module_version": "1.5.0",
            "_model_name": "HBoxModel",
            "_view_count": null,
            "_view_module": "@jupyter-widgets/controls",
            "_view_module_version": "1.5.0",
            "_view_name": "HBoxView",
            "box_style": "",
            "children": [
              "IPY_MODEL_b6cd807be24e406087572ded4d0d7209",
              "IPY_MODEL_74bed96f28e048db87eb3a775badf63e",
              "IPY_MODEL_4b705a48988a4310a065dc877c56e3aa"
            ],
            "layout": "IPY_MODEL_6909ffb1c99e44608343927a0b59f7ce"
          }
        },
        "b6cd807be24e406087572ded4d0d7209": {
          "model_module": "@jupyter-widgets/controls",
          "model_name": "HTMLModel",
          "model_module_version": "1.5.0",
          "state": {
            "_dom_classes": [],
            "_model_module": "@jupyter-widgets/controls",
            "_model_module_version": "1.5.0",
            "_model_name": "HTMLModel",
            "_view_count": null,
            "_view_module": "@jupyter-widgets/controls",
            "_view_module_version": "1.5.0",
            "_view_name": "HTMLView",
            "description": "",
            "description_tooltip": null,
            "layout": "IPY_MODEL_8e1fa14a18a94ef0adf16f9796501a38",
            "placeholder": "​",
            "style": "IPY_MODEL_93dec77a9ad84220975ae1aa6a870764",
            "value": "Map: 100%"
          }
        },
        "74bed96f28e048db87eb3a775badf63e": {
          "model_module": "@jupyter-widgets/controls",
          "model_name": "FloatProgressModel",
          "model_module_version": "1.5.0",
          "state": {
            "_dom_classes": [],
            "_model_module": "@jupyter-widgets/controls",
            "_model_module_version": "1.5.0",
            "_model_name": "FloatProgressModel",
            "_view_count": null,
            "_view_module": "@jupyter-widgets/controls",
            "_view_module_version": "1.5.0",
            "_view_name": "ProgressView",
            "bar_style": "success",
            "description": "",
            "description_tooltip": null,
            "layout": "IPY_MODEL_5345e45edca74d969d5f61b6c77a0712",
            "max": 3042,
            "min": 0,
            "orientation": "horizontal",
            "style": "IPY_MODEL_c6df6f8f2dc644fb9fd01190615d5d4d",
            "value": 3042
          }
        },
        "4b705a48988a4310a065dc877c56e3aa": {
          "model_module": "@jupyter-widgets/controls",
          "model_name": "HTMLModel",
          "model_module_version": "1.5.0",
          "state": {
            "_dom_classes": [],
            "_model_module": "@jupyter-widgets/controls",
            "_model_module_version": "1.5.0",
            "_model_name": "HTMLModel",
            "_view_count": null,
            "_view_module": "@jupyter-widgets/controls",
            "_view_module_version": "1.5.0",
            "_view_name": "HTMLView",
            "description": "",
            "description_tooltip": null,
            "layout": "IPY_MODEL_fe68b46413f049ef8c9072233660ab2d",
            "placeholder": "​",
            "style": "IPY_MODEL_c01f951d1eea47bc9366978354c5a158",
            "value": " 3042/3042 [00:26&lt;00:00, 115.97 examples/s]"
          }
        },
        "6909ffb1c99e44608343927a0b59f7ce": {
          "model_module": "@jupyter-widgets/base",
          "model_name": "LayoutModel",
          "model_module_version": "1.2.0",
          "state": {
            "_model_module": "@jupyter-widgets/base",
            "_model_module_version": "1.2.0",
            "_model_name": "LayoutModel",
            "_view_count": null,
            "_view_module": "@jupyter-widgets/base",
            "_view_module_version": "1.2.0",
            "_view_name": "LayoutView",
            "align_content": null,
            "align_items": null,
            "align_self": null,
            "border": null,
            "bottom": null,
            "display": null,
            "flex": null,
            "flex_flow": null,
            "grid_area": null,
            "grid_auto_columns": null,
            "grid_auto_flow": null,
            "grid_auto_rows": null,
            "grid_column": null,
            "grid_gap": null,
            "grid_row": null,
            "grid_template_areas": null,
            "grid_template_columns": null,
            "grid_template_rows": null,
            "height": null,
            "justify_content": null,
            "justify_items": null,
            "left": null,
            "margin": null,
            "max_height": null,
            "max_width": null,
            "min_height": null,
            "min_width": null,
            "object_fit": null,
            "object_position": null,
            "order": null,
            "overflow": null,
            "overflow_x": null,
            "overflow_y": null,
            "padding": null,
            "right": null,
            "top": null,
            "visibility": null,
            "width": null
          }
        },
        "8e1fa14a18a94ef0adf16f9796501a38": {
          "model_module": "@jupyter-widgets/base",
          "model_name": "LayoutModel",
          "model_module_version": "1.2.0",
          "state": {
            "_model_module": "@jupyter-widgets/base",
            "_model_module_version": "1.2.0",
            "_model_name": "LayoutModel",
            "_view_count": null,
            "_view_module": "@jupyter-widgets/base",
            "_view_module_version": "1.2.0",
            "_view_name": "LayoutView",
            "align_content": null,
            "align_items": null,
            "align_self": null,
            "border": null,
            "bottom": null,
            "display": null,
            "flex": null,
            "flex_flow": null,
            "grid_area": null,
            "grid_auto_columns": null,
            "grid_auto_flow": null,
            "grid_auto_rows": null,
            "grid_column": null,
            "grid_gap": null,
            "grid_row": null,
            "grid_template_areas": null,
            "grid_template_columns": null,
            "grid_template_rows": null,
            "height": null,
            "justify_content": null,
            "justify_items": null,
            "left": null,
            "margin": null,
            "max_height": null,
            "max_width": null,
            "min_height": null,
            "min_width": null,
            "object_fit": null,
            "object_position": null,
            "order": null,
            "overflow": null,
            "overflow_x": null,
            "overflow_y": null,
            "padding": null,
            "right": null,
            "top": null,
            "visibility": null,
            "width": null
          }
        },
        "93dec77a9ad84220975ae1aa6a870764": {
          "model_module": "@jupyter-widgets/controls",
          "model_name": "DescriptionStyleModel",
          "model_module_version": "1.5.0",
          "state": {
            "_model_module": "@jupyter-widgets/controls",
            "_model_module_version": "1.5.0",
            "_model_name": "DescriptionStyleModel",
            "_view_count": null,
            "_view_module": "@jupyter-widgets/base",
            "_view_module_version": "1.2.0",
            "_view_name": "StyleView",
            "description_width": ""
          }
        },
        "5345e45edca74d969d5f61b6c77a0712": {
          "model_module": "@jupyter-widgets/base",
          "model_name": "LayoutModel",
          "model_module_version": "1.2.0",
          "state": {
            "_model_module": "@jupyter-widgets/base",
            "_model_module_version": "1.2.0",
            "_model_name": "LayoutModel",
            "_view_count": null,
            "_view_module": "@jupyter-widgets/base",
            "_view_module_version": "1.2.0",
            "_view_name": "LayoutView",
            "align_content": null,
            "align_items": null,
            "align_self": null,
            "border": null,
            "bottom": null,
            "display": null,
            "flex": null,
            "flex_flow": null,
            "grid_area": null,
            "grid_auto_columns": null,
            "grid_auto_flow": null,
            "grid_auto_rows": null,
            "grid_column": null,
            "grid_gap": null,
            "grid_row": null,
            "grid_template_areas": null,
            "grid_template_columns": null,
            "grid_template_rows": null,
            "height": null,
            "justify_content": null,
            "justify_items": null,
            "left": null,
            "margin": null,
            "max_height": null,
            "max_width": null,
            "min_height": null,
            "min_width": null,
            "object_fit": null,
            "object_position": null,
            "order": null,
            "overflow": null,
            "overflow_x": null,
            "overflow_y": null,
            "padding": null,
            "right": null,
            "top": null,
            "visibility": null,
            "width": null
          }
        },
        "c6df6f8f2dc644fb9fd01190615d5d4d": {
          "model_module": "@jupyter-widgets/controls",
          "model_name": "ProgressStyleModel",
          "model_module_version": "1.5.0",
          "state": {
            "_model_module": "@jupyter-widgets/controls",
            "_model_module_version": "1.5.0",
            "_model_name": "ProgressStyleModel",
            "_view_count": null,
            "_view_module": "@jupyter-widgets/base",
            "_view_module_version": "1.2.0",
            "_view_name": "StyleView",
            "bar_color": null,
            "description_width": ""
          }
        },
        "fe68b46413f049ef8c9072233660ab2d": {
          "model_module": "@jupyter-widgets/base",
          "model_name": "LayoutModel",
          "model_module_version": "1.2.0",
          "state": {
            "_model_module": "@jupyter-widgets/base",
            "_model_module_version": "1.2.0",
            "_model_name": "LayoutModel",
            "_view_count": null,
            "_view_module": "@jupyter-widgets/base",
            "_view_module_version": "1.2.0",
            "_view_name": "LayoutView",
            "align_content": null,
            "align_items": null,
            "align_self": null,
            "border": null,
            "bottom": null,
            "display": null,
            "flex": null,
            "flex_flow": null,
            "grid_area": null,
            "grid_auto_columns": null,
            "grid_auto_flow": null,
            "grid_auto_rows": null,
            "grid_column": null,
            "grid_gap": null,
            "grid_row": null,
            "grid_template_areas": null,
            "grid_template_columns": null,
            "grid_template_rows": null,
            "height": null,
            "justify_content": null,
            "justify_items": null,
            "left": null,
            "margin": null,
            "max_height": null,
            "max_width": null,
            "min_height": null,
            "min_width": null,
            "object_fit": null,
            "object_position": null,
            "order": null,
            "overflow": null,
            "overflow_x": null,
            "overflow_y": null,
            "padding": null,
            "right": null,
            "top": null,
            "visibility": null,
            "width": null
          }
        },
        "c01f951d1eea47bc9366978354c5a158": {
          "model_module": "@jupyter-widgets/controls",
          "model_name": "DescriptionStyleModel",
          "model_module_version": "1.5.0",
          "state": {
            "_model_module": "@jupyter-widgets/controls",
            "_model_module_version": "1.5.0",
            "_model_name": "DescriptionStyleModel",
            "_view_count": null,
            "_view_module": "@jupyter-widgets/base",
            "_view_module_version": "1.2.0",
            "_view_name": "StyleView",
            "description_width": ""
          }
        },
        "c2fd89f9d95248388cebd103c758b7c8": {
          "model_module": "@jupyter-widgets/controls",
          "model_name": "HBoxModel",
          "model_module_version": "1.5.0",
          "state": {
            "_dom_classes": [],
            "_model_module": "@jupyter-widgets/controls",
            "_model_module_version": "1.5.0",
            "_model_name": "HBoxModel",
            "_view_count": null,
            "_view_module": "@jupyter-widgets/controls",
            "_view_module_version": "1.5.0",
            "_view_name": "HBoxView",
            "box_style": "",
            "children": [
              "IPY_MODEL_c4046eb11d8f4c958673f63b7002a082",
              "IPY_MODEL_afcce217b4c342bd8f0de5027bd6fb4b",
              "IPY_MODEL_13a002f5b26c441c97ce58f2c2eb7930"
            ],
            "layout": "IPY_MODEL_6dbb73e4619f43d083f485a448a1c44b"
          }
        },
        "c4046eb11d8f4c958673f63b7002a082": {
          "model_module": "@jupyter-widgets/controls",
          "model_name": "HTMLModel",
          "model_module_version": "1.5.0",
          "state": {
            "_dom_classes": [],
            "_model_module": "@jupyter-widgets/controls",
            "_model_module_version": "1.5.0",
            "_model_name": "HTMLModel",
            "_view_count": null,
            "_view_module": "@jupyter-widgets/controls",
            "_view_module_version": "1.5.0",
            "_view_name": "HTMLView",
            "description": "",
            "description_tooltip": null,
            "layout": "IPY_MODEL_77cc6bdbbe294836ae6b13e7028ed031",
            "placeholder": "​",
            "style": "IPY_MODEL_009ea8ca521a4a0480f157faf2be1fef",
            "value": "Map: 100%"
          }
        },
        "afcce217b4c342bd8f0de5027bd6fb4b": {
          "model_module": "@jupyter-widgets/controls",
          "model_name": "FloatProgressModel",
          "model_module_version": "1.5.0",
          "state": {
            "_dom_classes": [],
            "_model_module": "@jupyter-widgets/controls",
            "_model_module_version": "1.5.0",
            "_model_name": "FloatProgressModel",
            "_view_count": null,
            "_view_module": "@jupyter-widgets/controls",
            "_view_module_version": "1.5.0",
            "_view_name": "ProgressView",
            "bar_style": "success",
            "description": "",
            "description_tooltip": null,
            "layout": "IPY_MODEL_4d3dee7e742246a6964f69bc678b6ae1",
            "max": 761,
            "min": 0,
            "orientation": "horizontal",
            "style": "IPY_MODEL_446e94e46c1843e69c3965a0d646c29a",
            "value": 761
          }
        },
        "13a002f5b26c441c97ce58f2c2eb7930": {
          "model_module": "@jupyter-widgets/controls",
          "model_name": "HTMLModel",
          "model_module_version": "1.5.0",
          "state": {
            "_dom_classes": [],
            "_model_module": "@jupyter-widgets/controls",
            "_model_module_version": "1.5.0",
            "_model_name": "HTMLModel",
            "_view_count": null,
            "_view_module": "@jupyter-widgets/controls",
            "_view_module_version": "1.5.0",
            "_view_name": "HTMLView",
            "description": "",
            "description_tooltip": null,
            "layout": "IPY_MODEL_2ad230bc98924a649a30f718c5c2d1ce",
            "placeholder": "​",
            "style": "IPY_MODEL_77371804e5884019947e5beba7f360b5",
            "value": " 761/761 [00:04&lt;00:00, 168.24 examples/s]"
          }
        },
        "6dbb73e4619f43d083f485a448a1c44b": {
          "model_module": "@jupyter-widgets/base",
          "model_name": "LayoutModel",
          "model_module_version": "1.2.0",
          "state": {
            "_model_module": "@jupyter-widgets/base",
            "_model_module_version": "1.2.0",
            "_model_name": "LayoutModel",
            "_view_count": null,
            "_view_module": "@jupyter-widgets/base",
            "_view_module_version": "1.2.0",
            "_view_name": "LayoutView",
            "align_content": null,
            "align_items": null,
            "align_self": null,
            "border": null,
            "bottom": null,
            "display": null,
            "flex": null,
            "flex_flow": null,
            "grid_area": null,
            "grid_auto_columns": null,
            "grid_auto_flow": null,
            "grid_auto_rows": null,
            "grid_column": null,
            "grid_gap": null,
            "grid_row": null,
            "grid_template_areas": null,
            "grid_template_columns": null,
            "grid_template_rows": null,
            "height": null,
            "justify_content": null,
            "justify_items": null,
            "left": null,
            "margin": null,
            "max_height": null,
            "max_width": null,
            "min_height": null,
            "min_width": null,
            "object_fit": null,
            "object_position": null,
            "order": null,
            "overflow": null,
            "overflow_x": null,
            "overflow_y": null,
            "padding": null,
            "right": null,
            "top": null,
            "visibility": null,
            "width": null
          }
        },
        "77cc6bdbbe294836ae6b13e7028ed031": {
          "model_module": "@jupyter-widgets/base",
          "model_name": "LayoutModel",
          "model_module_version": "1.2.0",
          "state": {
            "_model_module": "@jupyter-widgets/base",
            "_model_module_version": "1.2.0",
            "_model_name": "LayoutModel",
            "_view_count": null,
            "_view_module": "@jupyter-widgets/base",
            "_view_module_version": "1.2.0",
            "_view_name": "LayoutView",
            "align_content": null,
            "align_items": null,
            "align_self": null,
            "border": null,
            "bottom": null,
            "display": null,
            "flex": null,
            "flex_flow": null,
            "grid_area": null,
            "grid_auto_columns": null,
            "grid_auto_flow": null,
            "grid_auto_rows": null,
            "grid_column": null,
            "grid_gap": null,
            "grid_row": null,
            "grid_template_areas": null,
            "grid_template_columns": null,
            "grid_template_rows": null,
            "height": null,
            "justify_content": null,
            "justify_items": null,
            "left": null,
            "margin": null,
            "max_height": null,
            "max_width": null,
            "min_height": null,
            "min_width": null,
            "object_fit": null,
            "object_position": null,
            "order": null,
            "overflow": null,
            "overflow_x": null,
            "overflow_y": null,
            "padding": null,
            "right": null,
            "top": null,
            "visibility": null,
            "width": null
          }
        },
        "009ea8ca521a4a0480f157faf2be1fef": {
          "model_module": "@jupyter-widgets/controls",
          "model_name": "DescriptionStyleModel",
          "model_module_version": "1.5.0",
          "state": {
            "_model_module": "@jupyter-widgets/controls",
            "_model_module_version": "1.5.0",
            "_model_name": "DescriptionStyleModel",
            "_view_count": null,
            "_view_module": "@jupyter-widgets/base",
            "_view_module_version": "1.2.0",
            "_view_name": "StyleView",
            "description_width": ""
          }
        },
        "4d3dee7e742246a6964f69bc678b6ae1": {
          "model_module": "@jupyter-widgets/base",
          "model_name": "LayoutModel",
          "model_module_version": "1.2.0",
          "state": {
            "_model_module": "@jupyter-widgets/base",
            "_model_module_version": "1.2.0",
            "_model_name": "LayoutModel",
            "_view_count": null,
            "_view_module": "@jupyter-widgets/base",
            "_view_module_version": "1.2.0",
            "_view_name": "LayoutView",
            "align_content": null,
            "align_items": null,
            "align_self": null,
            "border": null,
            "bottom": null,
            "display": null,
            "flex": null,
            "flex_flow": null,
            "grid_area": null,
            "grid_auto_columns": null,
            "grid_auto_flow": null,
            "grid_auto_rows": null,
            "grid_column": null,
            "grid_gap": null,
            "grid_row": null,
            "grid_template_areas": null,
            "grid_template_columns": null,
            "grid_template_rows": null,
            "height": null,
            "justify_content": null,
            "justify_items": null,
            "left": null,
            "margin": null,
            "max_height": null,
            "max_width": null,
            "min_height": null,
            "min_width": null,
            "object_fit": null,
            "object_position": null,
            "order": null,
            "overflow": null,
            "overflow_x": null,
            "overflow_y": null,
            "padding": null,
            "right": null,
            "top": null,
            "visibility": null,
            "width": null
          }
        },
        "446e94e46c1843e69c3965a0d646c29a": {
          "model_module": "@jupyter-widgets/controls",
          "model_name": "ProgressStyleModel",
          "model_module_version": "1.5.0",
          "state": {
            "_model_module": "@jupyter-widgets/controls",
            "_model_module_version": "1.5.0",
            "_model_name": "ProgressStyleModel",
            "_view_count": null,
            "_view_module": "@jupyter-widgets/base",
            "_view_module_version": "1.2.0",
            "_view_name": "StyleView",
            "bar_color": null,
            "description_width": ""
          }
        },
        "2ad230bc98924a649a30f718c5c2d1ce": {
          "model_module": "@jupyter-widgets/base",
          "model_name": "LayoutModel",
          "model_module_version": "1.2.0",
          "state": {
            "_model_module": "@jupyter-widgets/base",
            "_model_module_version": "1.2.0",
            "_model_name": "LayoutModel",
            "_view_count": null,
            "_view_module": "@jupyter-widgets/base",
            "_view_module_version": "1.2.0",
            "_view_name": "LayoutView",
            "align_content": null,
            "align_items": null,
            "align_self": null,
            "border": null,
            "bottom": null,
            "display": null,
            "flex": null,
            "flex_flow": null,
            "grid_area": null,
            "grid_auto_columns": null,
            "grid_auto_flow": null,
            "grid_auto_rows": null,
            "grid_column": null,
            "grid_gap": null,
            "grid_row": null,
            "grid_template_areas": null,
            "grid_template_columns": null,
            "grid_template_rows": null,
            "height": null,
            "justify_content": null,
            "justify_items": null,
            "left": null,
            "margin": null,
            "max_height": null,
            "max_width": null,
            "min_height": null,
            "min_width": null,
            "object_fit": null,
            "object_position": null,
            "order": null,
            "overflow": null,
            "overflow_x": null,
            "overflow_y": null,
            "padding": null,
            "right": null,
            "top": null,
            "visibility": null,
            "width": null
          }
        },
        "77371804e5884019947e5beba7f360b5": {
          "model_module": "@jupyter-widgets/controls",
          "model_name": "DescriptionStyleModel",
          "model_module_version": "1.5.0",
          "state": {
            "_model_module": "@jupyter-widgets/controls",
            "_model_module_version": "1.5.0",
            "_model_name": "DescriptionStyleModel",
            "_view_count": null,
            "_view_module": "@jupyter-widgets/base",
            "_view_module_version": "1.2.0",
            "_view_name": "StyleView",
            "description_width": ""
          }
        },
        "ebe869d1f2a448cca8f61ea2dcaf832e": {
          "model_module": "@jupyter-widgets/controls",
          "model_name": "HBoxModel",
          "model_module_version": "1.5.0",
          "state": {
            "_dom_classes": [],
            "_model_module": "@jupyter-widgets/controls",
            "_model_module_version": "1.5.0",
            "_model_name": "HBoxModel",
            "_view_count": null,
            "_view_module": "@jupyter-widgets/controls",
            "_view_module_version": "1.5.0",
            "_view_name": "HBoxView",
            "box_style": "",
            "children": [
              "IPY_MODEL_d2b07205739349faab6793c1b2b0707a",
              "IPY_MODEL_3fa7b26b5ff9474080615b7994a9f99d",
              "IPY_MODEL_081d934d421644cfb14149ab3158bc09"
            ],
            "layout": "IPY_MODEL_4cf0b79d01dc44939f5142636ab7d168"
          }
        },
        "d2b07205739349faab6793c1b2b0707a": {
          "model_module": "@jupyter-widgets/controls",
          "model_name": "HTMLModel",
          "model_module_version": "1.5.0",
          "state": {
            "_dom_classes": [],
            "_model_module": "@jupyter-widgets/controls",
            "_model_module_version": "1.5.0",
            "_model_name": "HTMLModel",
            "_view_count": null,
            "_view_module": "@jupyter-widgets/controls",
            "_view_module_version": "1.5.0",
            "_view_name": "HTMLView",
            "description": "",
            "description_tooltip": null,
            "layout": "IPY_MODEL_87823762946e495cb9af90d4c15bcd65",
            "placeholder": "​",
            "style": "IPY_MODEL_8687fa9e65c647c695723ae296e45a65",
            "value": " 10%"
          }
        },
        "3fa7b26b5ff9474080615b7994a9f99d": {
          "model_module": "@jupyter-widgets/controls",
          "model_name": "FloatProgressModel",
          "model_module_version": "1.5.0",
          "state": {
            "_dom_classes": [],
            "_model_module": "@jupyter-widgets/controls",
            "_model_module_version": "1.5.0",
            "_model_name": "FloatProgressModel",
            "_view_count": null,
            "_view_module": "@jupyter-widgets/controls",
            "_view_module_version": "1.5.0",
            "_view_name": "ProgressView",
            "bar_style": "",
            "description": "",
            "description_tooltip": null,
            "layout": "IPY_MODEL_e48951982f4a43d188b7648d028835c0",
            "max": 4581,
            "min": 0,
            "orientation": "horizontal",
            "style": "IPY_MODEL_05ea369fd0ef45cf97cdee5dbc9812f4",
            "value": 461
          }
        },
        "081d934d421644cfb14149ab3158bc09": {
          "model_module": "@jupyter-widgets/controls",
          "model_name": "HTMLModel",
          "model_module_version": "1.5.0",
          "state": {
            "_dom_classes": [],
            "_model_module": "@jupyter-widgets/controls",
            "_model_module_version": "1.5.0",
            "_model_name": "HTMLModel",
            "_view_count": null,
            "_view_module": "@jupyter-widgets/controls",
            "_view_module_version": "1.5.0",
            "_view_name": "HTMLView",
            "description": "",
            "description_tooltip": null,
            "layout": "IPY_MODEL_e1ade5126a0140e69907c0ca0354a2c4",
            "placeholder": "​",
            "style": "IPY_MODEL_e57c22a1b9f747d286ffb5ae9b9af77a",
            "value": " 461/4581 [05:38&lt;50:01,  1.37it/s]"
          }
        },
        "4cf0b79d01dc44939f5142636ab7d168": {
          "model_module": "@jupyter-widgets/base",
          "model_name": "LayoutModel",
          "model_module_version": "1.2.0",
          "state": {
            "_model_module": "@jupyter-widgets/base",
            "_model_module_version": "1.2.0",
            "_model_name": "LayoutModel",
            "_view_count": null,
            "_view_module": "@jupyter-widgets/base",
            "_view_module_version": "1.2.0",
            "_view_name": "LayoutView",
            "align_content": null,
            "align_items": null,
            "align_self": null,
            "border": null,
            "bottom": null,
            "display": null,
            "flex": null,
            "flex_flow": null,
            "grid_area": null,
            "grid_auto_columns": null,
            "grid_auto_flow": null,
            "grid_auto_rows": null,
            "grid_column": null,
            "grid_gap": null,
            "grid_row": null,
            "grid_template_areas": null,
            "grid_template_columns": null,
            "grid_template_rows": null,
            "height": null,
            "justify_content": null,
            "justify_items": null,
            "left": null,
            "margin": null,
            "max_height": null,
            "max_width": null,
            "min_height": null,
            "min_width": null,
            "object_fit": null,
            "object_position": null,
            "order": null,
            "overflow": null,
            "overflow_x": null,
            "overflow_y": null,
            "padding": null,
            "right": null,
            "top": null,
            "visibility": null,
            "width": null
          }
        },
        "87823762946e495cb9af90d4c15bcd65": {
          "model_module": "@jupyter-widgets/base",
          "model_name": "LayoutModel",
          "model_module_version": "1.2.0",
          "state": {
            "_model_module": "@jupyter-widgets/base",
            "_model_module_version": "1.2.0",
            "_model_name": "LayoutModel",
            "_view_count": null,
            "_view_module": "@jupyter-widgets/base",
            "_view_module_version": "1.2.0",
            "_view_name": "LayoutView",
            "align_content": null,
            "align_items": null,
            "align_self": null,
            "border": null,
            "bottom": null,
            "display": null,
            "flex": null,
            "flex_flow": null,
            "grid_area": null,
            "grid_auto_columns": null,
            "grid_auto_flow": null,
            "grid_auto_rows": null,
            "grid_column": null,
            "grid_gap": null,
            "grid_row": null,
            "grid_template_areas": null,
            "grid_template_columns": null,
            "grid_template_rows": null,
            "height": null,
            "justify_content": null,
            "justify_items": null,
            "left": null,
            "margin": null,
            "max_height": null,
            "max_width": null,
            "min_height": null,
            "min_width": null,
            "object_fit": null,
            "object_position": null,
            "order": null,
            "overflow": null,
            "overflow_x": null,
            "overflow_y": null,
            "padding": null,
            "right": null,
            "top": null,
            "visibility": null,
            "width": null
          }
        },
        "8687fa9e65c647c695723ae296e45a65": {
          "model_module": "@jupyter-widgets/controls",
          "model_name": "DescriptionStyleModel",
          "model_module_version": "1.5.0",
          "state": {
            "_model_module": "@jupyter-widgets/controls",
            "_model_module_version": "1.5.0",
            "_model_name": "DescriptionStyleModel",
            "_view_count": null,
            "_view_module": "@jupyter-widgets/base",
            "_view_module_version": "1.2.0",
            "_view_name": "StyleView",
            "description_width": ""
          }
        },
        "e48951982f4a43d188b7648d028835c0": {
          "model_module": "@jupyter-widgets/base",
          "model_name": "LayoutModel",
          "model_module_version": "1.2.0",
          "state": {
            "_model_module": "@jupyter-widgets/base",
            "_model_module_version": "1.2.0",
            "_model_name": "LayoutModel",
            "_view_count": null,
            "_view_module": "@jupyter-widgets/base",
            "_view_module_version": "1.2.0",
            "_view_name": "LayoutView",
            "align_content": null,
            "align_items": null,
            "align_self": null,
            "border": null,
            "bottom": null,
            "display": null,
            "flex": null,
            "flex_flow": null,
            "grid_area": null,
            "grid_auto_columns": null,
            "grid_auto_flow": null,
            "grid_auto_rows": null,
            "grid_column": null,
            "grid_gap": null,
            "grid_row": null,
            "grid_template_areas": null,
            "grid_template_columns": null,
            "grid_template_rows": null,
            "height": null,
            "justify_content": null,
            "justify_items": null,
            "left": null,
            "margin": null,
            "max_height": null,
            "max_width": null,
            "min_height": null,
            "min_width": null,
            "object_fit": null,
            "object_position": null,
            "order": null,
            "overflow": null,
            "overflow_x": null,
            "overflow_y": null,
            "padding": null,
            "right": null,
            "top": null,
            "visibility": null,
            "width": null
          }
        },
        "05ea369fd0ef45cf97cdee5dbc9812f4": {
          "model_module": "@jupyter-widgets/controls",
          "model_name": "ProgressStyleModel",
          "model_module_version": "1.5.0",
          "state": {
            "_model_module": "@jupyter-widgets/controls",
            "_model_module_version": "1.5.0",
            "_model_name": "ProgressStyleModel",
            "_view_count": null,
            "_view_module": "@jupyter-widgets/base",
            "_view_module_version": "1.2.0",
            "_view_name": "StyleView",
            "bar_color": null,
            "description_width": ""
          }
        },
        "e1ade5126a0140e69907c0ca0354a2c4": {
          "model_module": "@jupyter-widgets/base",
          "model_name": "LayoutModel",
          "model_module_version": "1.2.0",
          "state": {
            "_model_module": "@jupyter-widgets/base",
            "_model_module_version": "1.2.0",
            "_model_name": "LayoutModel",
            "_view_count": null,
            "_view_module": "@jupyter-widgets/base",
            "_view_module_version": "1.2.0",
            "_view_name": "LayoutView",
            "align_content": null,
            "align_items": null,
            "align_self": null,
            "border": null,
            "bottom": null,
            "display": null,
            "flex": null,
            "flex_flow": null,
            "grid_area": null,
            "grid_auto_columns": null,
            "grid_auto_flow": null,
            "grid_auto_rows": null,
            "grid_column": null,
            "grid_gap": null,
            "grid_row": null,
            "grid_template_areas": null,
            "grid_template_columns": null,
            "grid_template_rows": null,
            "height": null,
            "justify_content": null,
            "justify_items": null,
            "left": null,
            "margin": null,
            "max_height": null,
            "max_width": null,
            "min_height": null,
            "min_width": null,
            "object_fit": null,
            "object_position": null,
            "order": null,
            "overflow": null,
            "overflow_x": null,
            "overflow_y": null,
            "padding": null,
            "right": null,
            "top": null,
            "visibility": null,
            "width": null
          }
        },
        "e57c22a1b9f747d286ffb5ae9b9af77a": {
          "model_module": "@jupyter-widgets/controls",
          "model_name": "DescriptionStyleModel",
          "model_module_version": "1.5.0",
          "state": {
            "_model_module": "@jupyter-widgets/controls",
            "_model_module_version": "1.5.0",
            "_model_name": "DescriptionStyleModel",
            "_view_count": null,
            "_view_module": "@jupyter-widgets/base",
            "_view_module_version": "1.2.0",
            "_view_name": "StyleView",
            "description_width": ""
          }
        }
      }
    },
    "kaggle": {
      "accelerator": "none",
      "dataSources": [
        {
          "sourceId": 9694177,
          "sourceType": "datasetVersion",
          "datasetId": 5927079
        }
      ],
      "isInternetEnabled": true,
      "language": "python",
      "sourceType": "notebook",
      "isGpuEnabled": false
    }
  },
  "nbformat_minor": 0,
  "nbformat": 4,
  "cells": [
    {
      "cell_type": "code",
      "source": [
        "!pip install torch transformers datasets pandas scikit-learn\n",
        "!pip install imbalanced-learn"
      ],
      "metadata": {
        "id": "tkU4F88ORjFv",
        "execution": {
          "iopub.status.busy": "2024-10-28T10:37:59.412006Z",
          "iopub.execute_input": "2024-10-28T10:37:59.412706Z",
          "iopub.status.idle": "2024-10-28T10:38:22.944740Z",
          "shell.execute_reply.started": "2024-10-28T10:37:59.412649Z",
          "shell.execute_reply": "2024-10-28T10:38:22.943547Z"
        },
        "trusted": true,
        "colab": {
          "base_uri": "https://localhost:8080/"
        },
        "outputId": "29958d63-18db-4b75-cb35-fe05dd053739",
        "ExecuteTime": {
          "end_time": "2024-10-28T12:57:49.541541Z",
          "start_time": "2024-10-28T12:57:46.343839Z"
        }
      },
      "outputs": [
        {
          "output_type": "stream",
          "name": "stdout",
          "text": [
            "Requirement already satisfied: torch in /usr/local/lib/python3.11/dist-packages (2.5.1+cu121)\n",
            "Requirement already satisfied: transformers in /usr/local/lib/python3.11/dist-packages (4.47.1)\n",
            "Collecting datasets\n",
            "  Downloading datasets-3.2.0-py3-none-any.whl.metadata (20 kB)\n",
            "Requirement already satisfied: pandas in /usr/local/lib/python3.11/dist-packages (2.2.2)\n",
            "Requirement already satisfied: scikit-learn in /usr/local/lib/python3.11/dist-packages (1.6.0)\n",
            "Requirement already satisfied: filelock in /usr/local/lib/python3.11/dist-packages (from torch) (3.16.1)\n",
            "Requirement already satisfied: typing-extensions>=4.8.0 in /usr/local/lib/python3.11/dist-packages (from torch) (4.12.2)\n",
            "Requirement already satisfied: networkx in /usr/local/lib/python3.11/dist-packages (from torch) (3.4.2)\n",
            "Requirement already satisfied: jinja2 in /usr/local/lib/python3.11/dist-packages (from torch) (3.1.5)\n",
            "Requirement already satisfied: fsspec in /usr/local/lib/python3.11/dist-packages (from torch) (2024.10.0)\n",
            "Requirement already satisfied: nvidia-cuda-nvrtc-cu12==12.1.105 in /usr/local/lib/python3.11/dist-packages (from torch) (12.1.105)\n",
            "Requirement already satisfied: nvidia-cuda-runtime-cu12==12.1.105 in /usr/local/lib/python3.11/dist-packages (from torch) (12.1.105)\n",
            "Requirement already satisfied: nvidia-cuda-cupti-cu12==12.1.105 in /usr/local/lib/python3.11/dist-packages (from torch) (12.1.105)\n",
            "Requirement already satisfied: nvidia-cudnn-cu12==9.1.0.70 in /usr/local/lib/python3.11/dist-packages (from torch) (9.1.0.70)\n",
            "Requirement already satisfied: nvidia-cublas-cu12==12.1.3.1 in /usr/local/lib/python3.11/dist-packages (from torch) (12.1.3.1)\n",
            "Requirement already satisfied: nvidia-cufft-cu12==11.0.2.54 in /usr/local/lib/python3.11/dist-packages (from torch) (11.0.2.54)\n",
            "Requirement already satisfied: nvidia-curand-cu12==10.3.2.106 in /usr/local/lib/python3.11/dist-packages (from torch) (10.3.2.106)\n",
            "Requirement already satisfied: nvidia-cusolver-cu12==11.4.5.107 in /usr/local/lib/python3.11/dist-packages (from torch) (11.4.5.107)\n",
            "Requirement already satisfied: nvidia-cusparse-cu12==12.1.0.106 in /usr/local/lib/python3.11/dist-packages (from torch) (12.1.0.106)\n",
            "Requirement already satisfied: nvidia-nccl-cu12==2.21.5 in /usr/local/lib/python3.11/dist-packages (from torch) (2.21.5)\n",
            "Requirement already satisfied: nvidia-nvtx-cu12==12.1.105 in /usr/local/lib/python3.11/dist-packages (from torch) (12.1.105)\n",
            "Requirement already satisfied: triton==3.1.0 in /usr/local/lib/python3.11/dist-packages (from torch) (3.1.0)\n",
            "Requirement already satisfied: sympy==1.13.1 in /usr/local/lib/python3.11/dist-packages (from torch) (1.13.1)\n",
            "Requirement already satisfied: nvidia-nvjitlink-cu12 in /usr/local/lib/python3.11/dist-packages (from nvidia-cusolver-cu12==11.4.5.107->torch) (12.6.85)\n",
            "Requirement already satisfied: mpmath<1.4,>=1.1.0 in /usr/local/lib/python3.11/dist-packages (from sympy==1.13.1->torch) (1.3.0)\n",
            "Requirement already satisfied: huggingface-hub<1.0,>=0.24.0 in /usr/local/lib/python3.11/dist-packages (from transformers) (0.27.1)\n",
            "Requirement already satisfied: numpy>=1.17 in /usr/local/lib/python3.11/dist-packages (from transformers) (1.26.4)\n",
            "Requirement already satisfied: packaging>=20.0 in /usr/local/lib/python3.11/dist-packages (from transformers) (24.2)\n",
            "Requirement already satisfied: pyyaml>=5.1 in /usr/local/lib/python3.11/dist-packages (from transformers) (6.0.2)\n",
            "Requirement already satisfied: regex!=2019.12.17 in /usr/local/lib/python3.11/dist-packages (from transformers) (2024.11.6)\n",
            "Requirement already satisfied: requests in /usr/local/lib/python3.11/dist-packages (from transformers) (2.32.3)\n",
            "Requirement already satisfied: tokenizers<0.22,>=0.21 in /usr/local/lib/python3.11/dist-packages (from transformers) (0.21.0)\n",
            "Requirement already satisfied: safetensors>=0.4.1 in /usr/local/lib/python3.11/dist-packages (from transformers) (0.5.2)\n",
            "Requirement already satisfied: tqdm>=4.27 in /usr/local/lib/python3.11/dist-packages (from transformers) (4.67.1)\n",
            "Requirement already satisfied: pyarrow>=15.0.0 in /usr/local/lib/python3.11/dist-packages (from datasets) (17.0.0)\n",
            "Collecting dill<0.3.9,>=0.3.0 (from datasets)\n",
            "  Downloading dill-0.3.8-py3-none-any.whl.metadata (10 kB)\n",
            "Collecting xxhash (from datasets)\n",
            "  Downloading xxhash-3.5.0-cp311-cp311-manylinux_2_17_x86_64.manylinux2014_x86_64.whl.metadata (12 kB)\n",
            "Collecting multiprocess<0.70.17 (from datasets)\n",
            "  Downloading multiprocess-0.70.16-py311-none-any.whl.metadata (7.2 kB)\n",
            "Collecting fsspec (from torch)\n",
            "  Downloading fsspec-2024.9.0-py3-none-any.whl.metadata (11 kB)\n",
            "Requirement already satisfied: aiohttp in /usr/local/lib/python3.11/dist-packages (from datasets) (3.11.11)\n",
            "Requirement already satisfied: python-dateutil>=2.8.2 in /usr/local/lib/python3.11/dist-packages (from pandas) (2.8.2)\n",
            "Requirement already satisfied: pytz>=2020.1 in /usr/local/lib/python3.11/dist-packages (from pandas) (2024.2)\n",
            "Requirement already satisfied: tzdata>=2022.7 in /usr/local/lib/python3.11/dist-packages (from pandas) (2024.2)\n",
            "Requirement already satisfied: scipy>=1.6.0 in /usr/local/lib/python3.11/dist-packages (from scikit-learn) (1.13.1)\n",
            "Requirement already satisfied: joblib>=1.2.0 in /usr/local/lib/python3.11/dist-packages (from scikit-learn) (1.4.2)\n",
            "Requirement already satisfied: threadpoolctl>=3.1.0 in /usr/local/lib/python3.11/dist-packages (from scikit-learn) (3.5.0)\n",
            "Requirement already satisfied: aiohappyeyeballs>=2.3.0 in /usr/local/lib/python3.11/dist-packages (from aiohttp->datasets) (2.4.4)\n",
            "Requirement already satisfied: aiosignal>=1.1.2 in /usr/local/lib/python3.11/dist-packages (from aiohttp->datasets) (1.3.2)\n",
            "Requirement already satisfied: attrs>=17.3.0 in /usr/local/lib/python3.11/dist-packages (from aiohttp->datasets) (24.3.0)\n",
            "Requirement already satisfied: frozenlist>=1.1.1 in /usr/local/lib/python3.11/dist-packages (from aiohttp->datasets) (1.5.0)\n",
            "Requirement already satisfied: multidict<7.0,>=4.5 in /usr/local/lib/python3.11/dist-packages (from aiohttp->datasets) (6.1.0)\n",
            "Requirement already satisfied: propcache>=0.2.0 in /usr/local/lib/python3.11/dist-packages (from aiohttp->datasets) (0.2.1)\n",
            "Requirement already satisfied: yarl<2.0,>=1.17.0 in /usr/local/lib/python3.11/dist-packages (from aiohttp->datasets) (1.18.3)\n",
            "Requirement already satisfied: six>=1.5 in /usr/local/lib/python3.11/dist-packages (from python-dateutil>=2.8.2->pandas) (1.17.0)\n",
            "Requirement already satisfied: charset-normalizer<4,>=2 in /usr/local/lib/python3.11/dist-packages (from requests->transformers) (3.4.1)\n",
            "Requirement already satisfied: idna<4,>=2.5 in /usr/local/lib/python3.11/dist-packages (from requests->transformers) (3.10)\n",
            "Requirement already satisfied: urllib3<3,>=1.21.1 in /usr/local/lib/python3.11/dist-packages (from requests->transformers) (2.3.0)\n",
            "Requirement already satisfied: certifi>=2017.4.17 in /usr/local/lib/python3.11/dist-packages (from requests->transformers) (2024.12.14)\n",
            "Requirement already satisfied: MarkupSafe>=2.0 in /usr/local/lib/python3.11/dist-packages (from jinja2->torch) (3.0.2)\n",
            "Downloading datasets-3.2.0-py3-none-any.whl (480 kB)\n",
            "\u001b[2K   \u001b[90m━━━━━━━━━━━━━━━━━━━━━━━━━━━━━━━━━━━━━━━━\u001b[0m \u001b[32m480.6/480.6 kB\u001b[0m \u001b[31m8.9 MB/s\u001b[0m eta \u001b[36m0:00:00\u001b[0m\n",
            "\u001b[?25hDownloading dill-0.3.8-py3-none-any.whl (116 kB)\n",
            "\u001b[2K   \u001b[90m━━━━━━━━━━━━━━━━━━━━━━━━━━━━━━━━━━━━━━━━\u001b[0m \u001b[32m116.3/116.3 kB\u001b[0m \u001b[31m11.3 MB/s\u001b[0m eta \u001b[36m0:00:00\u001b[0m\n",
            "\u001b[?25hDownloading fsspec-2024.9.0-py3-none-any.whl (179 kB)\n",
            "\u001b[2K   \u001b[90m━━━━━━━━━━━━━━━━━━━━━━━━━━━━━━━━━━━━━━━━\u001b[0m \u001b[32m179.3/179.3 kB\u001b[0m \u001b[31m17.2 MB/s\u001b[0m eta \u001b[36m0:00:00\u001b[0m\n",
            "\u001b[?25hDownloading multiprocess-0.70.16-py311-none-any.whl (143 kB)\n",
            "\u001b[2K   \u001b[90m━━━━━━━━━━━━━━━━━━━━━━━━━━━━━━━━━━━━━━━━\u001b[0m \u001b[32m143.5/143.5 kB\u001b[0m \u001b[31m13.5 MB/s\u001b[0m eta \u001b[36m0:00:00\u001b[0m\n",
            "\u001b[?25hDownloading xxhash-3.5.0-cp311-cp311-manylinux_2_17_x86_64.manylinux2014_x86_64.whl (194 kB)\n",
            "\u001b[2K   \u001b[90m━━━━━━━━━━━━━━━━━━━━━━━━━━━━━━━━━━━━━━━━\u001b[0m \u001b[32m194.8/194.8 kB\u001b[0m \u001b[31m19.0 MB/s\u001b[0m eta \u001b[36m0:00:00\u001b[0m\n",
            "\u001b[?25hInstalling collected packages: xxhash, fsspec, dill, multiprocess, datasets\n",
            "  Attempting uninstall: fsspec\n",
            "    Found existing installation: fsspec 2024.10.0\n",
            "    Uninstalling fsspec-2024.10.0:\n",
            "      Successfully uninstalled fsspec-2024.10.0\n",
            "\u001b[31mERROR: pip's dependency resolver does not currently take into account all the packages that are installed. This behaviour is the source of the following dependency conflicts.\n",
            "gcsfs 2024.10.0 requires fsspec==2024.10.0, but you have fsspec 2024.9.0 which is incompatible.\u001b[0m\u001b[31m\n",
            "\u001b[0mSuccessfully installed datasets-3.2.0 dill-0.3.8 fsspec-2024.9.0 multiprocess-0.70.16 xxhash-3.5.0\n",
            "Requirement already satisfied: imbalanced-learn in /usr/local/lib/python3.11/dist-packages (0.13.0)\n",
            "Requirement already satisfied: numpy<3,>=1.24.3 in /usr/local/lib/python3.11/dist-packages (from imbalanced-learn) (1.26.4)\n",
            "Requirement already satisfied: scipy<2,>=1.10.1 in /usr/local/lib/python3.11/dist-packages (from imbalanced-learn) (1.13.1)\n",
            "Requirement already satisfied: scikit-learn<2,>=1.3.2 in /usr/local/lib/python3.11/dist-packages (from imbalanced-learn) (1.6.0)\n",
            "Requirement already satisfied: sklearn-compat<1,>=0.1 in /usr/local/lib/python3.11/dist-packages (from imbalanced-learn) (0.1.3)\n",
            "Requirement already satisfied: joblib<2,>=1.1.1 in /usr/local/lib/python3.11/dist-packages (from imbalanced-learn) (1.4.2)\n",
            "Requirement already satisfied: threadpoolctl<4,>=2.0.0 in /usr/local/lib/python3.11/dist-packages (from imbalanced-learn) (3.5.0)\n"
          ]
        }
      ],
      "execution_count": 19
    },
    {
      "cell_type": "code",
      "source": [
        "# incidents_rest.csv is the dataset besides the trial\n",
        "\n",
        "# incidents_sample.csv is the trial dataset"
      ],
      "metadata": {
        "id": "0dlvS4QLGAsw",
        "execution": {
          "iopub.status.busy": "2024-10-28T10:38:22.946291Z",
          "iopub.execute_input": "2024-10-28T10:38:22.946647Z",
          "iopub.status.idle": "2024-10-28T10:38:22.951527Z",
          "shell.execute_reply.started": "2024-10-28T10:38:22.946612Z",
          "shell.execute_reply": "2024-10-28T10:38:22.950593Z"
        },
        "trusted": true,
        "ExecuteTime": {
          "end_time": "2024-10-28T12:57:49.543997Z",
          "start_time": "2024-10-28T12:57:49.541541Z"
        }
      },
      "outputs": [],
      "execution_count": null
    },
    {
      "cell_type": "code",
      "source": [
        "from transformers import BertTokenizer\n",
        "\n",
        "import pandas as pd\n",
        "\n",
        "# data = pd.read_csv('incidents_rest.csv', index_col=0)\n",
        "\n",
        "data = pd.read_csv('incidents_train.csv', index_col=0)\n",
        "\n",
        "data.sample()"
      ],
      "metadata": {
        "id": "cM9ZnMwdRb32",
        "outputId": "6352fc04-8dd7-4737-f524-90a493440b06",
        "execution": {
          "iopub.status.busy": "2024-10-28T10:38:22.952640Z",
          "iopub.execute_input": "2024-10-28T10:38:22.952938Z",
          "iopub.status.idle": "2024-10-28T10:38:25.780874Z",
          "shell.execute_reply.started": "2024-10-28T10:38:22.952908Z",
          "shell.execute_reply": "2024-10-28T10:38:25.779905Z"
        },
        "trusted": true,
        "colab": {
          "base_uri": "https://localhost:8080/",
          "height": 115
        },
        "ExecuteTime": {
          "end_time": "2024-10-28T12:57:51.595085Z",
          "start_time": "2024-10-28T12:57:49.544551Z"
        }
      },
      "outputs": [
        {
          "data": {
            "text/plain": [
              "      year  month  day country  \\\n",
              "1192  2015      2   10      us   \n",
              "\n",
              "                                                  title  \\\n",
              "1192  2015 - Hines Nut Company, Dallas, TX Announces...   \n",
              "\n",
              "                                                   text hazard-category  \\\n",
              "1192  FOR IMMEDIATE RELEASE — February 10, 2015 — Hi...      biological   \n",
              "\n",
              "                  product-category      hazard  product  \n",
              "1192  nuts, nut products and seeds  salmonella  walnuts  "
            ],
            "text/html": [
              "<div>\n",
              "<style scoped>\n",
              "    .dataframe tbody tr th:only-of-type {\n",
              "        vertical-align: middle;\n",
              "    }\n",
              "\n",
              "    .dataframe tbody tr th {\n",
              "        vertical-align: top;\n",
              "    }\n",
              "\n",
              "    .dataframe thead th {\n",
              "        text-align: right;\n",
              "    }\n",
              "</style>\n",
              "<table border=\"1\" class=\"dataframe\">\n",
              "  <thead>\n",
              "    <tr style=\"text-align: right;\">\n",
              "      <th></th>\n",
              "      <th>year</th>\n",
              "      <th>month</th>\n",
              "      <th>day</th>\n",
              "      <th>country</th>\n",
              "      <th>title</th>\n",
              "      <th>text</th>\n",
              "      <th>hazard-category</th>\n",
              "      <th>product-category</th>\n",
              "      <th>hazard</th>\n",
              "      <th>product</th>\n",
              "    </tr>\n",
              "  </thead>\n",
              "  <tbody>\n",
              "    <tr>\n",
              "      <th>1192</th>\n",
              "      <td>2015</td>\n",
              "      <td>2</td>\n",
              "      <td>10</td>\n",
              "      <td>us</td>\n",
              "      <td>2015 - Hines Nut Company, Dallas, TX Announces...</td>\n",
              "      <td>FOR IMMEDIATE RELEASE — February 10, 2015 — Hi...</td>\n",
              "      <td>biological</td>\n",
              "      <td>nuts, nut products and seeds</td>\n",
              "      <td>salmonella</td>\n",
              "      <td>walnuts</td>\n",
              "    </tr>\n",
              "  </tbody>\n",
              "</table>\n",
              "</div>"
            ]
          },
          "execution_count": 3,
          "metadata": {},
          "output_type": "execute_result"
        }
      ],
      "execution_count": null
    },
    {
      "cell_type": "markdown",
      "source": [],
      "metadata": {
        "id": "Xwq7bBRiFU-R"
      }
    },
    {
      "cell_type": "code",
      "source": [
        "data['title_text'] = data['title'] + data['text']"
      ],
      "metadata": {
        "execution": {
          "iopub.status.busy": "2024-10-28T10:38:25.783996Z",
          "iopub.execute_input": "2024-10-28T10:38:25.784409Z",
          "iopub.status.idle": "2024-10-28T10:38:25.805693Z",
          "shell.execute_reply.started": "2024-10-28T10:38:25.784346Z",
          "shell.execute_reply": "2024-10-28T10:38:25.804808Z"
        },
        "trusted": true,
        "id": "295bTgh0uLvG",
        "ExecuteTime": {
          "end_time": "2024-10-28T12:57:51.606467Z",
          "start_time": "2024-10-28T12:57:51.596083Z"
        }
      },
      "outputs": [],
      "execution_count": null
    },
    {
      "cell_type": "code",
      "source": [
        "import pandas as pd\n",
        "\n",
        "from datasets import Dataset\n",
        "\n",
        "from transformers import BertTokenizer, BertForSequenceClassification, AdamW, get_scheduler, DataCollatorWithPadding\n",
        "\n",
        "from torch.utils.data import DataLoader\n",
        "\n",
        "import torch\n",
        "\n",
        "from sklearn.model_selection import train_test_split\n",
        "\n",
        "from sklearn.preprocessing import LabelEncoder\n",
        "\n",
        "from tqdm.auto import tqdm\n",
        "\n",
        "from sklearn.metrics import classification_report"
      ],
      "metadata": {
        "id": "605zlIAbRvf2",
        "execution": {
          "iopub.status.busy": "2024-10-28T10:38:25.806861Z",
          "iopub.execute_input": "2024-10-28T10:38:25.807275Z",
          "iopub.status.idle": "2024-10-28T10:38:30.579825Z",
          "shell.execute_reply.started": "2024-10-28T10:38:25.807241Z",
          "shell.execute_reply": "2024-10-28T10:38:30.578944Z"
        },
        "trusted": true,
        "ExecuteTime": {
          "end_time": "2024-10-28T12:57:52.514907Z",
          "start_time": "2024-10-28T12:57:51.606467Z"
        }
      },
      "outputs": [],
      "execution_count": 20
    },
    {
      "cell_type": "code",
      "source": [
        "USE_GPU = True\n",
        "\n",
        "if USE_GPU and torch.cuda.is_available():\n",
        "    print('using device: cuda')"
      ],
      "metadata": {
        "execution": {
          "iopub.status.busy": "2024-10-28T10:38:30.580991Z",
          "iopub.execute_input": "2024-10-28T10:38:30.581667Z",
          "iopub.status.idle": "2024-10-28T10:38:30.621950Z",
          "shell.execute_reply.started": "2024-10-28T10:38:30.581630Z",
          "shell.execute_reply": "2024-10-28T10:38:30.620830Z"
        },
        "trusted": true,
        "colab": {
          "base_uri": "https://localhost:8080/"
        },
        "id": "a4NqKWtfuLvH",
        "outputId": "cdb75815-8912-49c7-ecf2-dec6c95be4ac",
        "ExecuteTime": {
          "end_time": "2024-10-28T12:57:52.534106Z",
          "start_time": "2024-10-28T12:57:52.515906Z"
        }
      },
      "outputs": [
        {
          "name": "stdout",
          "output_type": "stream",
          "text": [
            "using device: cuda\n"
          ]
        }
      ],
      "execution_count": null
    },
    {
      "cell_type": "code",
      "source": [
        "torch.device('cuda')"
      ],
      "metadata": {
        "execution": {
          "iopub.status.busy": "2024-10-28T10:38:30.623582Z",
          "iopub.execute_input": "2024-10-28T10:38:30.624282Z",
          "iopub.status.idle": "2024-10-28T10:38:30.638553Z",
          "shell.execute_reply.started": "2024-10-28T10:38:30.624233Z",
          "shell.execute_reply": "2024-10-28T10:38:30.637619Z"
        },
        "trusted": true,
        "colab": {
          "base_uri": "https://localhost:8080/"
        },
        "id": "TQD8eL_vuLvH",
        "outputId": "7a0f83fb-ad6e-4926-f57d-cb8e127a7ac6",
        "ExecuteTime": {
          "end_time": "2024-10-28T12:57:52.537142Z",
          "start_time": "2024-10-28T12:57:52.534106Z"
        }
      },
      "outputs": [
        {
          "data": {
            "text/plain": [
              "device(type='cuda')"
            ]
          },
          "execution_count": 7,
          "metadata": {},
          "output_type": "execute_result"
        }
      ],
      "execution_count": null
    },
    {
      "cell_type": "code",
      "source": [
        "data.text.str.split().apply(len).describe()"
      ],
      "metadata": {
        "id": "MP9QrtWbTx1z",
        "outputId": "7b32b337-dcb8-4743-a550-871bac382136",
        "execution": {
          "iopub.status.busy": "2024-10-28T10:38:30.639869Z",
          "iopub.execute_input": "2024-10-28T10:38:30.640165Z",
          "iopub.status.idle": "2024-10-28T10:38:30.892577Z",
          "shell.execute_reply.started": "2024-10-28T10:38:30.640134Z",
          "shell.execute_reply": "2024-10-28T10:38:30.891583Z"
        },
        "trusted": true,
        "colab": {
          "base_uri": "https://localhost:8080/",
          "height": 335
        },
        "ExecuteTime": {
          "end_time": "2024-10-28T12:57:52.690690Z",
          "start_time": "2024-10-28T12:57:52.537142Z"
        }
      },
      "outputs": [
        {
          "data": {
            "text/plain": [
              "count    5082.000000\n",
              "mean      353.254034\n",
              "std       297.662839\n",
              "min        10.000000\n",
              "25%       195.000000\n",
              "50%       306.000000\n",
              "75%       424.000000\n",
              "max      8406.000000\n",
              "Name: text, dtype: float64"
            ]
          },
          "execution_count": 8,
          "metadata": {},
          "output_type": "execute_result"
        }
      ],
      "execution_count": null
    },
    {
      "cell_type": "code",
      "source": [
        "tokenizer = BertTokenizer.from_pretrained('bert-base-uncased')\n",
        "\n",
        "\n",
        "\n",
        "def tokenize_function(examples):\n",
        "\n",
        "    return tokenizer(examples['title_text'], padding=True, truncation=True)"
      ],
      "metadata": {
        "id": "GDJkctu9XKvi",
        "outputId": "7a8b7510-284a-4a79-998a-4f288bb4a8bb",
        "execution": {
          "iopub.status.busy": "2024-10-28T10:38:30.894031Z",
          "iopub.execute_input": "2024-10-28T10:38:30.894471Z",
          "iopub.status.idle": "2024-10-28T10:38:31.172793Z",
          "shell.execute_reply.started": "2024-10-28T10:38:30.894426Z",
          "shell.execute_reply": "2024-10-28T10:38:31.171962Z"
        },
        "trusted": true,
        "colab": {
          "base_uri": "https://localhost:8080/",
          "height": 304,
          "referenced_widgets": [
            "aec1cde2eeff417e83de1ca2873246ef",
            "3ca9752a8976461988093eb5c5001843",
            "8b12e34043a04b0c99c3e6b4f874dd64",
            "654974dfa52042f483af4575b2d863f0",
            "a69cc79a141242eba091b509e24cb222",
            "51d5c29257fc44fcad667b6d061476e9",
            "5d2d1f8119124279a6923367e6cddf4d",
            "6b3c3d29c3be4dec8f224042f4786d7a",
            "f501d1deed86404eb8208f36bef8e6b5",
            "a06963c6d18a446aa6b93abf40cecec8",
            "ee137d13de3942d18a2801b97cdeae7a",
            "91dd6cca54544268b9a88378c02c678f",
            "1c6ab53275f54ae8aca96bc925f1b85c",
            "f73b0e2d6eaf464790c30c578f23f9bb",
            "dd2ed890b29f4fd29f87ae4620165360",
            "e0ce6b0fa3894b93acfa7ab82841b90d",
            "28a3b1d6b3e14fbd8a61f6e3201b4991",
            "ac115f1261a94853b88417c7f40d5be6",
            "799b6f174e444762924781b100abc3f4",
            "6971ae7617b2411a8d5ec43e95b50402",
            "ec64af13cbed4f7885d6f92c0c78a77d",
            "6e1bea47d02d4972b44640e1f027515d",
            "b14e7bc644074e0bacf645a89a39d066",
            "aaff13c5db3b46e79108025b2f4f136f",
            "206447893ad749c89e03f3767b1005bd",
            "e94b8e554efc4569a0cc9ec4d0e08956",
            "d9032fa109e7457cac0b642c70676f1a",
            "dbfa2937d5b448eebefd88eba6154022",
            "a0a0c5d2c77a4020846a7024759e216e",
            "b0d7464986e54fafa1b60731950e6788",
            "a38db137a1b2403a9dd93e332f61bed9",
            "d7e4f81fba054c4ca1b96b34e5bc416e",
            "5cc7af7027564a64872af26ae657171a",
            "27a9af7d2c8d4c5ba548f3d2ee0a2b06",
            "375e45ab6dd641ada1bab6d56dc4f270",
            "cd4f7bb1f4e04abe891859ad75dd9e5b",
            "f956bde15fee4b26ae370600be1cc0f4",
            "285959fbe3934bf78cf00bfb9092f5fa",
            "4c4548410b54456ab1fa5139c2330153",
            "7da26941fa2c4a6aa18af4cafe03b167",
            "6150427ab2db4f5ebc67324a4ef158ec",
            "67c2975929a64ae285f961bdd02c62ac",
            "019e291212c84cca8d7fea6b27125eb3",
            "f217cf35b4e5432a82cb0b13ae0f4ff2"
          ]
        },
        "ExecuteTime": {
          "end_time": "2024-10-28T12:57:53.750059Z",
          "start_time": "2024-10-28T12:57:52.690690Z"
        }
      },
      "outputs": [
        {
          "name": "stderr",
          "output_type": "stream",
          "text": [
            "C:\\Users\\lzh\\.conda\\envs\\DeepLearning\\Lib\\site-packages\\huggingface_hub\\file_download.py:1132: FutureWarning: `resume_download` is deprecated and will be removed in version 1.0.0. Downloads always resume when possible. If you want to force a new download, use `force_download=True`.\n",
            "  warnings.warn(\n"
          ]
        }
      ],
      "execution_count": null
    },
    {
      "cell_type": "markdown",
      "source": [
        "# Label: `Hazard Category`"
      ],
      "metadata": {
        "id": "UMbumTEsW5No"
      }
    },
    {
      "cell_type": "markdown",
      "source": [
        "* Choose your target"
      ],
      "metadata": {
        "id": "lK9Xj8TcYiwA"
      }
    },
    {
      "cell_type": "code",
      "source": [
        "label = 'hazard-category' # change this to: 'product-category', 'hazard', 'product' to alter the ground truth\n",
        "\n",
        "label_encoder = LabelEncoder()\n",
        "\n",
        "data['label'] = label_encoder.fit_transform(data[label])"
      ],
      "metadata": {
        "id": "jiMx7HNoUfNt",
        "execution": {
          "iopub.status.busy": "2024-10-28T10:38:31.173863Z",
          "iopub.execute_input": "2024-10-28T10:38:31.174165Z",
          "iopub.status.idle": "2024-10-28T10:38:31.180698Z",
          "shell.execute_reply.started": "2024-10-28T10:38:31.174133Z",
          "shell.execute_reply": "2024-10-28T10:38:31.179788Z"
        },
        "trusted": true,
        "ExecuteTime": {
          "end_time": "2024-10-28T12:57:53.753997Z",
          "start_time": "2024-10-28T12:57:53.751067Z"
        }
      },
      "outputs": [],
      "execution_count": 21
    },
    {
      "cell_type": "code",
      "source": [
        "model = BertForSequenceClassification.from_pretrained('bert-base-uncased', num_labels=len(data[label].unique()))\n",
        "\n",
        "model.to('cuda')  # Move model to GPU if available"
      ],
      "metadata": {
        "id": "OF9RyTv9SyuW",
        "outputId": "77f3606e-c7d0-4ca4-c707-f7aeaa12c71a",
        "execution": {
          "iopub.status.busy": "2024-10-28T10:38:31.181872Z",
          "iopub.execute_input": "2024-10-28T10:38:31.182235Z",
          "iopub.status.idle": "2024-10-28T10:38:31.918489Z",
          "shell.execute_reply.started": "2024-10-28T10:38:31.182201Z",
          "shell.execute_reply": "2024-10-28T10:38:31.917402Z"
        },
        "trusted": true,
        "colab": {
          "base_uri": "https://localhost:8080/",
          "height": 885,
          "referenced_widgets": [
            "4a19844196d04df1b1252162e4bc038d",
            "1f520e5502014a728e14fbfeb86a2606",
            "b39932adbf934bb784d2ced1cce915e2",
            "31bad2bc65234eb0beda67cae9461e1a",
            "6b86a6813e504738a7d880cb3c80adac",
            "0bce5b25e7d047528642189205b257ae",
            "b49d9650ff554fa6b69b5fd5c14b2a8a",
            "a70e3710ecee4098ab7dc108e2554c88",
            "ab429b28d1b74953ace7f5f59a9359b0",
            "1863831627a942c68bdc5bba72e05e4e",
            "da871ee562a14c6087d75e9b36a6546a"
          ]
        },
        "ExecuteTime": {
          "end_time": "2024-10-28T12:57:54.584955Z",
          "start_time": "2024-10-28T12:57:53.753997Z"
        }
      },
      "outputs": [
        {
          "name": "stderr",
          "output_type": "stream",
          "text": [
            "C:\\Users\\lzh\\.conda\\envs\\DeepLearning\\Lib\\site-packages\\huggingface_hub\\file_download.py:1132: FutureWarning: `resume_download` is deprecated and will be removed in version 1.0.0. Downloads always resume when possible. If you want to force a new download, use `force_download=True`.\n",
            "  warnings.warn(\n",
            "Some weights of BertForSequenceClassification were not initialized from the model checkpoint at bert-base-uncased and are newly initialized: ['classifier.bias', 'classifier.weight']\n",
            "You should probably TRAIN this model on a down-stream task to be able to use it for predictions and inference.\n"
          ]
        },
        {
          "data": {
            "text/plain": [
              "BertForSequenceClassification(\n",
              "  (bert): BertModel(\n",
              "    (embeddings): BertEmbeddings(\n",
              "      (word_embeddings): Embedding(30522, 768, padding_idx=0)\n",
              "      (position_embeddings): Embedding(512, 768)\n",
              "      (token_type_embeddings): Embedding(2, 768)\n",
              "      (LayerNorm): LayerNorm((768,), eps=1e-12, elementwise_affine=True)\n",
              "      (dropout): Dropout(p=0.1, inplace=False)\n",
              "    )\n",
              "    (encoder): BertEncoder(\n",
              "      (layer): ModuleList(\n",
              "        (0-11): 12 x BertLayer(\n",
              "          (attention): BertAttention(\n",
              "            (self): BertSelfAttention(\n",
              "              (query): Linear(in_features=768, out_features=768, bias=True)\n",
              "              (key): Linear(in_features=768, out_features=768, bias=True)\n",
              "              (value): Linear(in_features=768, out_features=768, bias=True)\n",
              "              (dropout): Dropout(p=0.1, inplace=False)\n",
              "            )\n",
              "            (output): BertSelfOutput(\n",
              "              (dense): Linear(in_features=768, out_features=768, bias=True)\n",
              "              (LayerNorm): LayerNorm((768,), eps=1e-12, elementwise_affine=True)\n",
              "              (dropout): Dropout(p=0.1, inplace=False)\n",
              "            )\n",
              "          )\n",
              "          (intermediate): BertIntermediate(\n",
              "            (dense): Linear(in_features=768, out_features=3072, bias=True)\n",
              "            (intermediate_act_fn): GELUActivation()\n",
              "          )\n",
              "          (output): BertOutput(\n",
              "            (dense): Linear(in_features=3072, out_features=768, bias=True)\n",
              "            (LayerNorm): LayerNorm((768,), eps=1e-12, elementwise_affine=True)\n",
              "            (dropout): Dropout(p=0.1, inplace=False)\n",
              "          )\n",
              "        )\n",
              "      )\n",
              "    )\n",
              "    (pooler): BertPooler(\n",
              "      (dense): Linear(in_features=768, out_features=768, bias=True)\n",
              "      (activation): Tanh()\n",
              "    )\n",
              "  )\n",
              "  (dropout): Dropout(p=0.1, inplace=False)\n",
              "  (classifier): Linear(in_features=768, out_features=10, bias=True)\n",
              ")"
            ]
          },
          "execution_count": 11,
          "metadata": {},
          "output_type": "execute_result"
        }
      ],
      "execution_count": null
    },
    {
      "cell_type": "markdown",
      "source": [
        "* Data preprocessing"
      ],
      "metadata": {
        "id": "c3XAnaaCYhIM"
      }
    },
    {
      "cell_type": "code",
      "source": [
        "\n",
        "\n",
        "import nltk\n",
        "import re\n",
        "from nltk.corpus import stopwords\n",
        "from nltk.tokenize import word_tokenize\n",
        "from nltk.stem import WordNetLemmatizer\n",
        "\n",
        "nltk.download('stopwords')\n",
        "nltk.download('punkt')\n",
        "nltk.download('wordnet')"
      ],
      "metadata": {
        "execution": {
          "iopub.status.busy": "2024-10-28T10:38:31.919629Z",
          "iopub.execute_input": "2024-10-28T10:38:31.919946Z",
          "iopub.status.idle": "2024-10-28T10:38:32.375478Z",
          "shell.execute_reply.started": "2024-10-28T10:38:31.919912Z",
          "shell.execute_reply": "2024-10-28T10:38:32.374517Z"
        },
        "trusted": true,
        "colab": {
          "base_uri": "https://localhost:8080/"
        },
        "id": "iA7KL16ruLvJ",
        "outputId": "2bd03047-a715-4139-a734-9c562959be88",
        "ExecuteTime": {
          "end_time": "2024-10-28T12:57:56.084975Z",
          "start_time": "2024-10-28T12:57:54.584955Z"
        }
      },
      "outputs": [
        {
          "output_type": "stream",
          "name": "stderr",
          "text": [
            "[nltk_data] Downloading package stopwords to /root/nltk_data...\n",
            "[nltk_data]   Unzipping corpora/stopwords.zip.\n",
            "[nltk_data] Downloading package punkt to /root/nltk_data...\n",
            "[nltk_data]   Unzipping tokenizers/punkt.zip.\n",
            "[nltk_data] Downloading package wordnet to /root/nltk_data...\n"
          ]
        },
        {
          "output_type": "execute_result",
          "data": {
            "text/plain": [
              "True"
            ]
          },
          "metadata": {},
          "execution_count": 22
        }
      ],
      "execution_count": 22
    },
    {
      "cell_type": "code",
      "source": [
        "\n",
        "\n",
        "\n",
        "\n",
        "\n",
        "\n",
        "\n",
        "\n",
        "# Get English stopwords\n",
        "\n",
        "stop_words = set(stopwords.words('english'))\n",
        "\n",
        "def remove_stopwords(text):\n",
        "\n",
        "    word_tokens = word_tokenize(text)\n",
        "\n",
        "    filtered_text = [word for word in word_tokens if word.lower() not in stop_words]\n",
        "\n",
        "    return ' '.join(filtered_text)\n",
        "\n",
        "\n",
        "\n",
        "def remove_numbers(text):\n",
        "\n",
        "    text_without_numbers = re.sub(r'\\d+', '', text)\n",
        "\n",
        "    return text_without_numbers\n",
        "\n",
        "\n",
        "\n",
        "def lemmatize_text(text):\n",
        "    # Initialize the WordNetLemmatizer\n",
        "    lemmatizer = WordNetLemmatizer()\n",
        "    word_tokens = word_tokenize(text)\n",
        "    lemmatized_text = [lemmatizer.lemmatize(word) for word in word_tokens]\n",
        "    return ' '.join(lemmatized_text)\n",
        "\n",
        "\n",
        "# # Apply the remove_stopwords function to the 'title' column\n",
        "\n",
        "# data['text'] = data['text'].apply(remove_stopwords)\n",
        "\n",
        "\n",
        "\n",
        "# # Apply the remove_numbers function to the 'title' column\n",
        "\n",
        "# data['text'] = data['text'].apply(remove_numbers)\n",
        "\n",
        "# # Apply lemmatization to the 'title' column\n",
        "# data['text'] = data['text'].apply(lemmatize_text)"
      ],
      "metadata": {
        "id": "n_HDSH_SXvNy",
        "execution": {
          "iopub.status.busy": "2024-10-28T10:38:33.803275Z",
          "iopub.execute_input": "2024-10-28T10:38:33.803651Z",
          "iopub.status.idle": "2024-10-28T10:38:33.812920Z",
          "shell.execute_reply.started": "2024-10-28T10:38:33.803616Z",
          "shell.execute_reply": "2024-10-28T10:38:33.812125Z"
        },
        "trusted": true,
        "ExecuteTime": {
          "end_time": "2024-10-28T12:57:56.090286Z",
          "start_time": "2024-10-28T12:57:56.085974Z"
        }
      },
      "outputs": [],
      "execution_count": null
    },
    {
      "cell_type": "code",
      "source": [],
      "metadata": {
        "id": "m9CDQQ0guLvK",
        "ExecuteTime": {
          "end_time": "2024-10-28T12:57:56.092044Z",
          "start_time": "2024-10-28T12:57:56.090286Z"
        }
      },
      "outputs": [],
      "execution_count": null
    },
    {
      "cell_type": "code",
      "source": [
        "# Filter the training set based on title length\n",
        "# filter_data = data[(data['text'].str.split().apply(len) < 424) & (data['title'].str.split().apply(len) > 8)]\n",
        "filter_data = data[data['text'].str.split().apply(len) < 424 ]\n",
        "\n",
        "# filter_data = filter_data[filter_data['text'].str.split().apply(len) < 3424 ]"
      ],
      "metadata": {
        "execution": {
          "iopub.status.busy": "2024-10-28T10:38:33.814041Z",
          "iopub.execute_input": "2024-10-28T10:38:33.814380Z",
          "iopub.status.idle": "2024-10-28T10:38:34.071896Z",
          "shell.execute_reply.started": "2024-10-28T10:38:33.814314Z",
          "shell.execute_reply": "2024-10-28T10:38:34.071053Z"
        },
        "trusted": true,
        "id": "cMfq2MmYuLvK",
        "ExecuteTime": {
          "end_time": "2024-10-28T12:57:56.180621Z",
          "start_time": "2024-10-28T12:57:56.092044Z"
        }
      },
      "outputs": [],
      "execution_count": null
    },
    {
      "cell_type": "code",
      "source": [
        "# Split the data into training and testing sets\n",
        "train_df, test_df = train_test_split(filter_data, test_size=0.2, random_state=42)\n",
        "# train_df, test_df = train_test_split(data, test_size=0.2, random_state=42)"
      ],
      "metadata": {
        "execution": {
          "iopub.status.busy": "2024-10-28T10:38:34.073094Z",
          "iopub.execute_input": "2024-10-28T10:38:34.073437Z",
          "iopub.status.idle": "2024-10-28T10:38:34.081582Z",
          "shell.execute_reply.started": "2024-10-28T10:38:34.073404Z",
          "shell.execute_reply": "2024-10-28T10:38:34.080692Z"
        },
        "trusted": true,
        "id": "_Us1GgOCuLvL",
        "ExecuteTime": {
          "end_time": "2024-10-28T12:57:56.184201Z",
          "start_time": "2024-10-28T12:57:56.180621Z"
        }
      },
      "outputs": [],
      "execution_count": null
    },
    {
      "cell_type": "code",
      "source": [
        "# Oversampling\n",
        "import numpy as np\n",
        "from imblearn.over_sampling import RandomOverSampler\n",
        "from torch.nn.utils.rnn import pad_sequence\n",
        "import torch\n",
        "\n",
        "# Step 2: Separate features and labels for training data\n",
        "X_train = train_df['title_text']\n",
        "y_train = train_df['label']\n",
        "\n",
        "# Step 3: Tokenize the training data\n",
        "X_train_tokenized = [tokenizer(title, padding=True, truncation=True, return_tensors='pt')['input_ids'][0] for title in X_train]\n",
        "\n",
        "# Step 4: Pad the tokenized sequences to a fixed length\n",
        "X_train_padded = pad_sequence(X_train_tokenized, batch_first=True, padding_value=0)\n",
        "\n",
        "# Step 5: Convert padded sequences to a NumPy array for oversampling\n",
        "X_train_np = X_train_padded.numpy()\n",
        "\n",
        "# Step 6: Apply oversampling to the tokenized data\n",
        "oversampler = RandomOverSampler(random_state=42)\n",
        "X_resampled, y_resampled = oversampler.fit_resample(X_train_np, y_train)\n",
        "\n",
        "# Step 7: Create a new dataset with the oversampled data\n",
        "resampled_dataset = Dataset.from_dict({'input_ids': [torch.tensor(x) for x in X_resampled], 'label': y_resampled})\n",
        "resampled_dataset.set_format(type='torch', columns=['input_ids', 'label'])\n",
        "\n",
        "# Step 8: Convert the test DataFrame to Hugging Face Dataset\n",
        "test_dataset = Dataset.from_pandas(test_df)\n",
        "test_dataset = test_dataset.map(tokenize_function, batched=True)\n",
        "test_dataset.set_format(type='torch', columns=['input_ids', 'attention_mask', 'label'])\n",
        "\n",
        "\n"
      ],
      "metadata": {
        "execution": {
          "iopub.status.busy": "2024-10-28T10:38:34.082934Z",
          "iopub.execute_input": "2024-10-28T10:38:34.083560Z",
          "iopub.status.idle": "2024-10-28T10:39:19.534015Z",
          "shell.execute_reply.started": "2024-10-28T10:38:34.083525Z",
          "shell.execute_reply": "2024-10-28T10:39:19.533080Z"
        },
        "trusted": true,
        "colab": {
          "base_uri": "https://localhost:8080/",
          "height": 49,
          "referenced_widgets": [
            "21faebf7d3b34274b4dd0309d1ec4782",
            "9e2741109c024f92b2d858fe4c371483",
            "af8ff3d538f64dda86018c7a1e0f0fde",
            "6b0c5cae05cf4de1b223722605076fc0",
            "e0b418199b7f4e498a152df79833ee02",
            "83d6b8392678421d90bc2e90b60273be",
            "5eb75678ae4e412c90b1409428587417",
            "93f249f56a514a9494245dfd67dcf663",
            "2746533b608f4bf78df653712792519e",
            "88d88df25a8b43a1922265c8d893f53f",
            "2cadca866d294ce6a4e5e312e188d0c8",
            "a6654d987e27454d9b455537126255c2"
          ]
        },
        "id": "LsgldKHauLvL",
        "outputId": "429c63c8-d63c-4cad-b208-1d443a169672",
        "ExecuteTime": {
          "end_time": "2024-10-28T12:58:06.617728Z",
          "start_time": "2024-10-28T12:57:56.184201Z"
        }
      },
      "outputs": [
        {
          "data": {
            "text/plain": [
              "Map:   0%|          | 0/761 [00:00<?, ? examples/s]"
            ],
            "application/vnd.jupyter.widget-view+json": {
              "version_major": 2,
              "version_minor": 0,
              "model_id": "a6654d987e27454d9b455537126255c2"
            }
          },
          "metadata": {},
          "output_type": "display_data"
        }
      ],
      "execution_count": null
    },
    {
      "cell_type": "code",
      "source": [
        "\n",
        "\n",
        "# Convert DataFrame to Hugging Face Dataset\n",
        "train_dataset = Dataset.from_pandas(train_df)\n",
        "test_dataset = Dataset.from_pandas(test_df)\n",
        "\n",
        "\n",
        "\n",
        "# Apply the tokenizer to the dataset\n",
        "\n",
        "train_dataset = train_dataset.map(tokenize_function, batched=True)\n",
        "\n",
        "test_dataset = test_dataset.map(tokenize_function, batched=True)\n",
        "\n",
        "\n",
        "\n",
        "# Create DataCollator to handle padding\n",
        "\n",
        "data_collator = DataCollatorWithPadding(tokenizer=tokenizer, padding=True, max_length=16)\n",
        "\n",
        "\n",
        "\n",
        "# Convert dataset to PyTorch format\n",
        "\n",
        "train_dataset.set_format(type='torch', columns=['input_ids', 'attention_mask', 'label'])\n",
        "\n",
        "test_dataset.set_format(type='torch', columns=['input_ids', 'attention_mask', 'label'])\n",
        "\n",
        "\n",
        "\n",
        "# Create DataLoader for the oversampled training dataset\n",
        "train_dataloader = DataLoader(resampled_dataset, shuffle=True, batch_size=8, collate_fn=data_collator)\n",
        "\n",
        "# Create DataLoader for the test dataset (remains unchanged)\n",
        "test_dataloader = DataLoader(test_dataset, batch_size=8, collate_fn=data_collator)"
      ],
      "metadata": {
        "id": "FSPJ3q5xSt7W",
        "outputId": "e80e87a8-c4ab-4fd2-e906-1e94fe608884",
        "execution": {
          "iopub.status.busy": "2024-10-28T10:39:19.535195Z",
          "iopub.execute_input": "2024-10-28T10:39:19.535557Z",
          "iopub.status.idle": "2024-10-28T10:40:03.996244Z",
          "shell.execute_reply.started": "2024-10-28T10:39:19.535522Z",
          "shell.execute_reply": "2024-10-28T10:40:03.995257Z"
        },
        "trusted": true,
        "colab": {
          "base_uri": "https://localhost:8080/",
          "height": 81,
          "referenced_widgets": [
            "9636ea5001eb41018d7f5409fae85d30",
            "b6cd807be24e406087572ded4d0d7209",
            "74bed96f28e048db87eb3a775badf63e",
            "4b705a48988a4310a065dc877c56e3aa",
            "6909ffb1c99e44608343927a0b59f7ce",
            "8e1fa14a18a94ef0adf16f9796501a38",
            "93dec77a9ad84220975ae1aa6a870764",
            "5345e45edca74d969d5f61b6c77a0712",
            "c6df6f8f2dc644fb9fd01190615d5d4d",
            "fe68b46413f049ef8c9072233660ab2d",
            "c01f951d1eea47bc9366978354c5a158",
            "c2fd89f9d95248388cebd103c758b7c8",
            "c4046eb11d8f4c958673f63b7002a082",
            "afcce217b4c342bd8f0de5027bd6fb4b",
            "13a002f5b26c441c97ce58f2c2eb7930",
            "6dbb73e4619f43d083f485a448a1c44b",
            "77cc6bdbbe294836ae6b13e7028ed031",
            "009ea8ca521a4a0480f157faf2be1fef",
            "4d3dee7e742246a6964f69bc678b6ae1",
            "446e94e46c1843e69c3965a0d646c29a",
            "2ad230bc98924a649a30f718c5c2d1ce",
            "77371804e5884019947e5beba7f360b5",
            "c9acb49a99394deeb23added5ccd70d8",
            "8c614564610544a98d901ff127e1ada2"
          ]
        },
        "ExecuteTime": {
          "end_time": "2024-10-28T12:58:16.901641Z",
          "start_time": "2024-10-28T12:58:06.617728Z"
        }
      },
      "outputs": [
        {
          "data": {
            "text/plain": [
              "Map:   0%|          | 0/3042 [00:00<?, ? examples/s]"
            ],
            "application/vnd.jupyter.widget-view+json": {
              "version_major": 2,
              "version_minor": 0,
              "model_id": "c9acb49a99394deeb23added5ccd70d8"
            }
          },
          "metadata": {},
          "output_type": "display_data"
        },
        {
          "data": {
            "text/plain": [
              "Map:   0%|          | 0/761 [00:00<?, ? examples/s]"
            ],
            "application/vnd.jupyter.widget-view+json": {
              "version_major": 2,
              "version_minor": 0,
              "model_id": "8c614564610544a98d901ff127e1ada2"
            }
          },
          "metadata": {},
          "output_type": "display_data"
        }
      ],
      "execution_count": null
    },
    {
      "cell_type": "markdown",
      "source": [
        "* Choose your model"
      ],
      "metadata": {
        "id": "2XM5OsV_Yllm"
      }
    },
    {
      "cell_type": "code",
      "source": [
        "# Move DataLoaders to CUDA device if available\n",
        "# Check if CUDA is available\n",
        "device = torch.device('cuda' if torch.cuda.is_available() else 'cpu')\n",
        "# Move DataLoaders to CUDA device if available\n",
        "for batch in train_dataloader:\n",
        "    for key in batch:\n",
        "        batch[key] = batch[key].to(device)\n",
        "\n",
        "for batch in test_dataloader:\n",
        "    for key in batch:\n",
        "        batch[key] = batch[key].to(device)"
      ],
      "metadata": {
        "execution": {
          "iopub.status.busy": "2024-10-28T10:40:03.997510Z",
          "iopub.execute_input": "2024-10-28T10:40:03.997868Z"
        },
        "trusted": true,
        "colab": {
          "base_uri": "https://localhost:8080/"
        },
        "id": "xIe2ffhSuLvM",
        "outputId": "4c3afd4b-a8f9-495f-be78-622aab91d31a",
        "ExecuteTime": {
          "end_time": "2024-10-28T12:58:18.816490Z",
          "start_time": "2024-10-28T12:58:16.901641Z"
        }
      },
      "outputs": [
        {
          "name": "stderr",
          "output_type": "stream",
          "text": [
            "C:\\Users\\lzh\\.conda\\envs\\DeepLearning\\Lib\\site-packages\\transformers\\tokenization_utils_base.py:2637: UserWarning: `max_length` is ignored when `padding`=`True` and there is no truncation strategy. To pad to max length, use `padding='max_length'`.\n",
            "  warnings.warn(\n"
          ]
        }
      ],
      "execution_count": null
    },
    {
      "cell_type": "markdown",
      "source": [
        "* Train it"
      ],
      "metadata": {
        "id": "CsP__kiFYoXo"
      }
    },
    {
      "cell_type": "code",
      "source": [
        "import datetime\n",
        "optimizer = AdamW(model.parameters(), lr=5e-5)\n",
        "\n",
        "\n",
        "\n",
        "num_epochs = 3\n",
        "\n",
        "num_training_steps = num_epochs * len(train_dataloader)\n",
        "\n",
        "lr_scheduler = get_scheduler(\n",
        "\n",
        "    name=\"linear\",\n",
        "\n",
        "    optimizer=optimizer,\n",
        "\n",
        "    num_warmup_steps=0,\n",
        "\n",
        "    num_training_steps=num_training_steps,\n",
        "\n",
        ")\n",
        "\n",
        "\n",
        "\n",
        "model.train()\n",
        "\n",
        "\n",
        "\n",
        "progress_bar = tqdm(range(num_training_steps))\n",
        "\n",
        "\n",
        "\n",
        "for epoch in range(num_epochs):\n",
        "\n",
        "    for batch in train_dataloader:\n",
        "\n",
        "        # batch = {k: v.to('cuda') for k, v in batch.items()}  # Move batch to GPU if available\n",
        "        for key in batch:\n",
        "            batch[key] = batch[key].to(device)\n",
        "\n",
        "        outputs = model(**batch)\n",
        "\n",
        "        loss = outputs.loss\n",
        "\n",
        "        loss.backward()\n",
        "\n",
        "        optimizer.step()\n",
        "\n",
        "        lr_scheduler.step()\n",
        "\n",
        "        optimizer.zero_grad()\n",
        "\n",
        "        progress_bar.update(1)\n",
        "\n",
        "current_time = datetime.datetime.now().time()\n",
        "print(\"Finish time:\", current_time)"
      ],
      "metadata": {
        "id": "oflgiPlUTGVN",
        "outputId": "9b226ed6-d848-4daf-cc48-7266c8f60129",
        "trusted": true,
        "colab": {
          "base_uri": "https://localhost:8080/",
          "height": 104,
          "referenced_widgets": [
            "ebe869d1f2a448cca8f61ea2dcaf832e",
            "d2b07205739349faab6793c1b2b0707a",
            "3fa7b26b5ff9474080615b7994a9f99d",
            "081d934d421644cfb14149ab3158bc09",
            "4cf0b79d01dc44939f5142636ab7d168",
            "87823762946e495cb9af90d4c15bcd65",
            "8687fa9e65c647c695723ae296e45a65",
            "e48951982f4a43d188b7648d028835c0",
            "05ea369fd0ef45cf97cdee5dbc9812f4",
            "e1ade5126a0140e69907c0ca0354a2c4",
            "e57c22a1b9f747d286ffb5ae9b9af77a",
            "86359bebd77d496088c0500cebbde924"
          ]
        },
        "ExecuteTime": {
          "end_time": "2024-10-28T13:09:36.650724Z",
          "start_time": "2024-10-28T12:58:18.816490Z"
        }
      },
      "outputs": [
        {
          "name": "stderr",
          "output_type": "stream",
          "text": [
            "C:\\Users\\lzh\\.conda\\envs\\DeepLearning\\Lib\\site-packages\\transformers\\optimization.py:429: FutureWarning: This implementation of AdamW is deprecated and will be removed in a future version. Use the PyTorch implementation torch.optim.AdamW instead, or set `no_deprecation_warning=True` to disable this warning\n",
            "  warnings.warn(\n"
          ]
        },
        {
          "data": {
            "text/plain": [
              "  0%|          | 0/4581 [00:00<?, ?it/s]"
            ],
            "application/vnd.jupyter.widget-view+json": {
              "version_major": 2,
              "version_minor": 0,
              "model_id": "86359bebd77d496088c0500cebbde924"
            }
          },
          "metadata": {},
          "output_type": "display_data"
        },
        {
          "name": "stdout",
          "output_type": "stream",
          "text": [
            "Finish time: 21:09:36.649196\n"
          ]
        }
      ],
      "execution_count": null
    },
    {
      "cell_type": "markdown",
      "source": [
        "* Assess it"
      ],
      "metadata": {
        "id": "Y7KNZ5vqYpu1"
      }
    },
    {
      "cell_type": "code",
      "source": [
        "model.eval()\n",
        "\n",
        "total_predictions = []\n",
        "\n",
        "with torch.no_grad():\n",
        "\n",
        "    for batch in test_dataloader:\n",
        "\n",
        "        batch = {k: v.to('cuda') for k, v in batch.items()}  # Move batch to GPU if available\n",
        "        # for key in batch:\n",
        "        #     batch[key] = batch[key].to(device)\n",
        "\n",
        "        outputs = model(**batch)\n",
        "\n",
        "        predictions = torch.argmax(outputs.logits, dim=-1)\n",
        "\n",
        "        total_predictions.extend([p.item() for p in predictions])\n",
        "\n",
        "\n",
        "\n",
        "#print(classification_report(test_df.label, total_predictions))\n",
        "\n",
        "predicted_labels = label_encoder.inverse_transform(total_predictions)\n",
        "\n",
        "gold_labels = label_encoder.inverse_transform(test_df.label.values)\n",
        "\n",
        "print(classification_report(gold_labels, predicted_labels, zero_division=0))"
      ],
      "metadata": {
        "id": "morbg_D9VmSb",
        "trusted": true,
        "ExecuteTime": {
          "end_time": "2024-10-28T13:09:41.045830Z",
          "start_time": "2024-10-28T13:09:36.650724Z"
        },
        "outputId": "eff74b3d-a42e-4deb-f279-2a524996f31f"
      },
      "outputs": [
        {
          "name": "stdout",
          "output_type": "stream",
          "text": [
            "                                precision    recall  f1-score   support\n",
            "\n",
            "                     allergens       0.97      0.97      0.97       316\n",
            "                    biological       1.00      0.99      0.99       212\n",
            "                      chemical       0.92      0.92      0.92        49\n",
            "food additives and flavourings       1.00      0.50      0.67         4\n",
            "                foreign bodies       0.97      0.96      0.97        78\n",
            "                         fraud       0.73      0.78      0.75        59\n",
            "          organoleptic aspects       0.83      0.38      0.53        13\n",
            "                  other hazard       0.64      0.73      0.68        22\n",
            "              packaging defect       0.64      0.88      0.74         8\n",
            "\n",
            "                      accuracy                           0.94       761\n",
            "                     macro avg       0.86      0.79      0.80       761\n",
            "                  weighted avg       0.94      0.94      0.94       761\n",
            "\n"
          ]
        }
      ],
      "execution_count": null
    },
    {
      "cell_type": "code",
      "source": [
        "model.save_pretrained(\"bert_hazard_category\")"
      ],
      "metadata": {
        "id": "NxL43TP9IAw4",
        "trusted": true,
        "ExecuteTime": {
          "end_time": "2024-10-28T13:09:41.706585Z",
          "start_time": "2024-10-28T13:09:41.046829Z"
        }
      },
      "outputs": [],
      "execution_count": null
    },
    {
      "cell_type": "markdown",
      "source": [
        "# Label: `Product Category`"
      ],
      "metadata": {
        "id": "-Q_9l5oMWxA0"
      }
    },
    {
      "cell_type": "code",
      "source": [
        "data = pd.read_csv('incidents_train.csv', index_col=0)"
      ],
      "metadata": {
        "trusted": true,
        "id": "PrQ2n3IBuLvO",
        "ExecuteTime": {
          "end_time": "2024-10-28T13:09:41.785504Z",
          "start_time": "2024-10-28T13:09:41.706585Z"
        }
      },
      "outputs": [],
      "execution_count": null
    },
    {
      "cell_type": "code",
      "source": [
        "label = 'product-category'\n",
        "\n",
        "label_encoder = LabelEncoder()\n",
        "\n",
        "data['label'] = label_encoder.fit_transform(data[label])\n",
        "data['title_text'] = data['title'] +data['text']"
      ],
      "metadata": {
        "trusted": true,
        "id": "gDH2e4qvuLvP",
        "ExecuteTime": {
          "end_time": "2024-10-28T13:09:41.793658Z",
          "start_time": "2024-10-28T13:09:41.785504Z"
        }
      },
      "outputs": [],
      "execution_count": null
    },
    {
      "cell_type": "code",
      "source": [
        "# # Apply the remove_stopwords function to the 'title' column\n",
        "\n",
        "# data['text'] = data['text'].apply(remove_stopwords)\n",
        "\n",
        "\n",
        "\n",
        "# # Apply the remove_numbers function to the 'title' column\n",
        "\n",
        "# data['text'] = data['text'].apply(remove_numbers)\n",
        "\n",
        "# # Apply lemmatization to the 'title' column\n",
        "# data['text'] = data['text'].apply(lemmatize_text)"
      ],
      "metadata": {
        "trusted": true,
        "id": "7cqJHOKJuLvP",
        "ExecuteTime": {
          "end_time": "2024-10-28T13:09:41.796095Z",
          "start_time": "2024-10-28T13:09:41.793658Z"
        }
      },
      "outputs": [],
      "execution_count": null
    },
    {
      "cell_type": "code",
      "source": [
        "# Filter the training set based on title length\n",
        "\n",
        "\n",
        "\n",
        "filter_data = data[data['text'].str.split().apply(len) <424 ]"
      ],
      "metadata": {
        "trusted": true,
        "id": "zHAPzvGZuLvP",
        "ExecuteTime": {
          "end_time": "2024-10-28T13:09:41.884992Z",
          "start_time": "2024-10-28T13:09:41.796095Z"
        }
      },
      "outputs": [],
      "execution_count": null
    },
    {
      "cell_type": "code",
      "source": [
        "\n",
        "\n",
        "# Split the data into training and testing sets\n",
        "train_df, test_df = train_test_split(filter_data, test_size=0.2, random_state=42)\n",
        "# train_df, test_df = train_test_split(data, test_size=0.2, random_state=42)"
      ],
      "metadata": {
        "trusted": true,
        "id": "XUbdRARNuLvP",
        "ExecuteTime": {
          "end_time": "2024-10-28T13:09:41.888255Z",
          "start_time": "2024-10-28T13:09:41.884992Z"
        }
      },
      "outputs": [],
      "execution_count": null
    },
    {
      "cell_type": "code",
      "source": [
        "# Step 2: Separate features and labels for training data\n",
        "X_train = train_df['title_text']\n",
        "y_train = train_df['label']\n",
        "\n",
        "# Step 3: Tokenize the training data\n",
        "X_train_tokenized = [tokenizer(title, padding=True, truncation=True, return_tensors='pt')['input_ids'][0] for title in X_train]\n",
        "\n",
        "# Step 4: Pad the tokenized sequences to a fixed length\n",
        "X_train_padded = pad_sequence(X_train_tokenized, batch_first=True, padding_value=0)\n",
        "\n",
        "# Step 5: Convert padded sequences to a NumPy array for oversampling\n",
        "X_train_np = X_train_padded.numpy()\n",
        "\n",
        "# Step 6: Apply oversampling to the tokenized data\n",
        "oversampler = RandomOverSampler(random_state=42)\n",
        "X_resampled, y_resampled = oversampler.fit_resample(X_train_np, y_train)\n",
        "\n",
        "# Step 7: Create a new dataset with the oversampled data\n",
        "resampled_dataset = Dataset.from_dict({'input_ids': [torch.tensor(x) for x in X_resampled], 'label': y_resampled})\n",
        "resampled_dataset.set_format(type='torch', columns=['input_ids', 'label'])\n",
        "\n",
        "# Step 8: Convert the test DataFrame to Hugging Face Dataset\n",
        "test_dataset = Dataset.from_pandas(test_df)\n",
        "test_dataset = test_dataset.map(tokenize_function, batched=True)\n",
        "test_dataset.set_format(type='torch', columns=['input_ids', 'attention_mask', 'label'])\n",
        "\n",
        "\n"
      ],
      "metadata": {
        "trusted": true,
        "id": "kG_FYWCEuLvP",
        "ExecuteTime": {
          "end_time": "2024-10-28T13:09:52.527441Z",
          "start_time": "2024-10-28T13:09:41.889253Z"
        },
        "outputId": "8740a466-4b8b-41d7-b1f7-c43303b242a4"
      },
      "outputs": [
        {
          "data": {
            "text/plain": [
              "Map:   0%|          | 0/761 [00:00<?, ? examples/s]"
            ],
            "application/vnd.jupyter.widget-view+json": {
              "version_major": 2,
              "version_minor": 0,
              "model_id": "5692d34428ea4164974e5b3d89210af6"
            }
          },
          "metadata": {},
          "output_type": "display_data"
        }
      ],
      "execution_count": null
    },
    {
      "cell_type": "code",
      "source": [
        "\n",
        "\n",
        "\n",
        "\n",
        "\n",
        "\n",
        "# # Convert DataFrame to Hugging Face Dataset\n",
        "\n",
        "train_dataset = Dataset.from_pandas(train_df)\n",
        "\n",
        "test_dataset = Dataset.from_pandas(test_df)\n",
        "\n",
        "\n",
        "\n",
        "# Apply the tokenizer to the dataset\n",
        "\n",
        "train_dataset = train_dataset.map(tokenize_function, batched=True)\n",
        "\n",
        "test_dataset = test_dataset.map(tokenize_function, batched=True)\n",
        "\n",
        "\n",
        "\n",
        "# Create DataCollator to handle padding\n",
        "\n",
        "data_collator = DataCollatorWithPadding(tokenizer=tokenizer, padding=True, max_length=16)\n",
        "\n",
        "\n",
        "\n",
        "# Convert dataset to PyTorch format\n",
        "\n",
        "train_dataset.set_format(type='torch', columns=['input_ids', 'attention_mask', 'label'])\n",
        "\n",
        "test_dataset.set_format(type='torch', columns=['input_ids', 'attention_mask', 'label'])\n",
        "\n",
        "\n",
        "\n",
        "# Create DataLoader for the oversampled training dataset\n",
        "train_dataloader = DataLoader(resampled_dataset, shuffle=True, batch_size=8, collate_fn=data_collator)\n",
        "\n",
        "# Create DataLoader for the test dataset (remains unchanged)\n",
        "test_dataloader = DataLoader(test_dataset, batch_size=8, collate_fn=data_collator)"
      ],
      "metadata": {
        "id": "9hv5Z7-BVc-4",
        "trusted": true,
        "ExecuteTime": {
          "end_time": "2024-10-28T13:10:02.942814Z",
          "start_time": "2024-10-28T13:09:52.527441Z"
        },
        "outputId": "49cee054-63ed-4e87-b777-1da8e0b62f31"
      },
      "outputs": [
        {
          "data": {
            "text/plain": [
              "Map:   0%|          | 0/3042 [00:00<?, ? examples/s]"
            ],
            "application/vnd.jupyter.widget-view+json": {
              "version_major": 2,
              "version_minor": 0,
              "model_id": "32cbd112c60a494c9b101ac066976b63"
            }
          },
          "metadata": {},
          "output_type": "display_data"
        },
        {
          "data": {
            "text/plain": [
              "Map:   0%|          | 0/761 [00:00<?, ? examples/s]"
            ],
            "application/vnd.jupyter.widget-view+json": {
              "version_major": 2,
              "version_minor": 0,
              "model_id": "4b675fa3eec540769f675cbca1db1d72"
            }
          },
          "metadata": {},
          "output_type": "display_data"
        }
      ],
      "execution_count": null
    },
    {
      "cell_type": "markdown",
      "source": [
        "* Train"
      ],
      "metadata": {
        "id": "3Q4vN1I0X88D"
      }
    },
    {
      "cell_type": "code",
      "source": [
        "model_product_category = BertForSequenceClassification.from_pretrained('bert-base-uncased', num_labels=len(data[label].unique()))\n",
        "\n",
        "model_product_category.to('cuda')  # Move model to GPU if available\n",
        "\n",
        "\n",
        "\n",
        "optimizer = AdamW(model_product_category.parameters(), lr=5e-5)\n",
        "\n",
        "num_epochs = 3\n",
        "\n",
        "num_training_steps = num_epochs * len(train_dataloader)\n",
        "\n",
        "lr_scheduler = get_scheduler(\n",
        "\n",
        "    name=\"linear\",\n",
        "\n",
        "    optimizer=optimizer,\n",
        "\n",
        "    num_warmup_steps=0,\n",
        "\n",
        "    num_training_steps=num_training_steps,\n",
        "\n",
        ")\n",
        "\n",
        "\n",
        "\n",
        "model_product_category.train()\n",
        "\n",
        "progress_bar = tqdm(range(num_training_steps))\n",
        "\n",
        "for epoch in range(num_epochs):\n",
        "\n",
        "    for batch in train_dataloader:\n",
        "\n",
        "        batch = {k: v.to('cuda') for k, v in batch.items()}  # Move batch to GPU if available\n",
        "        # for key in batch:\n",
        "        #     batch[key] = batch[key].to(device)\n",
        "\n",
        "        outputs = model_product_category(**batch)\n",
        "\n",
        "        loss = outputs.loss\n",
        "\n",
        "        loss.backward()\n",
        "\n",
        "        optimizer.step()\n",
        "\n",
        "        lr_scheduler.step()\n",
        "\n",
        "        optimizer.zero_grad()\n",
        "\n",
        "        progress_bar.update(1)\n",
        "current_time = datetime.datetime.now().time()\n",
        "print(\"Finish time:\", current_time)"
      ],
      "metadata": {
        "id": "DQVDnd4SXedT",
        "trusted": true,
        "ExecuteTime": {
          "end_time": "2024-10-28T13:26:21.090206Z",
          "start_time": "2024-10-28T13:10:02.942814Z"
        },
        "outputId": "59537ac9-6a10-4ae8-e646-566aa9c84131"
      },
      "outputs": [
        {
          "name": "stderr",
          "output_type": "stream",
          "text": [
            "C:\\Users\\lzh\\.conda\\envs\\DeepLearning\\Lib\\site-packages\\huggingface_hub\\file_download.py:1132: FutureWarning: `resume_download` is deprecated and will be removed in version 1.0.0. Downloads always resume when possible. If you want to force a new download, use `force_download=True`.\n",
            "  warnings.warn(\n",
            "Some weights of BertForSequenceClassification were not initialized from the model checkpoint at bert-base-uncased and are newly initialized: ['classifier.bias', 'classifier.weight']\n",
            "You should probably TRAIN this model on a down-stream task to be able to use it for predictions and inference.\n",
            "C:\\Users\\lzh\\.conda\\envs\\DeepLearning\\Lib\\site-packages\\transformers\\optimization.py:429: FutureWarning: This implementation of AdamW is deprecated and will be removed in a future version. Use the PyTorch implementation torch.optim.AdamW instead, or set `no_deprecation_warning=True` to disable this warning\n",
            "  warnings.warn(\n"
          ]
        },
        {
          "data": {
            "text/plain": [
              "  0%|          | 0/6576 [00:00<?, ?it/s]"
            ],
            "application/vnd.jupyter.widget-view+json": {
              "version_major": 2,
              "version_minor": 0,
              "model_id": "30f01e5f398148028f60a5bc3447a437"
            }
          },
          "metadata": {},
          "output_type": "display_data"
        },
        {
          "name": "stderr",
          "output_type": "stream",
          "text": [
            "C:\\Users\\lzh\\.conda\\envs\\DeepLearning\\Lib\\site-packages\\transformers\\tokenization_utils_base.py:2637: UserWarning: `max_length` is ignored when `padding`=`True` and there is no truncation strategy. To pad to max length, use `padding='max_length'`.\n",
            "  warnings.warn(\n"
          ]
        },
        {
          "name": "stdout",
          "output_type": "stream",
          "text": [
            "Finish time: 21:26:21.088741\n"
          ]
        }
      ],
      "execution_count": null
    },
    {
      "cell_type": "markdown",
      "source": [
        "* Test"
      ],
      "metadata": {
        "id": "ZRivrfVuX_Nn"
      }
    },
    {
      "cell_type": "code",
      "source": [
        "model_product_category.eval()\n",
        "\n",
        "total_predictions = []\n",
        "\n",
        "with torch.no_grad():\n",
        "\n",
        "    for batch in test_dataloader:\n",
        "\n",
        "        batch = {k: v.to('cuda') for k, v in batch.items()}  # Move batch to GPU if available\n",
        "        # for key in batch:\n",
        "        #     batch[key] = batch[key].to(device)\n",
        "\n",
        "        outputs = model_product_category(**batch)\n",
        "\n",
        "        predictions = torch.argmax(outputs.logits, dim=-1)\n",
        "\n",
        "        total_predictions.extend([p.item() for p in predictions])\n",
        "\n",
        "\n",
        "\n",
        "#print(classification_report(test_df.label, total_predictions, zero_division=0))\n",
        "\n",
        "predicted_labels = label_encoder.inverse_transform(total_predictions)\n",
        "\n",
        "gold_labels = label_encoder.inverse_transform(test_df.label.values)\n",
        "\n",
        "print(classification_report(gold_labels, predicted_labels, zero_division=0))"
      ],
      "metadata": {
        "id": "Dkdsa9o-XrZb",
        "trusted": true,
        "ExecuteTime": {
          "end_time": "2024-10-28T13:26:25.479794Z",
          "start_time": "2024-10-28T13:26:21.090206Z"
        },
        "outputId": "1dda016e-5bc0-4b5a-e4e8-8db8f605333d"
      },
      "outputs": [
        {
          "name": "stdout",
          "output_type": "stream",
          "text": [
            "                                                   precision    recall  f1-score   support\n",
            "\n",
            "                              alcoholic beverages       0.91      0.91      0.91        11\n",
            "                      cereals and bakery products       0.82      0.76      0.79       111\n",
            "     cocoa and cocoa preparations, coffee and tea       0.83      0.71      0.76        34\n",
            "                                    confectionery       0.61      0.70      0.66        27\n",
            "dietetic foods, food supplements, fortified foods       0.79      0.71      0.75        21\n",
            "                                    fats and oils       1.00      1.00      1.00         1\n",
            "                                   feed materials       0.00      0.00      0.00         5\n",
            "                   food additives and flavourings       0.00      0.00      0.00         1\n",
            "                           food contact materials       0.00      0.00      0.00         0\n",
            "                            fruits and vegetables       0.71      0.82      0.76        77\n",
            "                                 herbs and spices       0.83      0.62      0.71        24\n",
            "                            honey and royal jelly       0.00      0.00      0.00         1\n",
            "                                ices and desserts       0.88      0.88      0.88        26\n",
            "                     meat, egg and dairy products       0.89      0.93      0.91       191\n",
            "                          non-alcoholic beverages       0.83      0.77      0.80        26\n",
            "                     nuts, nut products and seeds       0.84      0.70      0.76        37\n",
            "                       other food product / mixed       1.00      0.40      0.57         5\n",
            "                                         pet feed       0.67      1.00      0.80         2\n",
            "                       prepared dishes and snacks       0.59      0.67      0.63        70\n",
            "                                          seafood       0.93      0.93      0.93        45\n",
            "             soups, broths, sauces and condiments       0.72      0.78      0.75        46\n",
            "\n",
            "                                         accuracy                           0.80       761\n",
            "                                        macro avg       0.66      0.63      0.64       761\n",
            "                                     weighted avg       0.80      0.80      0.79       761\n",
            "\n"
          ]
        }
      ],
      "execution_count": null
    },
    {
      "cell_type": "code",
      "source": [
        "model_product_category.save_pretrained(\"bert_product_category\")"
      ],
      "metadata": {
        "id": "tB9_Ewr4H5Jx",
        "trusted": true,
        "ExecuteTime": {
          "end_time": "2024-10-28T13:26:26.292572Z",
          "start_time": "2024-10-28T13:26:25.479794Z"
        }
      },
      "outputs": [],
      "execution_count": null
    },
    {
      "cell_type": "markdown",
      "source": [
        "# Label: `Hazard`"
      ],
      "metadata": {
        "id": "d_8B_Wo0Y4b2"
      }
    },
    {
      "cell_type": "code",
      "source": [
        "data = pd.read_csv('incidents_train.csv', index_col=0)\n",
        "data['title_text'] = data['title'] + data['text']"
      ],
      "metadata": {
        "trusted": true,
        "id": "08dVgun_uLvS",
        "ExecuteTime": {
          "end_time": "2024-10-28T13:26:26.371865Z",
          "start_time": "2024-10-28T13:26:26.292572Z"
        }
      },
      "outputs": [],
      "execution_count": null
    },
    {
      "cell_type": "code",
      "source": [
        "label = 'hazard'\n",
        "\n",
        "label_encoder = LabelEncoder()\n",
        "\n",
        "data['label'] = label_encoder.fit_transform(data[label])"
      ],
      "metadata": {
        "trusted": true,
        "id": "wCQwQeNpuLvS",
        "ExecuteTime": {
          "end_time": "2024-10-28T13:26:26.375243Z",
          "start_time": "2024-10-28T13:26:26.371865Z"
        }
      },
      "outputs": [],
      "execution_count": null
    },
    {
      "cell_type": "code",
      "source": [
        "\n",
        "# Filter the training set based on title length\n",
        "\n",
        "\n",
        "filter_data = data[data['text'].str.split().apply(len) <424 ]"
      ],
      "metadata": {
        "trusted": true,
        "id": "XqVL-b-iuLvS",
        "ExecuteTime": {
          "end_time": "2024-10-28T13:26:26.477856Z",
          "start_time": "2024-10-28T13:26:26.375243Z"
        }
      },
      "outputs": [],
      "execution_count": null
    },
    {
      "cell_type": "code",
      "source": [
        "\n",
        "\n",
        "# Split the data into training and testing sets\n",
        "train_df, test_df = train_test_split(filter_data, test_size=0.2, random_state=42)\n",
        "# train_df, test_df = train_test_split(data, test_size=0.2, random_state=42)"
      ],
      "metadata": {
        "trusted": true,
        "id": "Uv75r_xMuLvS",
        "ExecuteTime": {
          "end_time": "2024-10-28T13:26:26.481594Z",
          "start_time": "2024-10-28T13:26:26.477856Z"
        }
      },
      "outputs": [],
      "execution_count": null
    },
    {
      "cell_type": "code",
      "source": [
        "# Step 2: Separate features and labels for training data\n",
        "X_train = train_df['title_text']\n",
        "y_train = train_df['label']\n",
        "\n",
        "# Step 3: Tokenize the training data\n",
        "X_train_tokenized = [tokenizer(title, padding=True, truncation=True, return_tensors='pt')['input_ids'][0] for title in X_train]\n",
        "\n",
        "# Step 4: Pad the tokenized sequences to a fixed length\n",
        "X_train_padded = pad_sequence(X_train_tokenized, batch_first=True, padding_value=0)\n",
        "\n",
        "# Step 5: Convert padded sequences to a NumPy array for oversampling\n",
        "X_train_np = X_train_padded.numpy()\n",
        "\n",
        "# Step 6: Apply oversampling to the tokenized data\n",
        "oversampler = RandomOverSampler(random_state=42)\n",
        "X_resampled, y_resampled = oversampler.fit_resample(X_train_np, y_train)\n",
        "\n",
        "# Step 7: Create a new dataset with the oversampled data\n",
        "resampled_dataset = Dataset.from_dict({'input_ids': [torch.tensor(x) for x in X_resampled], 'label': y_resampled})\n",
        "resampled_dataset.set_format(type='torch', columns=['input_ids', 'label'])\n",
        "\n",
        "# Step 8: Convert the test DataFrame to Hugging Face Dataset\n",
        "test_dataset = Dataset.from_pandas(test_df)\n",
        "test_dataset = test_dataset.map(tokenize_function, batched=True)\n",
        "test_dataset.set_format(type='torch', columns=['input_ids', 'attention_mask', 'label'])"
      ],
      "metadata": {
        "trusted": true,
        "id": "cPBD7FMuuLvT",
        "ExecuteTime": {
          "end_time": "2024-10-28T13:26:37.909177Z",
          "start_time": "2024-10-28T13:26:26.481594Z"
        },
        "outputId": "33d976dd-3200-45bd-fa70-33bff7924d39"
      },
      "outputs": [
        {
          "data": {
            "text/plain": [
              "Map:   0%|          | 0/761 [00:00<?, ? examples/s]"
            ],
            "application/vnd.jupyter.widget-view+json": {
              "version_major": 2,
              "version_minor": 0,
              "model_id": "ec3fc7a9dfb04359a69748c703991f6a"
            }
          },
          "metadata": {},
          "output_type": "display_data"
        }
      ],
      "execution_count": null
    },
    {
      "cell_type": "code",
      "source": [
        "\n",
        "\n",
        "\n",
        "\n",
        "\n",
        "\n",
        "# Convert DataFrame to Hugging Face Dataset\n",
        "\n",
        "train_dataset = Dataset.from_pandas(train_df)\n",
        "\n",
        "test_dataset = Dataset.from_pandas(test_df)\n",
        "\n",
        "\n",
        "\n",
        "# Apply the tokenizer to the dataset\n",
        "\n",
        "train_dataset = train_dataset.map(tokenize_function, batched=True)\n",
        "\n",
        "test_dataset = test_dataset.map(tokenize_function, batched=True)\n",
        "\n",
        "\n",
        "\n",
        "# Create DataCollator to handle padding\n",
        "\n",
        "data_collator = DataCollatorWithPadding(tokenizer=tokenizer, padding=True, max_length=16)\n",
        "\n",
        "\n",
        "\n",
        "# Convert dataset to PyTorch format\n",
        "\n",
        "train_dataset.set_format(type='torch', columns=['input_ids', 'attention_mask', 'label'])\n",
        "\n",
        "test_dataset.set_format(type='torch', columns=['input_ids', 'attention_mask', 'label'])\n",
        "\n",
        "\n",
        "\n",
        "# Create DataLoader for the oversampled training dataset\n",
        "train_dataloader = DataLoader(resampled_dataset, shuffle=True, batch_size=8, collate_fn=data_collator)\n",
        "\n",
        "# Create DataLoader for the test dataset (remains unchanged)\n",
        "test_dataloader = DataLoader(test_dataset, batch_size=8, collate_fn=data_collator)"
      ],
      "metadata": {
        "id": "UqkSg1omYK30",
        "trusted": true,
        "ExecuteTime": {
          "end_time": "2024-10-28T13:26:48.130929Z",
          "start_time": "2024-10-28T13:26:37.909177Z"
        },
        "outputId": "9974f662-713c-4afa-974d-4ff96327b05b"
      },
      "outputs": [
        {
          "data": {
            "text/plain": [
              "Map:   0%|          | 0/3042 [00:00<?, ? examples/s]"
            ],
            "application/vnd.jupyter.widget-view+json": {
              "version_major": 2,
              "version_minor": 0,
              "model_id": "33c9ef502d9b49deaef9852189ba3ab0"
            }
          },
          "metadata": {},
          "output_type": "display_data"
        },
        {
          "data": {
            "text/plain": [
              "Map:   0%|          | 0/761 [00:00<?, ? examples/s]"
            ],
            "application/vnd.jupyter.widget-view+json": {
              "version_major": 2,
              "version_minor": 0,
              "model_id": "f3439422d759428e9de14110c67aed92"
            }
          },
          "metadata": {},
          "output_type": "display_data"
        }
      ],
      "execution_count": null
    },
    {
      "cell_type": "code",
      "source": [
        "model_hazard = BertForSequenceClassification.from_pretrained('bert-base-uncased', num_labels=len(data[label].unique()))\n",
        "\n",
        "model_hazard.to('cuda')  # Move model to GPU if available\n",
        "\n",
        "\n",
        "\n",
        "optimizer = AdamW(model_hazard.parameters(), lr=5e-5)\n",
        "\n",
        "\n",
        "\n",
        "num_epochs = 3\n",
        "\n",
        "num_training_steps = num_epochs * len(train_dataloader)\n",
        "\n",
        "lr_scheduler = get_scheduler(\n",
        "\n",
        "    name=\"linear\",\n",
        "\n",
        "    optimizer=optimizer,\n",
        "\n",
        "    num_warmup_steps=0,\n",
        "\n",
        "    num_training_steps=num_training_steps,\n",
        "\n",
        ")\n",
        "\n",
        "\n",
        "\n",
        "model_hazard.train()\n",
        "\n",
        "\n",
        "\n",
        "progress_bar = tqdm(range(num_training_steps))\n",
        "\n",
        "\n",
        "\n",
        "for epoch in range(num_epochs):\n",
        "\n",
        "    for batch in train_dataloader:\n",
        "\n",
        "        batch = {k: v.to('cuda') for k, v in batch.items()}  # Move batch to GPU if available\n",
        "\n",
        "        outputs = model_hazard(**batch)\n",
        "\n",
        "        loss = outputs.loss\n",
        "\n",
        "        loss.backward()\n",
        "\n",
        "        optimizer.step()\n",
        "\n",
        "        lr_scheduler.step()\n",
        "\n",
        "        optimizer.zero_grad()\n",
        "\n",
        "        progress_bar.update(1)"
      ],
      "metadata": {
        "id": "qDyieqiiY94T",
        "trusted": true,
        "ExecuteTime": {
          "end_time": "2024-10-28T14:10:07.146313Z",
          "start_time": "2024-10-28T13:26:48.130929Z"
        },
        "outputId": "f695b50f-c8f1-4bb2-e71b-32427a1447cc"
      },
      "outputs": [
        {
          "name": "stderr",
          "output_type": "stream",
          "text": [
            "C:\\Users\\lzh\\.conda\\envs\\DeepLearning\\Lib\\site-packages\\huggingface_hub\\file_download.py:1132: FutureWarning: `resume_download` is deprecated and will be removed in version 1.0.0. Downloads always resume when possible. If you want to force a new download, use `force_download=True`.\n",
            "  warnings.warn(\n",
            "Some weights of BertForSequenceClassification were not initialized from the model checkpoint at bert-base-uncased and are newly initialized: ['classifier.bias', 'classifier.weight']\n",
            "You should probably TRAIN this model on a down-stream task to be able to use it for predictions and inference.\n",
            "C:\\Users\\lzh\\.conda\\envs\\DeepLearning\\Lib\\site-packages\\transformers\\optimization.py:429: FutureWarning: This implementation of AdamW is deprecated and will be removed in a future version. Use the PyTorch implementation torch.optim.AdamW instead, or set `no_deprecation_warning=True` to disable this warning\n",
            "  warnings.warn(\n"
          ]
        },
        {
          "data": {
            "text/plain": [
              "  0%|          | 0/17580 [00:00<?, ?it/s]"
            ],
            "application/vnd.jupyter.widget-view+json": {
              "version_major": 2,
              "version_minor": 0,
              "model_id": "87fe5937fc56408e991d45f222680ff3"
            }
          },
          "metadata": {},
          "output_type": "display_data"
        },
        {
          "name": "stderr",
          "output_type": "stream",
          "text": [
            "C:\\Users\\lzh\\.conda\\envs\\DeepLearning\\Lib\\site-packages\\transformers\\tokenization_utils_base.py:2637: UserWarning: `max_length` is ignored when `padding`=`True` and there is no truncation strategy. To pad to max length, use `padding='max_length'`.\n",
            "  warnings.warn(\n"
          ]
        }
      ],
      "execution_count": null
    },
    {
      "cell_type": "code",
      "source": [
        "model_hazard.eval()\n",
        "\n",
        "total_predictions = []\n",
        "\n",
        "with torch.no_grad():\n",
        "\n",
        "    for batch in test_dataloader:\n",
        "\n",
        "        batch = {k: v.to('cuda') for k, v in batch.items()}  # Move batch to GPU if available\n",
        "\n",
        "        outputs = model_hazard(**batch)\n",
        "\n",
        "        predictions = torch.argmax(outputs.logits, dim=-1)\n",
        "\n",
        "        total_predictions.extend([p.item() for p in predictions])\n",
        "\n",
        "\n",
        "\n",
        "#print(classification_report(test_df.label, total_predictions, zero_division=0))\n",
        "\n",
        "predicted_labels = label_encoder.inverse_transform(total_predictions)\n",
        "\n",
        "gold_labels = label_encoder.inverse_transform(test_df.label.values)\n",
        "\n",
        "print(classification_report(gold_labels, predicted_labels, zero_division=0))"
      ],
      "metadata": {
        "id": "7jbEizzfZHle",
        "trusted": true,
        "ExecuteTime": {
          "end_time": "2024-10-28T14:10:11.542992Z",
          "start_time": "2024-10-28T14:10:07.147311Z"
        },
        "outputId": "e315c7e5-1024-43be-a2d8-8735ca7995f4"
      },
      "outputs": [
        {
          "name": "stdout",
          "output_type": "stream",
          "text": [
            "                                                 precision    recall  f1-score   support\n",
            "\n",
            "                                      Aflatoxin       1.00      1.00      1.00         1\n",
            "                                 abnormal smell       0.00      0.00      0.00         2\n",
            "                                alcohol content       0.00      0.00      0.00         0\n",
            "                                      alkaloids       0.00      0.00      0.00         2\n",
            "                                      allergens       0.00      0.00      0.00         3\n",
            "                                         almond       0.88      1.00      0.94        15\n",
            "                                  bacillus spp.       0.50      0.67      0.57         3\n",
            "                           bad smell / off odor       0.00      0.00      0.00         3\n",
            "                                  bone fragment       1.00      1.00      1.00         1\n",
            "                                     brazil nut       0.00      0.00      0.00         1\n",
            "                              bulging packaging       0.50      1.00      0.67         3\n",
            "                                         cashew       0.67      0.67      0.67         3\n",
            "                    celery and products thereof       0.00      0.00      0.00         1\n",
            "                                        cereals       0.00      0.00      0.00         0\n",
            " cereals containing gluten and products thereof       0.91      0.89      0.90        36\n",
            "                                       chemical       0.00      0.00      0.00         0\n",
            "               chemical compound (high content)       1.00      1.00      1.00         1\n",
            "               chemical compound (unauthorised)       0.00      0.00      0.00         2\n",
            "                                       chlorine       1.00      1.00      1.00         1\n",
            "                          clostridium botulinum       0.88      1.00      0.93         7\n",
            "                                        coconut       0.33      1.00      0.50         1\n",
            "                                      coliforms       1.00      1.00      1.00         2\n",
            "                        compositional deviation       0.00      0.00      0.00         1\n",
            "                                    contaminant       0.00      0.00      0.00         1\n",
            "                                cronobacter spp       1.00      1.00      1.00         1\n",
            "               crustaceans and products thereof       0.50      1.00      0.67         1\n",
            "                                     cyclospora       1.00      1.00      1.00         1\n",
            "                                 dairy products       0.00      0.00      0.00         1\n",
            "                              damaged packaging       0.00      0.00      0.00         0\n",
            "                                        dioxins       1.00      1.00      1.00         1\n",
            "                    e 425 - konjac unauthorised       1.00      0.33      0.50         3\n",
            "                      eggs and products thereof       0.80      0.94      0.87        35\n",
            "                                  enteroviruses       1.00      1.00      1.00         1\n",
            "                               escherichia coli       1.00      1.00      1.00        24\n",
            "                         false marketing claims       0.00      0.00      0.00         1\n",
            "                      fish and products thereof       0.80      1.00      0.89         4\n",
            "                                 foreign bodies       0.33      0.50      0.40         2\n",
            "                                 glass fragment       0.89      0.94      0.92        18\n",
            "                                   heavy metals       1.00      0.80      0.89         5\n",
            "                         high content of copper       0.00      0.00      0.00         1\n",
            "                       high content of vitamins       1.00      1.00      1.00         1\n",
            "                            improper conditions       0.00      0.00      0.00         0\n",
            "                             improper packaging       0.00      0.00      0.00         0\n",
            "                             incorrect labeling       0.00      0.00      0.00         7\n",
            "                         incorrect use by dates       0.00      0.00      0.00         5\n",
            "                                        insects       1.00      1.00      1.00         3\n",
            "                              inspection issues       0.57      0.93      0.70        14\n",
            "           insufficient labelling/documentation       0.00      0.00      0.00         4\n",
            "                       labelling/misdescription       0.00      0.00      0.00         7\n",
            "                         listeria monocytogenes       0.94      1.00      0.97        76\n",
            "                                   listeria spp       0.00      0.00      0.00         1\n",
            "                                 metal fragment       0.96      0.96      0.96        24\n",
            "                  microbiological contamination       0.50      1.00      0.67         3\n",
            "                      milk and products thereof       0.89      0.90      0.90       105\n",
            "                                    misbranding       0.00      0.00      0.00         2\n",
            "                                 misdescription       0.00      0.00      0.00         5\n",
            "                                    mislabelled       0.00      0.00      0.00         1\n",
            "                  molluscs and products thereof       0.00      0.00      0.00         1\n",
            "                                         moulds       1.00      1.00      1.00         6\n",
            "                   mustard and products thereof       0.86      1.00      0.92         6\n",
            "                                       nitrogen       0.00      0.00      0.00         0\n",
            "                      non compliance with HACCP       0.00      0.00      0.00         1\n",
            "                                      norovirus       1.00      0.50      0.67         2\n",
            "                                     novel food       0.00      0.00      0.00         1\n",
            "                                           nuts       0.20      0.33      0.25         3\n",
            "                                          other       0.50      0.35      0.41        20\n",
            "                       other misbranding issues       0.00      0.00      0.00         2\n",
            "                           other not classified       0.50      0.60      0.55         5\n",
            "          other not classified allergen hazards       0.00      0.00      0.00         2\n",
            "        other not classified biological hazards       0.50      1.00      0.67         1\n",
            "          other not classified chemical hazards       0.75      0.50      0.60         6\n",
            "other not classified hazards for foreign bodies       0.00      0.00      0.00         0\n",
            "                               packaging defect       0.00      0.00      0.00         5\n",
            "                                           pahs       0.00      0.00      0.00         0\n",
            "                            pathogenic bacteria       0.00      0.00      0.00         1\n",
            "                                        patulin       1.00      1.00      1.00         3\n",
            "                   peanuts and products thereof       0.91      0.94      0.93        34\n",
            "                                      pecan nut       0.40      1.00      0.57         2\n",
            "                                 phenylpyrazole       0.00      0.00      0.00         1\n",
            "                                 pieces of wood       0.00      0.00      0.00         0\n",
            "                                  pistachio nut       0.00      0.00      0.00         1\n",
            "                               plastic fragment       0.92      0.92      0.92        25\n",
            "                            poor hygienic state       0.00      0.00      0.00         1\n",
            "                  poor or insufficient controls       0.67      1.00      0.80         2\n",
            "                                     processing       1.00      0.71      0.83         7\n",
            "                               pseudomonas spp.       0.00      0.00      0.00         1\n",
            "                               rubber fragments       0.67      1.00      0.80         2\n",
            "                                     salmonella       0.99      0.99      0.99        77\n",
            "              sesame seeds and products thereof       1.00      0.67      0.80         6\n",
            "                  soybeans and products thereof       0.86      0.89      0.87        27\n",
            "                  specified risk material (srm)       1.00      1.00      1.00         1\n",
            "                                       spoilage       0.80      0.80      0.80         5\n",
            "                                         stones       1.00      0.50      0.67         2\n",
            "                    sulfamethazine unauthorised       1.00      1.00      1.00         1\n",
            "                            sulphates/sulphites       0.00      0.00      0.00         1\n",
            "                                sulphur dioxide       1.00      1.00      1.00         2\n",
            "                  sulphur dioxide and sulphites       0.92      0.96      0.94        23\n",
            "                              taste disturbance       0.00      0.00      0.00         1\n",
            " too high content of tetrahydrocannabinol (THC)       1.00      1.00      1.00         1\n",
            "                                          toxin       1.00      1.00      1.00         2\n",
            "                    unauthorised colour sudan 4       1.00      1.00      1.00         1\n",
            "                            unauthorised import       0.00      0.00      0.00         1\n",
            "                          unauthorised operator       0.00      0.00      0.00         0\n",
            "             unauthorised placing on the market       0.00      0.00      0.00         1\n",
            "          unauthorised substance ethylene oxide       0.90      1.00      0.95         9\n",
            "              unauthorised substance sildenafil       0.33      1.00      0.50         1\n",
            "                            undeclared additive       0.14      0.50      0.22         2\n",
            "                    unfit for human consumption       0.00      0.00      0.00         1\n",
            "                                     vibrio spp       0.00      0.00      0.00         1\n",
            "                                          virus       1.00      1.00      1.00         1\n",
            "                                         walnut       1.00      0.83      0.91         6\n",
            "\n",
            "                                       accuracy                           0.82       761\n",
            "                                      macro avg       0.47      0.50      0.47       761\n",
            "                                   weighted avg       0.79      0.82      0.80       761\n",
            "\n"
          ]
        }
      ],
      "execution_count": null
    },
    {
      "cell_type": "code",
      "source": [
        "model_hazard.save_pretrained(\"bert_hazard\")"
      ],
      "metadata": {
        "id": "rWPiviPlHxvr",
        "trusted": true,
        "ExecuteTime": {
          "end_time": "2024-10-28T14:10:12.253095Z",
          "start_time": "2024-10-28T14:10:11.542992Z"
        }
      },
      "outputs": [],
      "execution_count": null
    },
    {
      "cell_type": "markdown",
      "source": [
        "# Label: `product`"
      ],
      "metadata": {
        "id": "uFjG06XBZWCI"
      }
    },
    {
      "cell_type": "code",
      "source": [
        "data = pd.read_csv('incidents_train.csv', index_col=0)\n",
        "\n",
        "data['title_text'] = data['title'] + data['text']\n"
      ],
      "metadata": {
        "trusted": true,
        "id": "4RxedkexuLvU",
        "ExecuteTime": {
          "end_time": "2024-10-28T14:10:12.332760Z",
          "start_time": "2024-10-28T14:10:12.253095Z"
        }
      },
      "outputs": [],
      "execution_count": null
    },
    {
      "cell_type": "code",
      "source": [
        "label = 'product'\n",
        "\n",
        "label_encoder = LabelEncoder()\n",
        "\n",
        "data['label'] = label_encoder.fit_transform(data[label])"
      ],
      "metadata": {
        "trusted": true,
        "id": "a3-SRRP0uLvV",
        "ExecuteTime": {
          "end_time": "2024-10-28T14:10:12.336532Z",
          "start_time": "2024-10-28T14:10:12.332760Z"
        }
      },
      "outputs": [],
      "execution_count": 23
    },
    {
      "cell_type": "code",
      "source": [
        "# Filter the training set based on title length\n",
        "\n",
        "\n",
        "filter_data = data[data['text'].str.split().apply(len) <424 ]\n",
        "\n"
      ],
      "metadata": {
        "trusted": true,
        "id": "NYr-OAjouLvV",
        "ExecuteTime": {
          "end_time": "2024-10-28T14:10:12.422407Z",
          "start_time": "2024-10-28T14:10:12.336532Z"
        }
      },
      "outputs": [],
      "execution_count": null
    },
    {
      "cell_type": "code",
      "source": [
        "\n",
        "# Split the data into training and testing sets\n",
        "train_df, test_df = train_test_split(filter_data, test_size=0.2, random_state=42)\n",
        "# train_df, test_df = train_test_split(data, test_size=0.2, random_state=42)"
      ],
      "metadata": {
        "trusted": true,
        "id": "VzZvJVlduLvV",
        "ExecuteTime": {
          "end_time": "2024-10-28T14:10:12.426163Z",
          "start_time": "2024-10-28T14:10:12.422407Z"
        }
      },
      "outputs": [],
      "execution_count": null
    },
    {
      "cell_type": "code",
      "source": [
        "# Step 2: Separate features and labels for training data\n",
        "X_train = train_df['title_text']\n",
        "y_train = train_df['label']\n",
        "\n",
        "# Step 3: Tokenize the training data\n",
        "X_train_tokenized = [tokenizer(title, padding=True, truncation=True, return_tensors='pt')['input_ids'][0] for title in X_train]\n",
        "\n",
        "# Step 4: Pad the tokenized sequences to a fixed length\n",
        "X_train_padded = pad_sequence(X_train_tokenized, batch_first=True, padding_value=0)\n",
        "\n",
        "# Step 5: Convert padded sequences to a NumPy array for oversampling\n",
        "X_train_np = X_train_padded.numpy()\n",
        "\n",
        "# Step 6: Apply oversampling to the tokenized data\n",
        "oversampler = RandomOverSampler(random_state=42)\n",
        "X_resampled, y_resampled = oversampler.fit_resample(X_train_np, y_train)\n",
        "\n",
        "# Step 7: Create a new dataset with the oversampled data\n",
        "resampled_dataset = Dataset.from_dict({'input_ids': [torch.tensor(x) for x in X_resampled], 'label': y_resampled})\n",
        "resampled_dataset.set_format(type='torch', columns=['input_ids', 'label'])\n",
        "\n",
        "# Step 8: Convert the test DataFrame to Hugging Face Dataset\n",
        "test_dataset = Dataset.from_pandas(test_df)\n",
        "test_dataset = test_dataset.map(tokenize_function, batched=True)\n",
        "test_dataset.set_format(type='torch', columns=['input_ids', 'attention_mask', 'label'])"
      ],
      "metadata": {
        "trusted": true,
        "id": "J2WkK2wFuLvV",
        "ExecuteTime": {
          "end_time": "2024-10-28T14:10:24.834509Z",
          "start_time": "2024-10-28T14:10:12.426163Z"
        },
        "outputId": "6a21a5c6-5f06-4edf-9f49-52e55499715f",
        "colab": {
          "referenced_widgets": [
            "b689eb12ca5b494c841ffec1371ef809"
          ]
        }
      },
      "outputs": [
        {
          "data": {
            "text/plain": [
              "Map:   0%|          | 0/761 [00:00<?, ? examples/s]"
            ],
            "application/vnd.jupyter.widget-view+json": {
              "version_major": 2,
              "version_minor": 0,
              "model_id": "b689eb12ca5b494c841ffec1371ef809"
            }
          },
          "metadata": {},
          "output_type": "display_data"
        }
      ],
      "execution_count": null
    },
    {
      "cell_type": "code",
      "source": [
        "\n",
        "\n",
        "\n",
        "\n",
        "\n",
        "# Convert DataFrame to Hugging Face Dataset\n",
        "\n",
        "train_dataset = Dataset.from_pandas(train_df)\n",
        "\n",
        "test_dataset = Dataset.from_pandas(test_df)\n",
        "\n",
        "\n",
        "\n",
        "# Apply the tokenizer to the dataset\n",
        "\n",
        "train_dataset = train_dataset.map(tokenize_function, batched=True)\n",
        "\n",
        "test_dataset = test_dataset.map(tokenize_function, batched=True)\n",
        "\n",
        "\n",
        "\n",
        "# Create DataCollator to handle padding\n",
        "\n",
        "data_collator = DataCollatorWithPadding(tokenizer=tokenizer, padding=True, max_length=16)\n",
        "\n",
        "\n",
        "\n",
        "# Convert dataset to PyTorch format\n",
        "\n",
        "train_dataset.set_format(type='torch', columns=['input_ids', 'attention_mask', 'label'])\n",
        "\n",
        "test_dataset.set_format(type='torch', columns=['input_ids', 'attention_mask', 'label'])\n",
        "\n",
        "\n",
        "\n",
        "\n",
        "# Create DataLoader for the oversampled training dataset\n",
        "train_dataloader = DataLoader(resampled_dataset, shuffle=True, batch_size=8, collate_fn=data_collator)\n",
        "\n",
        "# Create DataLoader for the test dataset (remains unchanged)\n",
        "test_dataloader = DataLoader(test_dataset, batch_size=8, collate_fn=data_collator)"
      ],
      "metadata": {
        "id": "ZND1Vb6fZVSg",
        "trusted": true,
        "ExecuteTime": {
          "end_time": "2024-10-28T14:10:35.035510Z",
          "start_time": "2024-10-28T14:10:24.834509Z"
        },
        "outputId": "8fe55950-da74-4982-f32a-24a858553d61",
        "colab": {
          "referenced_widgets": [
            "526a72e8a23d40b9a0cc220c1ea6e6b2",
            "8518540258fb49ecbe9137bdd3ac4101"
          ]
        }
      },
      "outputs": [
        {
          "data": {
            "text/plain": [
              "Map:   0%|          | 0/3042 [00:00<?, ? examples/s]"
            ],
            "application/vnd.jupyter.widget-view+json": {
              "version_major": 2,
              "version_minor": 0,
              "model_id": "526a72e8a23d40b9a0cc220c1ea6e6b2"
            }
          },
          "metadata": {},
          "output_type": "display_data"
        },
        {
          "data": {
            "text/plain": [
              "Map:   0%|          | 0/761 [00:00<?, ? examples/s]"
            ],
            "application/vnd.jupyter.widget-view+json": {
              "version_major": 2,
              "version_minor": 0,
              "model_id": "8518540258fb49ecbe9137bdd3ac4101"
            }
          },
          "metadata": {},
          "output_type": "display_data"
        }
      ],
      "execution_count": null
    },
    {
      "cell_type": "code",
      "source": [
        "model_product = BertForSequenceClassification.from_pretrained('bert-base-uncased', num_labels=len(data[label].unique()))\n",
        "\n",
        "model_product.to('cuda')  # Move model to GPU if available\n",
        "\n",
        "\n",
        "\n",
        "optimizer = AdamW(model_product.parameters(), lr=5e-5)\n",
        "\n",
        "num_epochs = 3\n",
        "\n",
        "num_training_steps = num_epochs * len(train_dataloader)\n",
        "\n",
        "lr_scheduler = get_scheduler(\n",
        "\n",
        "    name=\"linear\",\n",
        "\n",
        "    optimizer=optimizer,\n",
        "\n",
        "    num_warmup_steps=0,\n",
        "\n",
        "    num_training_steps=num_training_steps,\n",
        "\n",
        ")\n",
        "\n",
        "model_product.train()\n",
        "\n",
        "progress_bar = tqdm(range(num_training_steps))\n",
        "\n",
        "for epoch in range(num_epochs):\n",
        "\n",
        "    for batch in train_dataloader:\n",
        "\n",
        "        batch = {k: v.to('cuda') for k, v in batch.items()}  # Move batch to GPU if available\n",
        "\n",
        "        outputs = model_product(**batch)\n",
        "\n",
        "        loss = outputs.loss\n",
        "\n",
        "        loss.backward()\n",
        "\n",
        "        optimizer.step()\n",
        "\n",
        "        lr_scheduler.step()\n",
        "\n",
        "        optimizer.zero_grad()\n",
        "\n",
        "        progress_bar.update(1)"
      ],
      "metadata": {
        "id": "UzOywpcMZfm5",
        "trusted": true,
        "ExecuteTime": {
          "end_time": "2024-10-28T15:46:42.320913Z",
          "start_time": "2024-10-28T14:10:35.035510Z"
        },
        "outputId": "a9b81f9f-1543-421e-a622-12e3fd80e634",
        "colab": {
          "referenced_widgets": [
            "997845c778bf44e4b18e95be59a907e7"
          ]
        }
      },
      "outputs": [
        {
          "name": "stderr",
          "output_type": "stream",
          "text": [
            "C:\\Users\\lzh\\.conda\\envs\\DeepLearning\\Lib\\site-packages\\huggingface_hub\\file_download.py:1132: FutureWarning: `resume_download` is deprecated and will be removed in version 1.0.0. Downloads always resume when possible. If you want to force a new download, use `force_download=True`.\n",
            "  warnings.warn(\n",
            "Some weights of BertForSequenceClassification were not initialized from the model checkpoint at bert-base-uncased and are newly initialized: ['classifier.bias', 'classifier.weight']\n",
            "You should probably TRAIN this model on a down-stream task to be able to use it for predictions and inference.\n",
            "C:\\Users\\lzh\\.conda\\envs\\DeepLearning\\Lib\\site-packages\\transformers\\optimization.py:429: FutureWarning: This implementation of AdamW is deprecated and will be removed in a future version. Use the PyTorch implementation torch.optim.AdamW instead, or set `no_deprecation_warning=True` to disable this warning\n",
            "  warnings.warn(\n"
          ]
        },
        {
          "data": {
            "text/plain": [
              "  0%|          | 0/38436 [00:00<?, ?it/s]"
            ],
            "application/vnd.jupyter.widget-view+json": {
              "version_major": 2,
              "version_minor": 0,
              "model_id": "997845c778bf44e4b18e95be59a907e7"
            }
          },
          "metadata": {},
          "output_type": "display_data"
        },
        {
          "name": "stderr",
          "output_type": "stream",
          "text": [
            "C:\\Users\\lzh\\.conda\\envs\\DeepLearning\\Lib\\site-packages\\transformers\\tokenization_utils_base.py:2637: UserWarning: `max_length` is ignored when `padding`=`True` and there is no truncation strategy. To pad to max length, use `padding='max_length'`.\n",
            "  warnings.warn(\n"
          ]
        }
      ],
      "execution_count": null
    },
    {
      "cell_type": "code",
      "source": [
        "model_product.eval()\n",
        "\n",
        "total_predictions = []\n",
        "\n",
        "with torch.no_grad():\n",
        "\n",
        "    for batch in test_dataloader:\n",
        "\n",
        "        batch = {k: v.to('cuda') for k, v in batch.items()}  # Move batch to GPU if available\n",
        "\n",
        "        outputs = model_product(**batch)\n",
        "\n",
        "        predictions = torch.argmax(outputs.logits, dim=-1)\n",
        "\n",
        "        total_predictions.extend([p.item() for p in predictions])\n",
        "\n",
        "\n",
        "\n",
        "#print(classification_report(test_df.label, total_predictions, zero_division=0))\n",
        "\n",
        "predicted_labels = label_encoder.inverse_transform(total_predictions)\n",
        "\n",
        "gold_labels = label_encoder.inverse_transform(test_df.label.values)\n",
        "\n",
        "print(classification_report(gold_labels, predicted_labels, zero_division=0))"
      ],
      "metadata": {
        "id": "BDnC9FVTZqWt",
        "trusted": true,
        "ExecuteTime": {
          "end_time": "2024-10-28T15:46:46.874465Z",
          "start_time": "2024-10-28T15:46:42.321917Z"
        },
        "outputId": "f26d454b-ed2c-4da8-a6d6-6a774c559219"
      },
      "outputs": [
        {
          "name": "stdout",
          "output_type": "stream",
          "text": [
            "                                                                        precision    recall  f1-score   support\n",
            "\n",
            "                                                Catfishes (freshwater)       0.67      1.00      0.80         2\n",
            "                                                 Fishes not identified       0.38      0.60      0.46         5\n",
            "                                              Not classified pork meat       0.00      0.00      0.00         0\n",
            "                                            Pangas catfishes (generic)       0.00      0.00      0.00         0\n",
            "                                   Precooked cooked pork meat products       0.00      0.00      0.00         6\n",
            "                                                   alcoholic beverages       0.00      0.00      0.00         1\n",
            "                                                       alfalfa sprouts       0.00      0.00      0.00         5\n",
            "                                                                 algae       0.00      0.00      0.00         2\n",
            "                                                 all purpose seasoning       1.00      1.00      1.00         1\n",
            "                                                           almond milk       0.00      0.00      0.00         1\n",
            "                                                       almond products       0.00      0.00      0.00         0\n",
            "                                                               almonds       0.00      0.00      0.00         0\n",
            "                                                      anchovies in oil       0.00      0.00      0.00         1\n",
            "                                                            angus beef       0.00      0.00      0.00         1\n",
            "                                                           apple juice       0.00      0.00      0.00         3\n",
            "                                                             baby food       1.00      0.25      0.40         4\n",
            "                                                          baby spinach       0.50      1.00      0.67         1\n",
            "                                                       bakery products       0.00      0.00      0.00         3\n",
            "                                                            baking mix       0.00      0.00      0.00         1\n",
            "                                                              balsamic       0.00      0.00      0.00         1\n",
            "                                                                bamboo       0.00      0.00      0.00         0\n",
            "                                                         bamboo shoots       0.00      0.00      0.00         1\n",
            "                                                                  bars       0.00      0.00      0.00         1\n",
            "                                                                 basil       0.00      0.00      0.00         1\n",
            "                                                     basil pesto sauce       1.00      0.75      0.86         4\n",
            "                                                            bean sauce       0.00      0.00      0.00         2\n",
            "                                                          bean sprouts       0.00      0.00      0.00         2\n",
            "                                                                  beef       0.00      0.00      0.00         6\n",
            "                                                         beef products       0.33      1.00      0.50         2\n",
            "                                                           beef tallow       0.00      0.00      0.00         1\n",
            "                                                  beef tenderloin cuts       0.00      0.00      0.00         1\n",
            "                                                        beef trimmings       0.00      0.00      0.00         1\n",
            "                                                                  beer       0.50      1.00      0.67         2\n",
            "                                                              beverage       0.00      0.00      0.00         0\n",
            "                                                              biscuits       0.44      0.50      0.47        16\n",
            "                                                          black caviar       0.00      0.00      0.00         0\n",
            "                                                          black pepper       0.00      0.00      0.00         1\n",
            "                                                          blackberries       0.00      0.00      0.00         1\n",
            "                                                           blue cheese       0.00      0.00      0.00         2\n",
            "                                                                  boar       0.00      0.00      0.00         1\n",
            "                                   boletus mushrooms, stems and pieces       0.00      0.00      0.00         1\n",
            "                                                         bottled water       0.00      0.00      0.00         1\n",
            "                                                                 bread       0.75      0.60      0.67         5\n",
            "                                           bread and products therefor       0.00      0.00      0.00         2\n",
            "                                                     breakfast cereals       0.00      0.00      0.00         2\n",
            "                                          breakfast cereals for babies       0.00      0.00      0.00         1\n",
            "                                                           brown beans       0.00      0.00      0.00         0\n",
            "                                                            brown rice       0.00      0.00      0.00         1\n",
            "                                                              brownies       0.00      0.00      0.00         2\n",
            "                                                                  buns       1.00      0.50      0.67         2\n",
            "                                                burrito (ready to eat)       0.50      1.00      0.67         1\n",
            "                                                                butter       0.00      0.00      0.00         1\n",
            "                                                               cabbage       0.00      0.00      0.00         1\n",
            "                                                       cake decoration       0.00      0.00      0.00         0\n",
            "                                                                 cakes       0.62      0.59      0.61        17\n",
            "                                                             camembert       0.00      0.00      0.00         1\n",
            "                                                               candies       0.22      0.33      0.27         6\n",
            "                                               canned artichoke hearts       0.00      0.00      0.00         1\n",
            "                                                        canned spinach       0.00      0.00      0.00         1\n",
            "                                                    cantaloupe (fresh)       0.00      0.00      0.00         0\n",
            "                                                         caramel bites       0.00      0.00      0.00         0\n",
            "                                            carbonated/sparkling water       0.00      0.00      0.00         1\n",
            "                                                           cauliflower       0.00      0.00      0.00         0\n",
            "                                                               cbd oil       0.00      0.00      0.00         1\n",
            "                                                                cereal       0.00      0.00      0.00         3\n",
            "                                                           cereal bars       0.00      0.00      0.00         2\n",
            "                                            cereal bars with chocolate       0.00      0.00      0.00         1\n",
            "                                                          cereal drink       1.00      1.00      1.00         1\n",
            "                                                               cereals       0.00      0.00      0.00         0\n",
            "                                                        cheddar cheese       0.00      0.00      0.00         1\n",
            "                                                                cheese       0.41      0.88      0.56         8\n",
            "                                           cheese - made from raw milk       0.00      0.00      0.00         1\n",
            "                                                        cheese burgers       0.00      0.00      0.00         1\n",
            "                                               cheese flavoured snacks       0.00      0.00      0.00         1\n",
            "                                                       cheese sausages       0.00      0.00      0.00         1\n",
            "                                                       cheese tortilla       0.00      0.00      0.00         1\n",
            "                                                            chia seeds       0.00      0.00      0.00         0\n",
            "                                                               chicken       0.00      0.00      0.00         1\n",
            "                                      chicken and chicken preparations       0.00      0.00      0.00         1\n",
            "                                                chicken based products       0.29      0.62      0.39        16\n",
            "                                                        chicken breast       0.00      0.00      0.00         1\n",
            "                                                   chicken noodle soup       1.00      0.50      0.67         2\n",
            "                                                  chicken preparations       0.00      0.00      0.00         4\n",
            "                                             chicken products - frozen       1.00      0.33      0.50         3\n",
            "                                            chicken steak without bone       0.00      0.00      0.00         0\n",
            "                                                             chickpeas       0.00      0.00      0.00         0\n",
            "                                                          chilled beef       0.00      0.00      0.00         1\n",
            "                                                     chilled pork ribs       0.00      0.00      0.00         1\n",
            "                                                 chilled pork sausages       0.00      0.00      0.00         1\n",
            "                                                        chilled salads       0.00      0.00      0.00         1\n",
            "                                                          chilli paste       0.50      1.00      0.67         1\n",
            "                                                         chilli pickle       0.00      0.00      0.00         0\n",
            "                                                         chilli powder       0.00      0.00      0.00         1\n",
            "                                                          chilli sauce       1.00      1.00      1.00         1\n",
            "                                                             chocolate       0.17      0.25      0.20         4\n",
            "                       chocolate and strawberry flavoured cyclone milk       0.00      0.00      0.00         1\n",
            "                                                        chocolate bars       0.33      0.33      0.33         9\n",
            "                                                       chocolate chips       0.00      0.00      0.00         2\n",
            "                                                chocolate drink powder       0.00      0.00      0.00         0\n",
            "                                    chocolate easter eggs with filling       0.00      0.00      0.00         0\n",
            "                                                        chocolate eggs       0.25      1.00      0.40         1\n",
            "                                                    chocolate products       0.00      0.00      0.00         1\n",
            "                                       chocolate spread with hazelnuts       0.00      0.00      0.00         0\n",
            "                                                            chocolates       0.00      0.00      0.00         3\n",
            "                                                               chorizo       0.00      0.00      0.00         1\n",
            "                                                       chorizo sausage       0.00      0.00      0.00         0\n",
            "                                                                 cider       1.00      1.00      1.00         2\n",
            "                                                              cinnamon       0.00      0.00      0.00         1\n",
            "                                                                 clams       0.00      0.00      0.00         1\n",
            "                                                cocktail sausage rolls       0.00      0.00      0.00         1\n",
            "                                                         coconut drink       0.00      0.00      0.00         2\n",
            "                                                         coconut juice       0.50      1.00      0.67         1\n",
            "                                                          coconut milk       0.17      1.00      0.29         1\n",
            "                                                    coconut milk drink       0.00      0.00      0.00         0\n",
            "                                                              coconuts       1.00      0.57      0.73         7\n",
            "                                                           cod fillets       0.00      0.00      0.00         1\n",
            "                                                          coffee beans       0.50      0.50      0.50         2\n",
            "                                                         confectionery       0.00      0.00      0.00         2\n",
            "                                                        cooked chicken       0.00      0.00      0.00         1\n",
            "                                                       cooked sausages       0.00      0.00      0.00         1\n",
            "                                                               cookies       0.53      1.00      0.69        10\n",
            "                                                         cooking sauce       0.00      0.00      0.00         1\n",
            "                                                             coriander       0.00      0.00      0.00         0\n",
            "                                                                  corn       0.62      0.62      0.62         8\n",
            "                                                        cottage cheese       0.00      0.00      0.00         1\n",
            "                                                           cottage pie       0.00      0.00      0.00         1\n",
            "                                                       cow milk cheese       0.00      0.00      0.00         2\n",
            "                                                                 crabs       0.00      0.00      0.00         2\n",
            "                                                              crackers       0.50      0.67      0.57         3\n",
            "                                                          cream cheese       0.00      0.00      0.00         2\n",
            "                                                                crisps       0.00      0.00      0.00         0\n",
            "                                                      cultivated fungi       1.00      1.00      1.00         1\n",
            "                                                          cumin powder       1.00      1.00      1.00         1\n",
            "                                                              cupcakes       0.00      0.00      0.00         1\n",
            "                                                           curd cheese       0.00      0.00      0.00         1\n",
            "                                                       cured pork meat       0.00      0.00      0.00         1\n",
            "                                                                 curry       1.00      1.00      1.00         2\n",
            "                                                           curry paste       0.00      0.00      0.00         0\n",
            "                                                          curry sauces       0.00      0.00      0.00         1\n",
            "                                         dark chocolate coated almonds       0.00      0.00      0.00         1\n",
            "                                                       dark chocolates       0.60      0.50      0.55         6\n",
            "                                                                 dates       0.00      0.00      0.00         4\n",
            "                                                              desserts       0.25      1.00      0.40         1\n",
            "                                                    dietary supplement       0.11      0.50      0.18         2\n",
            "                                                             dip-sauce       0.00      0.00      0.00         2\n",
            "                                                         dipping sauce       0.00      0.00      0.00         0\n",
            "                                                              dressing       0.00      0.00      0.00         1\n",
            "                                                       dressing sauces       0.00      0.00      0.00         1\n",
            "                                                          dried apples       0.00      0.00      0.00         1\n",
            "                                                        dried apricots       0.57      1.00      0.73         4\n",
            "                                                       dried beef meat       0.67      1.00      0.80         2\n",
            "                                                     dried brown beans       0.00      0.00      0.00         1\n",
            "                                                  dried chilli peppers       0.00      0.00      0.00         1\n",
            "                                                         dried coconut       0.33      0.50      0.40         2\n",
            "                                                            dried figs       1.00      1.00      1.00         1\n",
            "                                                       dried fruit mix       0.00      0.00      0.00         1\n",
            "                                                         dried pangash       0.00      0.00      0.00         0\n",
            "                                                   dried pork sausages       0.00      0.00      0.00         1\n",
            "                                                  dried shrimp noodles       0.00      0.00      0.00         0\n",
            "                                                          drink powder       0.00      0.00      0.00         1\n",
            "                                                               dry ham       0.00      0.00      0.00         1\n",
            "                                                           dry sausage       0.00      0.00      0.00         0\n",
            "                                                                  duck       0.00      0.00      0.00         2\n",
            "                                                             dumplings       0.00      0.00      0.00         1\n",
            "                                                                  eggs       0.75      0.75      0.75         4\n",
            "               emulsifiers, stabilizers, thickeners and gelling agents       0.00      0.00      0.00         1\n",
            "                                                        feed materials       0.00      0.00      0.00         4\n",
            "                                                          fennel seeds       1.00      1.00      1.00         1\n",
            "                                                   fermented beef meat       0.00      0.00      0.00         1\n",
            "                                                           feta cheese       0.50      1.00      0.67         1\n",
            "                                                fish and fish products       0.00      0.00      0.00         0\n",
            "                                                         fish products       0.00      0.00      0.00         1\n",
            "                                                              fish roe       1.00      0.50      0.67         2\n",
            "                                                      flavoured drinks       0.00      0.00      0.00         0\n",
            "                                                        flavoured milk       0.00      0.00      0.00         1\n",
            "                                   flavoured whey protein preparations       0.00      0.00      0.00         0\n",
            "                                                              flaxseed       1.00      1.00      1.00         1\n",
            "                                            flounders, halibuts, soles       0.00      0.00      0.00         1\n",
            "                                                                 flour       0.00      0.00      0.00         2\n",
            "                                                             foie gras       1.00      1.00      1.00         1\n",
            "                                                       food supplement       0.40      0.50      0.44         4\n",
            "                                                          french toast       0.00      0.00      0.00         0\n",
            "                                                          fresh cheese       0.00      0.00      0.00         2\n",
            "                                                  fresh cut vegetables       0.00      0.00      0.00         1\n",
            "                                                     fresh goat cheese       0.00      0.00      0.00         0\n",
            "                                                       fresh mushrooms       0.86      1.00      0.92         6\n",
            "                                                            fresh pork       0.00      0.00      0.00         1\n",
            "                                                       fresh pork loin       0.00      0.00      0.00         1\n",
            "                                  fresh poultry and poultry prepations       0.00      0.00      0.00         0\n",
            "                                                   frozen beef lasagne       0.00      0.00      0.00         0\n",
            "                                                   frozen beef patties       0.00      0.00      0.00         1\n",
            "                                                   frozen bourbon ribs       0.00      0.00      0.00         0\n",
            "                                                       frozen broccoli       0.00      0.00      0.00         0\n",
            "                                                    frozen burger buns       0.00      0.00      0.00         0\n",
            "                                    frozen chicken strips with tendons       0.00      0.00      0.00         1\n",
            "                                                  frozen chicken wings       0.00      0.00      0.00         0\n",
            "                                                    frozen cod fillets       0.00      0.00      0.00         1\n",
            "                                            frozen dumplings with pork       0.00      0.00      0.00         0\n",
            "                                                   frozen fish fillets       0.00      0.00      0.00         1\n",
            "                                                     frozen hamburgers       0.00      0.00      0.00         1\n",
            "                                              frozen marinated chicken       0.00      0.00      0.00         0\n",
            "                                                       frozen pancakes       0.00      0.00      0.00         0\n",
            "                                                           frozen peas       0.00      0.00      0.00         1\n",
            "                                                        frozen peppers       0.00      0.00      0.00         1\n",
            "                                                            frozen pie       0.00      0.00      0.00         1\n",
            "                                                          frozen pizza       0.00      0.00      0.00         2\n",
            "                                              frozen pork preparations       0.00      0.00      0.00         1\n",
            "                                                      frozen pork ribs       0.00      0.00      0.00         1\n",
            "                                                       frozen potatoes       0.00      0.00      0.00         1\n",
            "                                               frozen poultry products       0.00      0.00      0.00         1\n",
            "                                          frozen ready to cook chicken       0.00      0.00      0.00         0\n",
            "                                          frozen ready to eat products       0.50      1.00      0.67         1\n",
            "                                                       frozen sausages       0.00      0.00      0.00         1\n",
            "                                         frozen seasoned potato wedges       0.00      0.00      0.00         0\n",
            "                                                 frozen sliced coconut       0.00      0.00      0.00         0\n",
            "                                                        frozen spinach       0.00      0.00      0.00         0\n",
            "                                              frozen vegetarian cutlet       0.00      0.00      0.00         1\n",
            "                                                           fruit juice       0.00      0.00      0.00         1\n",
            "                                                           fruit salad       0.00      0.00      0.00         0\n",
            "                                           fruit salad with cantaloupe       0.00      0.00      0.00         1\n",
            "                                                         garlic powder       0.00      0.00      0.00         1\n",
            "                                                         ginger powder       0.00      0.00      0.00         0\n",
            "                                                         ginger slices       0.00      0.00      0.00         1\n",
            "                                                golden enoki mushrooms       0.00      0.00      0.00         1\n",
            "                                               golden raisins/sultanas       1.00      1.00      1.00         1\n",
            "                                                               granola       0.50      1.00      0.67         1\n",
            "                                                        grated coconut       0.00      0.00      0.00         1\n",
            "                                                            green bean       0.00      0.00      0.00         1\n",
            "                                                           ground beef       0.83      0.83      0.83         6\n",
            "                                                             guacamole       1.00      1.00      1.00         1\n",
            "                                                                   ham       0.56      0.71      0.62         7\n",
            "                                                             hazelnuts       0.00      0.00      0.00         1\n",
            "                                                              hemp oil       0.00      0.00      0.00         1\n",
            "                                                   hemp protein powder       0.00      0.00      0.00         1\n",
            "                                                              hemp tea       0.00      0.00      0.00         0\n",
            "                                                         herbal premix       0.00      0.00      0.00         1\n",
            "                                                               herring       1.00      1.00      1.00         1\n",
            "                                                             honeycomb       0.00      0.00      0.00         1\n",
            "                                                      hot dog sausages       0.00      0.00      0.00         1\n",
            "                                                              hot dogs       0.00      0.00      0.00         1\n",
            "                                                             ice cream       0.81      0.92      0.86        24\n",
            "                                                              iced tea       0.00      0.00      0.00         1\n",
            "                                                     ices and desserts       0.00      0.00      0.00         1\n",
            "                                                          indian curry       0.00      0.00      0.00         1\n",
            "                                                        infant formula       0.00      0.00      0.00         1\n",
            "                                                        instant coffee       0.00      0.00      0.00         1\n",
            "                                                       instant noodles       0.00      0.00      0.00         1\n",
            "                                                                   jam       0.00      0.00      0.00         3\n",
            "                                                               jellies       1.00      0.60      0.75         5\n",
            "                                                        jerky products       0.00      0.00      0.00         1\n",
            "                                                                juices       0.00      0.00      0.00         1\n",
            "                                                                  kale       0.00      0.00      0.00         1\n",
            "                                                               ketchup       0.00      0.00      0.00         1\n",
            "                                                                  lamb       0.00      0.00      0.00         2\n",
            "                                                               lasagne       0.00      0.00      0.00         1\n",
            "                                                           lemon juice       0.00      0.00      0.00         1\n",
            "                                                 lemonade (lemon soda)       0.00      0.00      0.00         1\n",
            "                                                               lettuce       0.00      0.00      0.00         1\n",
            "                                                             liquorice       0.00      0.00      0.00         1\n",
            "                                                             lollipops       0.00      0.00      0.00         1\n",
            "                                                       long grain rice       0.00      0.00      0.00         0\n",
            "                                                           lupin seeds       0.00      0.00      0.00         1\n",
            "                                                        macadamia nuts       0.33      1.00      0.50         1\n",
            "                                                                 maize       1.00      1.00      1.00         1\n",
            "                                                marinated chicken meat       0.00      0.00      0.00         1\n",
            "                                                      masala spice mix       0.00      0.00      0.00         1\n",
            "                                             mashed chickpeas (hummus)       0.00      0.00      0.00         1\n",
            "                                                            mayonnaise       1.00      0.50      0.67         2\n",
            "                           meat and meat products (other than poultry)       0.00      0.00      0.00         1\n",
            "meat samosas, vegetable samosas, chicken samosas and meat spring rolls       0.00      0.00      0.00         0\n",
            "                                                           melon seeds       1.00      1.00      1.00         1\n",
            "                                                                melons       0.00      0.00      0.00         1\n",
            "                                                                  milk       0.62      0.71      0.67         7\n",
            "                                                milk and milk products       0.00      0.00      0.00         1\n",
            "                                        milk chocolate covered raisins       0.50      1.00      0.67         1\n",
            "                                                       milk chocolates       0.00      0.00      0.00         1\n",
            "                                                                millet       1.00      0.50      0.67         2\n",
            "                                                           minced beef       0.00      0.00      0.00         1\n",
            "                                                           minced pork       0.00      0.00      0.00         0\n",
            "                                                         mineral water       0.00      0.00      0.00         0\n",
            "                                                        mineral waters       0.00      0.00      0.00         1\n",
            "                                                        mint chocolate       0.00      0.00      0.00         1\n",
            "                                           mitragyna speciosa (kratom)       1.00      1.00      1.00         1\n",
            "                                                            mixed nuts       0.00      0.00      0.00         0\n",
            "                                                           mixed salad       0.00      0.00      0.00         1\n",
            "                                                     mozzarella cheese       0.00      0.00      0.00         2\n",
            "                                                                muesli       1.00      1.00      1.00         4\n",
            "                                                               muffins       0.67      1.00      0.80         2\n",
            "                                                               mustard       1.00      1.00      1.00         1\n",
            "                                                           nacho chips       0.00      0.00      0.00         1\n",
            "                                               non-alcoholic beverages       0.00      0.00      0.00         2\n",
            "                                                           noodle soup       0.00      0.00      0.00         0\n",
            "                                                               noodles       0.43      1.00      0.60         3\n",
            "                                                 nut and fruit mixture       0.00      0.00      0.00         1\n",
            "                                                    nut-almond mixture       0.00      0.00      0.00         1\n",
            "                                                       nutrition shake       0.00      0.00      0.00         1\n",
            "                                                                  nuts       0.00      0.00      0.00         2\n",
            "                                                              nuts mix       0.00      0.00      0.00         1\n",
            "                                                               octopus       0.00      0.00      0.00         1\n",
            "                                                                olives       0.00      0.00      0.00         0\n",
            "                                                                onions       0.33      1.00      0.50         1\n",
            "                                                organic chilled hummus       0.00      0.00      0.00         0\n",
            "                                                 organic coconut flour       0.00      0.00      0.00         0\n",
            "                                                           organic tea       0.00      0.00      0.00         0\n",
            "                                                          organic tofu       0.00      0.00      0.00         1\n",
            "                                                  other dairy products       0.25      0.60      0.35         5\n",
            "                                            other food product / mixed       0.00      0.00      0.00         1\n",
            "                                    other not classified meat products       0.00      0.00      0.00         4\n",
            "                                                   other types of meat       0.00      0.00      0.00         1\n",
            "                                              other water-based drinks       0.00      0.00      0.00         1\n",
            "                                                               oysters       1.00      1.00      1.00         1\n",
            "                                                              palm oil       1.00      1.00      1.00         1\n",
            "                                                              pancakes       0.67      0.50      0.57         4\n",
            "                                                parmesan cheese grated       0.00      0.00      0.00         1\n",
            "                                                               parsley       0.00      0.00      0.00         0\n",
            "                                                                 pasta       0.00      0.00      0.00         4\n",
            "                                                           pasta sauce       0.00      0.00      0.00         0\n",
            "                                                      pasteurized milk       0.00      0.00      0.00         0\n",
            "                                                                pastry       0.00      0.00      0.00         1\n",
            "                                                       pastry products       0.00      0.00      0.00         3\n",
            "                                                               peanuts       0.11      0.25      0.15         4\n",
            "                                                                  peas       0.00      0.00      0.00         1\n",
            "                                                                 pesto       0.00      0.00      0.00         2\n",
            "                                             pesto sauce (pesto verde)       0.00      0.00      0.00         1\n",
            "                                                              pet feed       0.00      0.00      0.00         2\n",
            "                                                      pickled cucumber       0.00      0.00      0.00         1\n",
            "                                                       pickled peppers       0.00      0.00      0.00         1\n",
            "                                                        pickled radish       0.00      0.00      0.00         0\n",
            "                                                       pig meat - pork       0.00      0.00      0.00         1\n",
            "                                                             pine nuts       0.00      0.00      0.00         1\n",
            "                                                        pistachio nuts       0.67      1.00      0.80         4\n",
            "                                                                 pizza       0.57      0.80      0.67         5\n",
            "                                                              plastics       0.00      0.00      0.00         0\n",
            "                                                                 plums       0.00      0.00      0.00         1\n",
            "                                                              pop corn       0.00      0.00      0.00         1\n",
            "                                                                 poppy       1.00      0.50      0.67         2\n",
            "                                                          pork sausage       0.00      0.00      0.00         9\n",
            "                                                          potato chips       0.56      1.00      0.71         5\n",
            "                                                          potato salad       1.00      1.00      1.00         3\n",
            "                                                              potatoes       0.00      0.00      0.00         2\n",
            "                                poultry meat and poultry meat products       0.00      0.00      0.00         1\n",
            "                                                                prawns       0.00      0.00      0.00         2\n",
            "                                                   prebaked apple pies       0.00      0.00      0.00         1\n",
            "                                   precooked cooked beef meat products       1.00      0.67      0.80         3\n",
            "                                                         prepared dish       0.50      0.50      0.50         2\n",
            "                                       prepared dish containing prawns       0.00      0.00      0.00         1\n",
            "                                                       prepared dishes       0.00      0.00      0.00         1\n",
            "                                            prepared dishes and snacks       0.00      0.00      0.00         0\n",
            "                                                       prepared salads       0.00      0.00      0.00         1\n",
            "                                               preserved red bean curd       0.00      0.00      0.00         1\n",
            "                                                              pretzels       0.50      1.00      0.67         1\n",
            "                                             probiotic food supplement       0.00      0.00      0.00         0\n",
            "                                                         protein balls       0.00      0.00      0.00         0\n",
            "                                                           protein bar       0.00      0.00      0.00         2\n",
            "                                                          protein bars       0.00      0.00      0.00         0\n",
            "                                                        protein powder       1.00      0.33      0.50         3\n",
            "                                                         pumpkin seeds       1.00      1.00      1.00         1\n",
            "                                                                quinoa       0.00      0.00      0.00         1\n",
            "                                                         ramen noodles       0.00      0.00      0.00         0\n",
            "                                                           raspberries       0.50      1.00      0.67         1\n",
            "                                                              raw milk       0.00      0.00      0.00         1\n",
            "                          raw pork meat and raw pork meat preparations       0.00      0.00      0.00         1\n",
            "                                             ready to eat - cook meals       0.17      0.46      0.25        13\n",
            "                                                                  rice       0.00      0.00      0.00         1\n",
            "                                                            rice cakes       0.00      0.00      0.00         0\n",
            "                                                         rice crackers       0.33      1.00      0.50         1\n",
            "                                                          rice noodles       0.00      0.00      0.00         1\n",
            "                                                            rice snack       0.00      0.00      0.00         2\n",
            "                                                       rice vermicelli       0.00      0.00      0.00         1\n",
            "                                  ricotta and spinach tortelloni pasta       0.00      0.00      0.00         1\n",
            "                                                        ricotta cheese       0.00      0.00      0.00         1\n",
            "                                                          roasted nuts       0.00      0.00      0.00         0\n",
            "                                                                salads       0.08      0.20      0.12         5\n",
            "                                                                salami       0.50      1.00      0.67         3\n",
            "                                                                salmon       1.00      1.00      1.00        10\n",
            "                                                       sandwich spread       1.00      1.00      1.00         2\n",
            "                                                            sandwiches       0.33      0.33      0.33         3\n",
            "                                                                 sauce       0.25      0.67      0.36         3\n",
            "                                                                sauces       0.00      0.00      0.00         2\n",
            "                                                               sausage       0.19      0.60      0.29         5\n",
            "                                                      sausage products       0.00      0.00      0.00         2\n",
            "                                                              scallops       0.00      0.00      0.00         0\n",
            "                                                               seafood       0.00      0.00      0.00         1\n",
            "                                                      seafood products       0.00      0.00      0.00         1\n",
            "                                                             seasoning       0.50      1.00      0.67         2\n",
            "                                                            seasonings       0.00      0.00      0.00         1\n",
            "                                                             seeds mix       0.00      0.00      0.00         1\n",
            "                                                                sesame       0.00      0.00      0.00         1\n",
            "                                                            sesame oil       0.00      0.00      0.00         0\n",
            "                                                          sesame paste       0.00      0.00      0.00         2\n",
            "                                                          sesame seeds       1.00      0.67      0.80         3\n",
            "                                                               shrimps       0.75      0.86      0.80         7\n",
            "                                                            sliced ham       0.00      0.00      0.00         1\n",
            "                                                        smoked sausage       0.00      0.00      0.00         3\n",
            "                                                             snack mix       0.17      0.20      0.18         5\n",
            "                                                      snacks (various)       0.00      0.00      0.00         1\n",
            "                                                           soft cheese       0.00      0.00      0.00         0\n",
            "                                                           soft drinks       0.00      0.00      0.00         1\n",
            "                                                   soft ripened cheese       0.00      0.00      0.00         1\n",
            "                                                                  soup       0.70      0.78      0.74         9\n",
            "                                                                 soups       0.00      0.00      0.00         0\n",
            "                                                        soy bean paste       0.00      0.00      0.00         1\n",
            "                                                      soy milk product       0.00      0.00      0.00         1\n",
            "                                                             soy sauce       0.00      0.00      0.00         1\n",
            "                                                           soy yoghurt       0.00      0.00      0.00         1\n",
            "                                                               soybean       0.00      0.00      0.00         0\n",
            "                                                             spice mix       0.00      0.00      0.00         2\n",
            "                                                                spices       0.00      0.00      0.00         1\n",
            "                                                               spinach       0.00      0.00      0.00         1\n",
            "                                                               spirits       0.00      0.00      0.00         1\n",
            "                                                           sport drink       1.00      1.00      1.00         1\n",
            "                                                                spread       0.00      0.00      0.00         1\n",
            "                                                          spring rolls       0.50      1.00      0.67         2\n",
            "                                                          spring water       0.00      0.00      0.00         3\n",
            "                                                               sprouts       0.00      0.00      0.00         0\n",
            "                                                                 squid       0.00      0.00      0.00         1\n",
            "                                                                squids       0.00      0.00      0.00         1\n",
            "                                                        sunflower seed       0.80      1.00      0.89         4\n",
            "                                                       sweet nut snack       0.00      0.00      0.00         0\n",
            "                                                           table water       0.00      0.00      0.00         1\n",
            "                                                                tahini       1.00      0.80      0.89         5\n",
            "                                                 tahini (sesame paste)       0.00      0.00      0.00         0\n",
            "                                                     tallegio (cheese)       0.00      0.00      0.00         1\n",
            "                                                              tarragon       0.00      0.00      0.00         1\n",
            "                                        tasty trio condiment selection       0.00      0.00      0.00         1\n",
            "                                                                   tea       0.00      0.00      0.00         1\n",
            "                                                              tea bags       0.00      0.00      0.00         1\n",
            "                                           thermal processed beef meat       0.33      1.00      0.50         1\n",
            "                                           thermal processed pork meat       0.21      0.50      0.30         6\n",
            "                                                                 thyme       0.00      0.00      0.00         1\n",
            "                                                            tiger nuts       0.00      0.00      0.00         1\n",
            "                                                                toffee       0.00      0.00      0.00         1\n",
            "                                                                  tofu       0.00      0.00      0.00         0\n",
            "                                                          tomato sauce       0.00      0.00      0.00         1\n",
            "                                                              tortilla       0.00      0.00      0.00         0\n",
            "                                                        tortilla chips       0.00      0.00      0.00         1\n",
            "                                                                  tuna       0.00      0.00      0.00         1\n",
            "                                        turkey and turkey preparations       0.50      0.50      0.50         2\n",
            "                                                 turkey based products       0.00      0.00      0.00         1\n",
            "                                                       turkey sandwich       0.00      0.00      0.00         0\n",
            "                                                       various cheeses       0.00      0.00      0.00         0\n",
            "                                                 various meat products       0.00      0.00      0.00         1\n",
            "                                                  various poultry meat       0.00      0.00      0.00         1\n",
            "                                    various ready-to-eat meat products       0.00      0.00      0.00         1\n",
            "                                                  veal meat and offals       0.00      0.00      0.00         1\n",
            "                                              vegetable based products       0.00      0.00      0.00         1\n",
            "                                                  vegetable crispbakes       0.00      0.00      0.00         0\n",
            "                                          vegetable ready to eat meals       0.00      0.00      0.00         1\n",
            "                                                            vegetables       0.00      0.00      0.00         1\n",
            "                                                              vitamins       0.00      0.00      0.00         1\n",
            "                                                   vitamins supplement       0.00      0.00      0.00         0\n",
            "                                                                 vodka       0.00      0.00      0.00         1\n",
            "                                                                wafers       0.00      0.00      0.00         1\n",
            "                                                               waffles       0.00      0.00      0.00         1\n",
            "                                                           wheat snack       0.00      0.00      0.00         1\n",
            "                                                                whisky       0.00      0.00      0.00         1\n",
            "                                                          white cheese       0.00      0.00      0.00         1\n",
            "                                                       white chocolate       0.00      0.00      0.00         0\n",
            "                                                   white lasagna sauce       1.00      1.00      1.00         1\n",
            "                                                                  wine       0.00      0.00      0.00         3\n",
            "                                                                 wraps       0.00      0.00      0.00         3\n",
            "                                                               yoghurt       0.80      1.00      0.89         4\n",
            "                                                        yogurt raisins       0.00      0.00      0.00         1\n",
            "\n",
            "                                                              accuracy                           0.38       761\n",
            "                                                             macro avg       0.16      0.19      0.16       761\n",
            "                                                          weighted avg       0.33      0.38      0.33       761\n",
            "\n"
          ]
        }
      ],
      "execution_count": null
    },
    {
      "cell_type": "code",
      "source": [
        "model_product.save_pretrained(\"bert_product\")\n",
        "\n",
        "tokenizer.save_pretrained(\"bert_tokenizer\")"
      ],
      "metadata": {
        "id": "maGolSynFapV",
        "trusted": true
      },
      "execution_count": null,
      "outputs": []
    },
    {
      "cell_type": "code",
      "source": [
        "!zip bert_baseline.zip bert_*"
      ],
      "metadata": {
        "id": "AcMVpk-FHtuK",
        "trusted": true
      },
      "execution_count": null,
      "outputs": []
    },
    {
      "cell_type": "markdown",
      "source": [
        "# Loading a trained baseline"
      ],
      "metadata": {
        "id": "of2EPdkmIzhP"
      }
    },
    {
      "cell_type": "code",
      "source": [
        "import torch\n",
        "\n",
        "from transformers import BertTokenizer, BertForSequenceClassification\n",
        "\n",
        "\n",
        "\n",
        "def predict(texts, model_path, tokenizer_path=\"bert_tokenizer\"):\n",
        "\n",
        "    # Load the saved tokenizer\n",
        "\n",
        "    tokenizer = BertTokenizer.from_pretrained(tokenizer_path)\n",
        "\n",
        "\n",
        "\n",
        "    # Load the saved model\n",
        "\n",
        "    model = BertForSequenceClassification.from_pretrained(model_path)\n",
        "\n",
        "\n",
        "\n",
        "    # Move model to GPU if available\n",
        "\n",
        "    device = torch.device(\"cuda\" if torch.cuda.is_available() else \"cpu\")\n",
        "\n",
        "    model.to(device)\n",
        "\n",
        "\n",
        "\n",
        "    # Tokenize the input texts\n",
        "\n",
        "    inputs = tokenizer(texts, padding=True, truncation=True, return_tensors=\"pt\")\n",
        "\n",
        "\n",
        "\n",
        "    # Move inputs to the same device as the model\n",
        "\n",
        "    inputs = {key: value.to(device) for key, value in inputs.items()}\n",
        "\n",
        "\n",
        "\n",
        "    # Set the model to evaluation mode\n",
        "\n",
        "    model.eval()\n",
        "\n",
        "\n",
        "\n",
        "    # Make predictions\n",
        "\n",
        "    with torch.no_grad():\n",
        "\n",
        "        outputs = model(**inputs)\n",
        "\n",
        "        logits = outputs.logits\n",
        "\n",
        "        predictions = torch.argmax(logits, dim=-1)\n",
        "\n",
        "\n",
        "\n",
        "    return predictions"
      ],
      "metadata": {
        "id": "HBgUSxhPIWaA",
        "trusted": true
      },
      "execution_count": null,
      "outputs": []
    },
    {
      "cell_type": "code",
      "source": [
        "from sklearn.metrics import f1_score\n",
        "\n",
        "\n",
        "\n",
        "def compute_score(hazards_true, products_true, hazards_pred, products_pred):\n",
        "\n",
        "  # compute f1 for hazards:\n",
        "\n",
        "  f1_hazards = f1_score(\n",
        "\n",
        "    hazards_true,\n",
        "\n",
        "    hazards_pred,\n",
        "\n",
        "    average='macro'\n",
        "\n",
        "  )\n",
        "\n",
        "\n",
        "\n",
        "  # compute f1 for products:\n",
        "\n",
        "  f1_products = f1_score(\n",
        "\n",
        "    products_true[hazards_pred == hazards_true],\n",
        "\n",
        "    products_pred[hazards_pred == hazards_true],\n",
        "\n",
        "    average='macro'\n",
        "\n",
        "  )\n",
        "\n",
        "\n",
        "\n",
        "  return (f1_hazards + f1_products) / 2."
      ],
      "metadata": {
        "id": "sumw9iLwKK_w",
        "trusted": true
      },
      "execution_count": null,
      "outputs": []
    },
    {
      "cell_type": "markdown",
      "source": [
        "### Sub-Task 1:"
      ],
      "metadata": {
        "id": "OJjb_aV8eQUj"
      }
    },
    {
      "cell_type": "code",
      "source": [
        "predictions = predict(trial.title.to_list(), \"bert_hazard_category\")\n",
        "\n",
        "\n",
        "\n",
        "# Decode predictions back to string labels\n",
        "\n",
        "label_encoder = LabelEncoder()\n",
        "\n",
        "label_encoder.fit(data['hazard-category'])\n",
        "\n",
        "\n",
        "\n",
        "trial['bert-hazard-category'] = predict(trial.title.to_list(), \"bert_hazard_category\")\n",
        "\n",
        "print(classification_report(trial['hazard-category'], trial['bert-hazard-category'], zero_division=0))"
      ],
      "metadata": {
        "id": "t8l2GeQAd8z6",
        "trusted": true,
        "outputId": "f8a2e396-58e4-4455-a976-a35dcfa604e0",
        "colab": {
          "base_uri": "https://localhost:8080/",
          "height": 216
        }
      },
      "execution_count": 24,
      "outputs": [
        {
          "output_type": "error",
          "ename": "NameError",
          "evalue": "name 'trial' is not defined",
          "traceback": [
            "\u001b[0;31m---------------------------------------------------------------------------\u001b[0m",
            "\u001b[0;31mNameError\u001b[0m                                 Traceback (most recent call last)",
            "\u001b[0;32m<ipython-input-24-64e542c7a447>\u001b[0m in \u001b[0;36m<cell line: 0>\u001b[0;34m()\u001b[0m\n\u001b[0;32m----> 1\u001b[0;31m \u001b[0mpredictions\u001b[0m \u001b[0;34m=\u001b[0m \u001b[0mpredict\u001b[0m\u001b[0;34m(\u001b[0m\u001b[0mtrial\u001b[0m\u001b[0;34m.\u001b[0m\u001b[0mtitle\u001b[0m\u001b[0;34m.\u001b[0m\u001b[0mto_list\u001b[0m\u001b[0;34m(\u001b[0m\u001b[0;34m)\u001b[0m\u001b[0;34m,\u001b[0m \u001b[0;34m\"bert_hazard_category\"\u001b[0m\u001b[0;34m)\u001b[0m\u001b[0;34m\u001b[0m\u001b[0;34m\u001b[0m\u001b[0m\n\u001b[0m\u001b[1;32m      2\u001b[0m \u001b[0;34m\u001b[0m\u001b[0m\n\u001b[1;32m      3\u001b[0m \u001b[0;34m\u001b[0m\u001b[0m\n\u001b[1;32m      4\u001b[0m \u001b[0;34m\u001b[0m\u001b[0m\n\u001b[1;32m      5\u001b[0m \u001b[0;31m# Decode predictions back to string labels\u001b[0m\u001b[0;34m\u001b[0m\u001b[0;34m\u001b[0m\u001b[0m\n",
            "\u001b[0;31mNameError\u001b[0m: name 'trial' is not defined"
          ]
        }
      ]
    },
    {
      "cell_type": "code",
      "source": [
        "predictions = predict(trial.title.to_list(), \"bert_product_category\")\n",
        "\n",
        "\n",
        "\n",
        "# Decode predictions back to string labels\n",
        "\n",
        "label_encoder = LabelEncoder()\n",
        "\n",
        "label_encoder.fit(data['product-category'])\n",
        "\n",
        "\n",
        "\n",
        "trial['bert-product-category'] = predict(trial.title.to_list(), \"bert_product_category\")\n",
        "\n",
        "print(classification_report(trial['product-category'], trial['bert-product-category'], zero_division=0))"
      ],
      "metadata": {
        "id": "L2KY05ggIwWV",
        "trusted": true
      },
      "execution_count": null,
      "outputs": []
    },
    {
      "cell_type": "code",
      "source": [
        "print('Score Sub-Task 1:', compute_score(trial['hazard-category'], trial['product-category'], trial['bert-hazard-category'], trial['bert-product-category']))"
      ],
      "metadata": {
        "id": "FOH5HX07KBXH",
        "trusted": true
      },
      "execution_count": null,
      "outputs": []
    },
    {
      "cell_type": "markdown",
      "source": [
        "### Sub-Task 2:"
      ],
      "metadata": {
        "id": "ovwPncTVgpG6"
      }
    },
    {
      "cell_type": "code",
      "source": [
        "predictions = predict(trial.title.to_list(), \"bert_hazard\")\n",
        "\n",
        "\n",
        "\n",
        "# Decode predictions back to string labels\n",
        "\n",
        "label_encoder = LabelEncoder()\n",
        "\n",
        "label_encoder.fit(data['hazard'])\n",
        "\n",
        "\n",
        "\n",
        "trial['bert-hazard'] = predict(trial.title.to_list(), \"bert_hazard\")\n",
        "\n",
        "print(classification_report(trial['hazard'], trial['bert-hazard'], zero_division=0))"
      ],
      "metadata": {
        "id": "A1igFM2ahF8s",
        "trusted": true
      },
      "execution_count": null,
      "outputs": []
    },
    {
      "cell_type": "code",
      "source": [
        "predictions = predict(trial.title.to_list(), \"bert_product\")\n",
        "\n",
        "\n",
        "\n",
        "# Decode predictions back to string labels\n",
        "\n",
        "label_encoder = LabelEncoder()\n",
        "\n",
        "label_encoder.fit(data['product'])\n",
        "\n",
        "\n",
        "\n",
        "trial['bert-product'] = predict(trial.title.to_list(), \"bert_product\")\n",
        "\n",
        "print(classification_report(trial['product'], trial['bert-product'], zero_division=0))"
      ],
      "metadata": {
        "id": "vXjw6eX6hF04",
        "trusted": true
      },
      "execution_count": null,
      "outputs": []
    },
    {
      "cell_type": "code",
      "source": [
        "print('Score Sub-Task 2:', compute_score(trial['hazard'], trial['product'], trial['bert-hazard'], trial['bert-product']))"
      ],
      "metadata": {
        "id": "uA15cw-4aRKB",
        "trusted": true
      },
      "execution_count": null,
      "outputs": []
    },
    {
      "cell_type": "markdown",
      "source": [
        "Inference Step"
      ],
      "metadata": {
        "id": "M1rS7JdmKkGR"
      }
    },
    {
      "cell_type": "code",
      "source": [
        "import pandas as pd\n",
        "\n",
        "# Load the labeled dataset\n",
        "data = pd.read_csv('/path_to_your_dataset/incidents_valid.csv')\n",
        "\n",
        "# Preview the dataset\n",
        "print(data.head())\n"
      ],
      "metadata": {
        "id": "oW0IIxJqKnwT"
      },
      "execution_count": null,
      "outputs": []
    },
    {
      "cell_type": "code",
      "source": [
        "from transformers import AutoModelForSequenceClassification, AutoTokenizer\n",
        "import torch\n",
        "\n",
        "# Load the checkpoint\n",
        "checkpoint_path = \"/path_to_your_checkpoint\"  # Replace with the checkpoint folder path\n",
        "model = AutoModelForSequenceClassification.from_pretrained(checkpoint_path)\n",
        "tokenizer = AutoTokenizer.from_pretrained(checkpoint_path)\n",
        "\n",
        "# Move the model to the GPU if available\n",
        "device = torch.device(\"cuda\" if torch.cuda.is_available() else \"cpu\")\n",
        "model.to(device)\n"
      ],
      "metadata": {
        "id": "AFr5pvDIKpPI"
      },
      "execution_count": null,
      "outputs": []
    },
    {
      "cell_type": "code",
      "source": [
        "def predict(texts, model, tokenizer, device):\n",
        "    model.eval()\n",
        "    inputs = tokenizer(texts, padding=True, truncation=True, return_tensors=\"pt\").to(device)\n",
        "    with torch.no_grad():\n",
        "        outputs = model(**inputs)\n",
        "        predictions = torch.argmax(outputs.logits, dim=-1)\n",
        "    return predictions.cpu().numpy()\n",
        "\n",
        "# Example predictions\n",
        "texts = data['title'] + \" \" + data['text']  # Combine relevant columns if necessary\n",
        "predictions = predict(texts.tolist(), model, tokenizer, device)\n"
      ],
      "metadata": {
        "id": "WwEc2WFdKrkp"
      },
      "execution_count": null,
      "outputs": []
    },
    {
      "cell_type": "code",
      "source": [
        "from sklearn.metrics import classification_report\n",
        "\n",
        "# Convert true labels to integers using LabelEncoder if necessary\n",
        "from sklearn.preprocessing import LabelEncoder\n",
        "label_encoder = LabelEncoder()\n",
        "true_labels = label_encoder.fit_transform(data['hazard-category'])  # Change column name accordingly\n",
        "\n",
        "# Evaluate predictions\n",
        "print(classification_report(true_labels, predictions, target_names=label_encoder.classes_))\n"
      ],
      "metadata": {
        "id": "3clcs0omKtF7"
      },
      "execution_count": null,
      "outputs": []
    },
    {
      "cell_type": "code",
      "source": [
        "import pandas as pd\n",
        "\n",
        "# Load the test dataset\n",
        "test_data_path = \"/content/incidents_valid.csv\"\n",
        "test_data = pd.read_csv(test_data_path)\n",
        "\n",
        "# Preview the dataset\n",
        "print(test_data.head())\n"
      ],
      "metadata": {
        "id": "AFrtH1ZElNz4",
        "outputId": "4f2bf3f3-b6e5-4422-b8c1-d4f6a53133e7",
        "colab": {
          "base_uri": "https://localhost:8080/"
        }
      },
      "execution_count": 1,
      "outputs": [
        {
          "output_type": "stream",
          "name": "stdout",
          "text": [
            "   Unnamed: 0  year  month  day country  \\\n",
            "0           0  1994      5    5      us   \n",
            "1           1  1994      5   12      us   \n",
            "2           2  1995      4   16      us   \n",
            "3           3  1998      7   16      ca   \n",
            "4           4  1998      8    6      us   \n",
            "\n",
            "                                               title  \\\n",
            "0                   Recall Notification: FSIS-017-94   \n",
            "1                   Recall Notification: FSIS-048-94   \n",
            "2                   Recall Notification: FSIS-032-95   \n",
            "3  Archive - ALLERGY ALERT -- PRESENCE OF UNDECLA...   \n",
            "4                   Recall Notification: FSIS-018-98   \n",
            "\n",
            "                                                text hazard-category  \\\n",
            "0  Case Number: 017-94   \\n            Date Opene...      biological   \n",
            "1  Case Number: 048-94   \\n            Date Opene...      biological   \n",
            "2  Case Number: 032-95   \\n            Date Opene...      biological   \n",
            "3  PRESENCE OF UNDECLARED NUTS IN ORIGINALE AUGUS...       allergens   \n",
            "4  Case Number: 018-98  Recall Notification Repor...  foreign bodies   \n",
            "\n",
            "               product-category            hazard                 product  \n",
            "0  meat, egg and dairy products      listeria spp              ham slices  \n",
            "1  meat, egg and dairy products  escherichia coli                  salami  \n",
            "2  meat, egg and dairy products     enteroviruses  chicken based products  \n",
            "3             ices and desserts         pecan nut               ice cream  \n",
            "4  meat, egg and dairy products    metal fragment          chicken breast  \n"
          ]
        }
      ]
    },
    {
      "cell_type": "code",
      "source": [
        "from google.colab import drive\n",
        "drive.mount('/content/drive')\n",
        "\n",
        "product_category_checkpoint_path = \"/content/drive/My Drive/checkpoint/product-category/product-category-1\"\n",
        "hazard_checkpoint_path = \"/content/drive/My Drive/checkpoint/hazard/hazard-3\"\n",
        "hazard_category_checkpoint_path = \"/content/drive/My Drive/checkpoint/hazard-category/hazard-category-2\"\n",
        "product_checkpoint_path = \"/content/drive/My Drive/checkpoint/product/product-2\"\n"
      ],
      "metadata": {
        "id": "CzpsyIFflOFy",
        "outputId": "8f415752-dd6c-4af1-aa25-a561ca01f60b",
        "colab": {
          "base_uri": "https://localhost:8080/"
        }
      },
      "execution_count": 10,
      "outputs": [
        {
          "output_type": "stream",
          "name": "stdout",
          "text": [
            "Drive already mounted at /content/drive; to attempt to forcibly remount, call drive.mount(\"/content/drive\", force_remount=True).\n"
          ]
        }
      ]
    },
    {
      "cell_type": "code",
      "source": [
        "# from transformers import AutoModelForSequenceClassification, AutoTokenizer\n",
        "# import torch\n",
        "# import pandas as pd\n",
        "\n",
        "# # Paths to checkpoints\n",
        "# product_category_checkpoint_path = \"/content/drive/My Drive/checkpoint/product-category/product-category-1\"\n",
        "# hazard_checkpoint_path = \"/content/drive/My Drive/checkpoint/hazard/hazard-3\"\n",
        "# hazard_category_checkpoint_path = \"/content/drive/My Drive/checkpoint/hazard-category/hazard-category-2\"\n",
        "# product_checkpoint_path = \"/content/drive/My Drive/checkpoint/product/product-2\"\n",
        "\n",
        "# # Function to load model and tokenizer\n",
        "# def load_model_and_tokenizer(checkpoint_path, base_model_name=\"bert-base-uncased\"):\n",
        "#     # Replace 'bert-base-uncased' with the correct base model used in training\n",
        "#     model = AutoModelForSequenceClassification.from_pretrained(checkpoint_path, local_files_only=True)\n",
        "#     tokenizer = AutoTokenizer.from_pretrained(base_model_name)\n",
        "#     device = torch.device(\"cuda\" if torch.cuda.is_available() else \"cpu\")\n",
        "#     model.to(device)\n",
        "#     return model, tokenizer, device\n",
        "\n",
        "# # Load models and tokenizers for all tasks\n",
        "# product_category_model, product_category_tokenizer, product_category_device = load_model_and_tokenizer(product_category_checkpoint_path)\n",
        "# hazard_model, hazard_tokenizer, hazard_device = load_model_and_tokenizer(hazard_checkpoint_path)\n",
        "# hazard_category_model, hazard_category_tokenizer, hazard_category_device = load_model_and_tokenizer(hazard_category_checkpoint_path)\n",
        "# product_model, product_tokenizer, product_device = load_model_and_tokenizer(product_checkpoint_path)\n",
        "\n",
        "# # Function for inference\n",
        "# def predict(texts, model, tokenizer, device):\n",
        "#     model.eval()\n",
        "#     inputs = tokenizer(texts, padding=True, truncation=True, return_tensors=\"pt\").to(device)\n",
        "#     with torch.no_grad():\n",
        "#         outputs = model(**inputs)\n",
        "#     predictions = torch.argmax(outputs.logits, dim=-1)\n",
        "#     return predictions.cpu().numpy()\n",
        "\n",
        "# # Load the test dataset\n",
        "# test_data_path = \"/content/incidents_valid.csv\"\n",
        "# data = pd.read_csv(test_data_path)\n",
        "\n",
        "# # Generate predictions for each task\n",
        "# data['product_category_pred'] = predict(data['text'].tolist(), product_category_model, product_category_tokenizer, product_category_device)\n",
        "# data['hazard_pred'] = predict(data['text'].tolist(), hazard_model, hazard_tokenizer, hazard_device)\n",
        "# data['hazard_category_pred'] = predict(data['text'].tolist(), hazard_category_model, hazard_category_tokenizer, hazard_category_device)\n",
        "# data['product_pred'] = predict(data['text'].tolist(), product_model, product_tokenizer, product_device)\n",
        "\n",
        "# # Save the predictions to a CSV file\n",
        "# output_path = \"/content/predictions.csv\"\n",
        "# data.to_csv(output_path, index=False)\n",
        "# print(f\"Predictions saved to {output_path}\")\n"
      ],
      "metadata": {
        "id": "a818mgAylVDO",
        "outputId": "2b8c75d6-3b0e-4b88-ae3a-ec1a70865bdd",
        "colab": {
          "base_uri": "https://localhost:8080/"
        }
      },
      "execution_count": 25,
      "outputs": [
        {
          "output_type": "stream",
          "name": "stdout",
          "text": [
            "Predictions saved to /content/predictions.csv\n"
          ]
        }
      ]
    },
    {
      "cell_type": "code",
      "source": [
        "# # Load id2label mapping for each model\n",
        "# def load_id2label(config_path):\n",
        "#     with open(config_path, 'r') as f:\n",
        "#         config = json.load(f)\n",
        "#     return config.get('id2label', {})\n",
        "\n",
        "# # Paths to config.json files\n",
        "# product_category_config_path = \"/content/drive/My Drive/checkpoint/product-category/product-category-1/config.json\"\n",
        "# hazard_config_path = \"/content/drive/My Drive/checkpoint/hazard/hazard-3/config.json\"\n",
        "# hazard_category_config_path = \"/content/drive/My Drive/checkpoint/hazard-category/hazard-category-2/config.json\"\n",
        "# product_config_path = \"/content/drive/My Drive/checkpoint/product/product-2/config.json\"\n",
        "\n",
        "# # Load mappings\n",
        "# product_category_id2label = load_id2label(product_category_config_path)\n",
        "# hazard_id2label = load_id2label(hazard_config_path)\n",
        "# hazard_category_id2label = load_id2label(hazard_category_config_path)\n",
        "# product_id2label = load_id2label(product_config_path)\n",
        "\n",
        "# # Modify the prediction function to map numeric predictions to labels\n",
        "# def predict_with_labels(texts, model, tokenizer, device, id2label):\n",
        "#     model.eval()\n",
        "#     inputs = tokenizer(texts, padding=True, truncation=True, return_tensors=\"pt\").to(device)\n",
        "#     with torch.no_grad():\n",
        "#         outputs = model(**inputs)\n",
        "#     predictions = torch.argmax(outputs.logits, dim=-1).cpu().numpy()\n",
        "#     # Map predictions to labels\n",
        "#     return [id2label.get(str(pred), pred) for pred in predictions]\n",
        "\n",
        "# # Generate predictions and map them to labels\n",
        "# data['product_category_pred'] = predict_with_labels(data['text'].tolist(), product_category_model, product_category_tokenizer, product_category_device, product_category_id2label)\n",
        "# data['hazard_pred'] = predict_with_labels(data['text'].tolist(), hazard_model, hazard_tokenizer, hazard_device, hazard_id2label)\n",
        "# data['hazard_category_pred'] = predict_with_labels(data['text'].tolist(), hazard_category_model, hazard_category_tokenizer, hazard_category_device, hazard_category_id2label)\n",
        "# data['product_pred'] = predict_with_labels(data['text'].tolist(), product_model, product_tokenizer, product_device, product_id2label)\n",
        "\n",
        "# # Save the updated predictions to CSV\n",
        "# output_path = \"/content/predictions_with_labels.csv\"\n",
        "# data.to_csv(output_path, index=False)\n",
        "# print(f\"Predictions saved to {output_path}\")\n"
      ],
      "metadata": {
        "id": "TARmGNCLsRde",
        "outputId": "ff7f8c55-789f-48ae-b1b0-e6fe94c3ff48",
        "colab": {
          "base_uri": "https://localhost:8080/"
        }
      },
      "execution_count": 13,
      "outputs": [
        {
          "output_type": "stream",
          "name": "stdout",
          "text": [
            "Predictions saved to /content/predictions_with_labels.csv\n"
          ]
        }
      ]
    },
    {
      "cell_type": "code",
      "source": [
        "# import json\n",
        "\n",
        "# # Function to load id2label mapping from config.json\n",
        "# def load_id2label(config_path):\n",
        "#     with open(config_path, 'r') as f:\n",
        "#         config = json.load(f)\n",
        "#     return config.get('id2label', {})\n",
        "\n",
        "# # Paths to config.json files for each task\n",
        "# product_category_config_path = \"/content/drive/My Drive/checkpoint/product-category/product-category-1/config.json\"\n",
        "# hazard_config_path = \"/content/drive/My Drive/checkpoint/hazard/hazard-3/config.json\"\n",
        "# hazard_category_config_path = \"/content/drive/My Drive/checkpoint/hazard-category/hazard-category-2/config.json\"\n",
        "# product_config_path = \"/content/drive/My Drive/checkpoint/product/product-2/config.json\"\n",
        "\n",
        "# # Load id2label mappings\n",
        "# product_category_id2label = load_id2label(product_category_config_path)\n",
        "# hazard_id2label = load_id2label(hazard_config_path)\n",
        "# hazard_category_id2label = load_id2label(hazard_category_config_path)\n",
        "# product_id2label = load_id2label(product_config_path)\n",
        "\n",
        "# # Function to map predictions to labels\n",
        "# def map_predictions_to_labels(predictions, id2label):\n",
        "#     return [id2label.get(f\"LABEL_{int(pred)}\", \"UNKNOWN\") for pred in predictions]\n",
        "\n",
        "# # Update predictions in the inference process\n",
        "# data['product_category_pred'] = map_predictions_to_labels(\n",
        "#     predict(data['text'].tolist(), product_category_model, product_category_tokenizer, product_category_device),\n",
        "#     product_category_id2label\n",
        "# )\n",
        "\n",
        "# data['hazard_pred'] = map_predictions_to_labels(\n",
        "#     predict(data['text'].tolist(), hazard_model, hazard_tokenizer, hazard_device),\n",
        "#     hazard_id2label\n",
        "# )\n",
        "\n",
        "# data['hazard_category_pred'] = map_predictions_to_labels(\n",
        "#     predict(data['text'].tolist(), hazard_category_model, hazard_category_tokenizer, hazard_category_device),\n",
        "#     hazard_category_id2label\n",
        "# )\n",
        "\n",
        "# data['product_pred'] = map_predictions_to_labels(\n",
        "#     predict(data['text'].tolist(), product_model, product_tokenizer, product_device),\n",
        "#     product_id2label\n",
        "# )\n",
        "\n",
        "# # Save the predictions to a CSV file\n",
        "# output_path = \"/content/predictions.csv\"\n",
        "# data.to_csv(output_path, index=False)\n",
        "# print(f\"Predictions saved to {output_path}\")\n"
      ],
      "metadata": {
        "id": "ZmSVfk6zu2_s",
        "outputId": "4b69fd34-2a69-483f-dcd3-f2f4470274e3",
        "colab": {
          "base_uri": "https://localhost:8080/"
        }
      },
      "execution_count": 17,
      "outputs": [
        {
          "output_type": "stream",
          "name": "stdout",
          "text": [
            "Predictions saved to /content/predictions.csv\n"
          ]
        }
      ]
    },
    {
      "cell_type": "code",
      "source": [
        "# import pandas as pd\n",
        "# import pickle\n",
        "# from transformers import AutoModelForSequenceClassification, AutoTokenizer\n",
        "# import torch\n",
        "\n",
        "# # Paths to checkpoints\n",
        "# product_category_checkpoint_path = \"/content/drive/My Drive/checkpoint/product-category/product-category-1\"\n",
        "# hazard_checkpoint_path = \"/content/drive/My Drive/checkpoint/hazard/hazard-3\"\n",
        "# hazard_category_checkpoint_path = \"/content/drive/My Drive/checkpoint/hazard-category/hazard-category-2\"\n",
        "# product_checkpoint_path = \"/content/drive/My Drive/checkpoint/product/product-2\"\n",
        "\n",
        "# # Path to the label encoder\n",
        "# label_encoder_path = \"label_encoder.pkl\"\n",
        "\n",
        "# # Load the LabelEncoder\n",
        "# with open(label_encoder_path, 'rb') as f:\n",
        "#     label_encoder = pickle.load(f)\n",
        "\n",
        "# # Function to load model and tokenizer\n",
        "# def load_model_and_tokenizer(checkpoint_path, base_model_name=\"bert-base-uncased\"):\n",
        "#     model = AutoModelForSequenceClassification.from_pretrained(checkpoint_path, local_files_only=True)\n",
        "#     tokenizer = AutoTokenizer.from_pretrained(base_model_name)\n",
        "#     device = torch.device(\"cuda\" if torch.cuda.is_available() else \"cpu\")\n",
        "#     model.to(device)\n",
        "#     return model, tokenizer, device\n",
        "\n",
        "# # Load models and tokenizers for all tasks\n",
        "# product_category_model, product_category_tokenizer, product_category_device = load_model_and_tokenizer(product_category_checkpoint_path)\n",
        "# hazard_model, hazard_tokenizer, hazard_device = load_model_and_tokenizer(hazard_checkpoint_path)\n",
        "# hazard_category_model, hazard_category_tokenizer, hazard_category_device = load_model_and_tokenizer(hazard_category_checkpoint_path)\n",
        "# product_model, product_tokenizer, product_device = load_model_and_tokenizer(product_checkpoint_path)\n",
        "\n",
        "# # Function for inference\n",
        "# def predict(texts, model, tokenizer, device):\n",
        "#     model.eval()\n",
        "#     inputs = tokenizer(texts, padding=True, truncation=True, return_tensors=\"pt\").to(device)\n",
        "#     with torch.no_grad():\n",
        "#         outputs = model(**inputs)\n",
        "#     predictions = torch.argmax(outputs.logits, dim=-1).cpu().numpy()\n",
        "#     return predictions\n",
        "\n",
        "# # Load the test dataset\n",
        "# test_data_path = \"/content/incidents_valid.csv\"\n",
        "# data = pd.read_csv(test_data_path)\n",
        "\n",
        "# # Generate predictions for each task and decode them\n",
        "# data['product_category_pred'] = label_encoder.inverse_transform(\n",
        "#     predict(data['text'].tolist(), product_category_model, product_category_tokenizer, product_category_device)\n",
        "# )\n",
        "# data['hazard_pred'] = label_encoder.inverse_transform(\n",
        "#     predict(data['text'].tolist(), hazard_model, hazard_tokenizer, hazard_device)\n",
        "# )\n",
        "# data['hazard_category_pred'] = label_encoder.inverse_transform(\n",
        "#     predict(data['text'].tolist(), hazard_category_model, hazard_category_tokenizer, hazard_category_device)\n",
        "# )\n",
        "# data['product_pred'] = label_encoder.inverse_transform(\n",
        "#     predict(data['text'].tolist(), product_model, product_tokenizer, product_device)\n",
        "# )\n",
        "\n",
        "# # Save the predictions to a CSV file\n",
        "# output_path = \"/content/predictions_with_labels.csv\"\n",
        "# data.to_csv(output_path, index=False)\n",
        "# print(f\"Predictions saved to {output_path}\")\n"
      ],
      "metadata": {
        "id": "b0grkGQJvmFM",
        "outputId": "fb609112-9200-4d05-ccd9-87105ea23062",
        "colab": {
          "base_uri": "https://localhost:8080/",
          "height": 216
        }
      },
      "execution_count": 26,
      "outputs": [
        {
          "output_type": "error",
          "ename": "FileNotFoundError",
          "evalue": "[Errno 2] No such file or directory: 'label_encoder.pkl'",
          "traceback": [
            "\u001b[0;31m---------------------------------------------------------------------------\u001b[0m",
            "\u001b[0;31mFileNotFoundError\u001b[0m                         Traceback (most recent call last)",
            "\u001b[0;32m<ipython-input-26-6daba8101b10>\u001b[0m in \u001b[0;36m<cell line: 0>\u001b[0;34m()\u001b[0m\n\u001b[1;32m     14\u001b[0m \u001b[0;34m\u001b[0m\u001b[0m\n\u001b[1;32m     15\u001b[0m \u001b[0;31m# Load the LabelEncoder\u001b[0m\u001b[0;34m\u001b[0m\u001b[0;34m\u001b[0m\u001b[0m\n\u001b[0;32m---> 16\u001b[0;31m \u001b[0;32mwith\u001b[0m \u001b[0mopen\u001b[0m\u001b[0;34m(\u001b[0m\u001b[0mlabel_encoder_path\u001b[0m\u001b[0;34m,\u001b[0m \u001b[0;34m'rb'\u001b[0m\u001b[0;34m)\u001b[0m \u001b[0;32mas\u001b[0m \u001b[0mf\u001b[0m\u001b[0;34m:\u001b[0m\u001b[0;34m\u001b[0m\u001b[0;34m\u001b[0m\u001b[0m\n\u001b[0m\u001b[1;32m     17\u001b[0m     \u001b[0mlabel_encoder\u001b[0m \u001b[0;34m=\u001b[0m \u001b[0mpickle\u001b[0m\u001b[0;34m.\u001b[0m\u001b[0mload\u001b[0m\u001b[0;34m(\u001b[0m\u001b[0mf\u001b[0m\u001b[0;34m)\u001b[0m\u001b[0;34m\u001b[0m\u001b[0;34m\u001b[0m\u001b[0m\n\u001b[1;32m     18\u001b[0m \u001b[0;34m\u001b[0m\u001b[0m\n",
            "\u001b[0;31mFileNotFoundError\u001b[0m: [Errno 2] No such file or directory: 'label_encoder.pkl'"
          ]
        }
      ]
    },
    {
      "cell_type": "code",
      "source": [
        "# import pandas as pd\n",
        "# from sklearn.preprocessing import LabelEncoder\n",
        "# import pickle\n",
        "\n",
        "# # Load the training dataset\n",
        "# train_data_path = \"incidents_train.csv\"\n",
        "# train_data = pd.read_csv(train_data_path)\n",
        "\n",
        "# # List of target columns\n",
        "# target_columns = ['hazard-category', 'product-category', 'hazard', 'product']\n",
        "\n",
        "# # Create and save LabelEncoders for each target column\n",
        "# for column in target_columns:\n",
        "#     label_encoder = LabelEncoder()\n",
        "#     train_data[f\"{column}_encoded\"] = label_encoder.fit_transform(train_data[column])\n",
        "\n",
        "#     # Save the LabelEncoder\n",
        "#     with open(f'label_encoder_{column}.pkl', 'wb') as f:\n",
        "#         pickle.dump(label_encoder, f)\n",
        "\n",
        "#     print(f\"Saved LabelEncoder for {column}. Classes: {label_encoder.classes_}\")\n"
      ],
      "metadata": {
        "id": "p8xdx-RayEdE",
        "outputId": "edee8929-5271-495d-d710-9950ebc03cd1",
        "colab": {
          "base_uri": "https://localhost:8080/"
        }
      },
      "execution_count": 28,
      "outputs": [
        {
          "output_type": "stream",
          "name": "stdout",
          "text": [
            "Saved LabelEncoder for hazard-category. Classes: ['allergens' 'biological' 'chemical' 'food additives and flavourings'\n",
            " 'foreign bodies' 'fraud' 'migration' 'organoleptic aspects'\n",
            " 'other hazard' 'packaging defect']\n",
            "Saved LabelEncoder for product-category. Classes: ['alcoholic beverages' 'cereals and bakery products'\n",
            " 'cocoa and cocoa preparations, coffee and tea' 'confectionery'\n",
            " 'dietetic foods, food supplements, fortified foods' 'fats and oils'\n",
            " 'feed materials' 'food additives and flavourings'\n",
            " 'food contact materials' 'fruits and vegetables' 'herbs and spices'\n",
            " 'honey and royal jelly' 'ices and desserts'\n",
            " 'meat, egg and dairy products' 'non-alcoholic beverages'\n",
            " 'nuts, nut products and seeds' 'other food product / mixed' 'pet feed'\n",
            " 'prepared dishes and snacks' 'seafood'\n",
            " 'soups, broths, sauces and condiments' 'sugars and syrups']\n",
            "Saved LabelEncoder for hazard. Classes: ['Aflatoxin' 'abnormal smell' 'alcohol content' 'alkaloids' 'allergens'\n",
            " 'almond' 'altered organoleptic characteristics' 'amygdalin'\n",
            " 'antibiotics, vet drugs' 'bacillus spp.' 'bad smell / off odor'\n",
            " 'bone fragment' 'brazil nut' 'bulging packaging' 'cashew'\n",
            " 'celery and products thereof' 'cereals'\n",
            " 'cereals containing gluten and products thereof' 'chemical'\n",
            " 'chemical compound (high content)' 'chemical compound (unauthorised)'\n",
            " 'chlorine' 'clostridium botulinum' 'coconut' 'coliforms'\n",
            " 'compositional deviation' 'contaminant' 'cronobacter spp'\n",
            " 'crustaceans and products thereof' 'cyclospora' 'dairy products'\n",
            " 'damaged packaging' 'dioxins' 'e 425 - konjac unauthorised'\n",
            " 'eggs and products thereof' 'enteroviruses' 'escherichia coli'\n",
            " 'false marketing claims' 'fish and products thereof' 'foreign bodies'\n",
            " 'glass fragment' 'haloxyfop' 'hazelnut' 'heavy metals'\n",
            " 'high content of copper' 'high content of cyanide'\n",
            " 'high content of vitamins' 'improper conditions' 'improper packaging'\n",
            " 'incorrect labeling' 'incorrect use by dates' 'insects'\n",
            " 'inspection issues' 'insufficient labelling/documentation'\n",
            " 'labelling/misdescription' 'listeria monocytogenes' 'listeria spp'\n",
            " 'metal fragment' 'microbiological contamination'\n",
            " 'milk and products thereof' 'misbranding' 'misdescription' 'mislabelled'\n",
            " 'molluscs and products thereof' 'moulds' 'mustard and products thereof'\n",
            " 'nitrogen' 'non compliance with HACCP' 'norovirus' 'novel food' 'nuts'\n",
            " 'ochratoxin' 'organochlorine' 'other' 'other misbranding issues'\n",
            " 'other not classified' 'other not classified allergen hazards'\n",
            " 'other not classified biological hazards'\n",
            " 'other not classified chemical hazards'\n",
            " 'other not classified hazards for foreign bodies' 'packaging defect'\n",
            " 'pahs' 'paralytic shellfish poisoning (psp) toxins' 'pathogenic bacteria'\n",
            " 'patulin' 'peanuts and products thereof' 'pecan nut' 'phenylpyrazole'\n",
            " 'pieces of wood' 'pistachio nut' 'plastic fragment'\n",
            " 'polycyclic aromatic hydrocarbons' 'poor hygienic state'\n",
            " 'poor or insufficient controls' 'processing'\n",
            " 'product category/characteristics' 'pseudomonas spp.' 'rubber fragments'\n",
            " 'salmonella' 'sesame seeds and products thereof'\n",
            " 'soybeans and products thereof' 'specified risk material (srm)'\n",
            " 'spoilage' 'staphylococcal enterotoxin' 'staphylococcus' 'stones'\n",
            " 'sulfamethazine unauthorised' 'sulphates/sulphites' 'sulphur dioxide'\n",
            " 'sulphur dioxide and sulphites' 'tampering' 'taste disturbance'\n",
            " 'too high content of fluorinated organic chemicals'\n",
            " 'too high content of tetrahydrocannabinol (THC)' 'toxin'\n",
            " 'unauthorised colour sudan 4' 'unauthorised import'\n",
            " 'unauthorised operator' 'unauthorised placing on the market'\n",
            " 'unauthorised substance ethylene oxide'\n",
            " 'unauthorised substance sildenafil' 'undeclared additive'\n",
            " 'undeclared constituent' 'unfit for human consumption' 'vibrio spp'\n",
            " 'virus' 'walnut' 'yeasts']\n",
            "Saved LabelEncoder for product. Classes: ['Catfishes (freshwater)' 'Dried pork meat' 'Fishes not identified' ...\n",
            " 'yellow peas' 'yoghurt' 'yogurt raisins']\n"
          ]
        }
      ]
    },
    {
      "cell_type": "code",
      "source": [
        "# import pandas as pd\n",
        "# import numpy as np\n",
        "# from transformers import AutoModelForSequenceClassification, AutoTokenizer\n",
        "\n",
        "# # Define the function to load models and tokenizers\n",
        "# def load_model_and_tokenizer(checkpoint_path, base_model_name=\"bert-base-uncased\"):\n",
        "#     model = AutoModelForSequenceClassification.from_pretrained(\n",
        "#         checkpoint_path, local_files_only=True\n",
        "#     )\n",
        "#     tokenizer = AutoTokenizer.from_pretrained(base_model_name)\n",
        "#     device = \"cuda\" if torch.cuda.is_available() else \"cpu\"\n",
        "#     model.to(device)\n",
        "#     return model, tokenizer, device\n",
        "\n",
        "# # Define the function to make predictions\n",
        "# def predict(texts, model, tokenizer, device):\n",
        "#     model.eval()\n",
        "#     inputs = tokenizer(texts, padding=True, truncation=True, return_tensors=\"pt\").to(device)\n",
        "#     with torch.no_grad():\n",
        "#         outputs = model(**inputs)\n",
        "#         predictions = torch.argmax(outputs.logits, dim=1).cpu().numpy()\n",
        "#     return predictions\n",
        "\n",
        "# # Define a function to handle unseen labels safely\n",
        "# def safe_inverse_transform(label_encoder, predictions_encoded):\n",
        "#     # Get valid classes from the label encoder\n",
        "#     valid_classes = set(range(len(label_encoder.classes_)))\n",
        "#     # Replace unseen labels with a default value\n",
        "#     predictions_safe = np.array([\n",
        "#         pred if pred in valid_classes else -1\n",
        "#         for pred in predictions_encoded\n",
        "#     ])\n",
        "#     # Add an \"unknown\" label to the label encoder if not present\n",
        "#     if \"UNKNOWN\" not in label_encoder.classes_:\n",
        "#         label_encoder.classes_ = np.append(label_encoder.classes_, \"UNKNOWN\")\n",
        "#     # Transform safely\n",
        "#     return np.array([\n",
        "#         label_encoder.classes_[pred] if pred != -1 else \"UNKNOWN\"\n",
        "#         for pred in predictions_safe\n",
        "#     ])\n",
        "\n",
        "# # Load the training dataset to fit LabelEncoders\n",
        "# train_data_path = \"/content/incidents_train.csv\"\n",
        "# train_data = pd.read_csv(train_data_path)\n",
        "\n",
        "# # Initialize LabelEncoders for each target column\n",
        "# from sklearn.preprocessing import LabelEncoder\n",
        "\n",
        "# label_encoders = {}\n",
        "# target_columns = [\"product-category\", \"hazard\", \"hazard-category\", \"product\"]\n",
        "# for column in target_columns:\n",
        "#     label_encoders[column] = LabelEncoder()\n",
        "#     label_encoders[column].fit(train_data[column])\n",
        "\n",
        "# # Load models, tokenizers, and devices\n",
        "# product_category_model, product_category_tokenizer, product_category_device = load_model_and_tokenizer(\"/content/drive/MyDrive/checkpoint/product-category/product-category-1\")\n",
        "# hazard_model, hazard_tokenizer, hazard_device = load_model_and_tokenizer(\"/content/drive/MyDrive/checkpoint/hazard/hazard-3\")\n",
        "# hazard_category_model, hazard_category_tokenizer, hazard_category_device = load_model_and_tokenizer(\"/content/drive/MyDrive/checkpoint/hazard-category/hazard-category-2\")\n",
        "# product_model, product_tokenizer, product_device = load_model_and_tokenizer(\"/content/drive/MyDrive/checkpoint/product/product-2\")\n",
        "\n",
        "# # Load the test dataset\n",
        "# test_data_path = \"/content/incidents_valid.csv\"\n",
        "# data = pd.read_csv(test_data_path)\n",
        "\n",
        "# # Generate predictions for each task and decode them\n",
        "# for column, model, tokenizer, device in zip(\n",
        "#     target_columns,\n",
        "#     [product_category_model, hazard_model, hazard_category_model, product_model],\n",
        "#     [product_category_tokenizer, hazard_tokenizer, hazard_category_tokenizer, product_tokenizer],\n",
        "#     [product_category_device, hazard_device, hazard_category_device, product_device]\n",
        "# ):\n",
        "#     predictions_encoded = predict(data['text'].tolist(), model, tokenizer, device)\n",
        "#     data[f\"{column}_pred\"] = safe_inverse_transform(label_encoders[column], predictions_encoded)\n",
        "\n",
        "# # Save the predictions to a CSV file\n",
        "# output_path = \"/content/predictions_with_labels.csv\"\n",
        "# data.to_csv(output_path, index=False)\n",
        "# print(f\"Predictions saved to {output_path}\")\n",
        "\n"
      ],
      "metadata": {
        "id": "GflWHirazAop",
        "outputId": "4545086c-dc31-41ce-ee41-c4877aff9a55",
        "colab": {
          "base_uri": "https://localhost:8080/"
        }
      },
      "execution_count": 31,
      "outputs": [
        {
          "output_type": "stream",
          "name": "stdout",
          "text": [
            "Predictions saved to /content/predictions_with_labels.csv\n"
          ]
        }
      ]
    },
    {
      "cell_type": "code",
      "source": [
        "# import pandas as pd\n",
        "# import numpy as np\n",
        "# from transformers import AutoModelForSequenceClassification, AutoTokenizer\n",
        "# import torch\n",
        "# from sklearn.preprocessing import LabelEncoder\n",
        "\n",
        "# # Define the function to load models and tokenizers\n",
        "# def load_model_and_tokenizer(checkpoint_path, base_model_name=\"bert-base-uncased\"):\n",
        "#     model = AutoModelForSequenceClassification.from_pretrained(\n",
        "#         checkpoint_path, local_files_only=True\n",
        "#     )\n",
        "#     tokenizer = AutoTokenizer.from_pretrained(base_model_name)\n",
        "#     device = \"cuda\" if torch.cuda.is_available() else \"cpu\"\n",
        "#     model.to(device)\n",
        "#     return model, tokenizer, device\n",
        "\n",
        "# # Define the function to make predictions\n",
        "# def predict(texts, model, tokenizer, device):\n",
        "#     model.eval()\n",
        "#     inputs = tokenizer(texts, padding=True, truncation=True, return_tensors=\"pt\").to(device)\n",
        "#     with torch.no_grad():\n",
        "#         outputs = model(**inputs)\n",
        "#         predictions = torch.argmax(outputs.logits, dim=1).cpu().numpy()\n",
        "#     return predictions\n",
        "\n",
        "# # Define a function to handle unseen labels safely\n",
        "# def safe_inverse_transform(label_encoder, predictions_encoded):\n",
        "#     # Get valid classes from the label encoder\n",
        "#     valid_classes = set(range(len(label_encoder.classes_)))\n",
        "#     # Replace unseen labels with a default value\n",
        "#     predictions_safe = np.array([\n",
        "#         pred if pred in valid_classes else -1\n",
        "#         for pred in predictions_encoded\n",
        "#     ])\n",
        "#     # Add an \"unknown\" label to the label encoder if not present\n",
        "#     if \"UNKNOWN\" not in label_encoder.classes_:\n",
        "#         label_encoder.classes_ = np.append(label_encoder.classes_, \"UNKNOWN\")\n",
        "#     # Transform safely\n",
        "#     return np.array([\n",
        "#         label_encoder.classes_[pred] if pred != -1 else \"UNKNOWN\"\n",
        "#         for pred in predictions_safe\n",
        "#     ])\n",
        "\n",
        "# # Load the training dataset to fit LabelEncoders\n",
        "# train_data_path = \"/content/incidents_train.csv\"\n",
        "# train_data = pd.read_csv(train_data_path)\n",
        "\n",
        "# # Initialize LabelEncoders for each target column\n",
        "# label_encoders = {}\n",
        "# target_columns = [\"product-category\", \"hazard\", \"hazard-category\", \"product\"]\n",
        "# for column in target_columns:\n",
        "#     label_encoders[column] = LabelEncoder()\n",
        "#     label_encoders[column].fit(train_data[column])\n",
        "\n",
        "# # Load models, tokenizers, and devices\n",
        "# product_category_model, product_category_tokenizer, product_category_device = load_model_and_tokenizer(\"/content/drive/MyDrive/checkpoint/product-category/product-category-1\")\n",
        "# hazard_model, hazard_tokenizer, hazard_device = load_model_and_tokenizer(\"/content/drive/MyDrive/checkpoint/hazard/hazard-3\")\n",
        "# hazard_category_model, hazard_category_tokenizer, hazard_category_device = load_model_and_tokenizer(\"/content/drive/MyDrive/checkpoint/hazard-category/hazard-category-2\")\n",
        "# product_model, product_tokenizer, product_device = load_model_and_tokenizer(\"/content/drive/MyDrive/checkpoint/product/product-2\")\n",
        "\n",
        "# # Load the test dataset\n",
        "# test_data_path = \"/content/incidents_valid.csv\"\n",
        "# data = pd.read_csv(test_data_path)\n",
        "\n",
        "# # Generate predictions for each task and decode them\n",
        "# for column, model, tokenizer, device in zip(\n",
        "#     target_columns,\n",
        "#     [product_category_model, hazard_model, hazard_category_model, product_model],\n",
        "#     [product_category_tokenizer, hazard_tokenizer, hazard_category_tokenizer, product_tokenizer],\n",
        "#     [product_category_device, hazard_device, hazard_category_device, product_device]\n",
        "# ):\n",
        "#     predictions_encoded = predict(data['text'].tolist(), model, tokenizer, device)\n",
        "#     data[f\"{column}_pred\"] = safe_inverse_transform(label_encoders[column], predictions_encoded)\n",
        "\n",
        "# # Select only the required columns for submission\n",
        "# submission = data[[\"product-category_pred\", \"hazard_pred\", \"hazard-category_pred\", \"product_pred\"]]\n",
        "# submission.columns = [\"product-category\", \"hazard\", \"hazard-category\", \"product\"]\n",
        "\n",
        "# # Save the submission file\n",
        "# submission_path = \"/content/submission.csv\"\n",
        "# submission.to_csv(submission_path, index=False)\n",
        "# print(f\"Submission file saved to {submission_path}\")\n",
        "\n",
        "# # Compress the submission file into ZIP format\n",
        "# import zipfile\n",
        "\n",
        "# zip_path = \"/content/submission.zip\"\n",
        "# with zipfile.ZipFile(zip_path, \"w\") as zipf:\n",
        "#     zipf.write(submission_path, arcname=\"submission.csv\")\n",
        "\n",
        "# print(f\"Compressed submission file saved to {zip_path}\")\n"
      ],
      "metadata": {
        "id": "_fd6mn2vzDKZ",
        "outputId": "d87076d4-beff-413f-9e97-a49a28f29666",
        "colab": {
          "base_uri": "https://localhost:8080/"
        }
      },
      "execution_count": 32,
      "outputs": [
        {
          "output_type": "stream",
          "name": "stdout",
          "text": [
            "Submission file saved to /content/submission.csv\n",
            "Compressed submission file saved to /content/submission.zip\n"
          ]
        }
      ]
    },
    {
      "cell_type": "code",
      "source": [
        "import pandas as pd\n",
        "import numpy as np\n",
        "from transformers import AutoModelForSequenceClassification, AutoTokenizer\n",
        "from sklearn.preprocessing import LabelEncoder\n",
        "import torch\n",
        "import zipfile\n",
        "\n",
        "# Define the function to load models and tokenizers\n",
        "def load_model_and_tokenizer(checkpoint_path, base_model_name=\"bert-base-uncased\"):\n",
        "    model = AutoModelForSequenceClassification.from_pretrained(\n",
        "        checkpoint_path, local_files_only=True\n",
        "    )\n",
        "    tokenizer = AutoTokenizer.from_pretrained(base_model_name)\n",
        "    device = \"cuda\" if torch.cuda.is_available() else \"cpu\"\n",
        "    model.to(device)\n",
        "    return model, tokenizer, device\n",
        "\n",
        "# Define the function to make predictions\n",
        "def predict(texts, model, tokenizer, device):\n",
        "    model.eval()\n",
        "    inputs = tokenizer(texts, padding=True, truncation=True, return_tensors=\"pt\").to(device)\n",
        "    with torch.no_grad():\n",
        "        outputs = model(**inputs)\n",
        "        predictions = torch.argmax(outputs.logits, dim=1).cpu().numpy()\n",
        "    return predictions\n",
        "\n",
        "# Define a function to handle unseen labels safely\n",
        "def safe_inverse_transform(label_encoder, predictions_encoded):\n",
        "    # Get valid classes from the label encoder\n",
        "    valid_classes = set(range(len(label_encoder.classes_)))\n",
        "    # Replace unseen labels with a default value\n",
        "    predictions_safe = np.array([\n",
        "        pred if pred in valid_classes else -1\n",
        "        for pred in predictions_encoded\n",
        "    ])\n",
        "    # Add an \"unknown\" label to the label encoder if not present\n",
        "    if \"UNKNOWN\" not in label_encoder.classes_:\n",
        "        label_encoder.classes_ = np.append(label_encoder.classes_, \"UNKNOWN\")\n",
        "    # Transform safely\n",
        "    return np.array([\n",
        "        label_encoder.classes_[pred] if pred != -1 else \"UNKNOWN\"\n",
        "        for pred in predictions_safe\n",
        "    ])\n",
        "\n",
        "# Load the training dataset to fit LabelEncoders\n",
        "train_data_path = \"/content/incidents_train.csv\"\n",
        "train_data = pd.read_csv(train_data_path)\n",
        "\n",
        "# Initialize LabelEncoders for each target column\n",
        "label_encoders = {}\n",
        "target_columns = [\"product-category\", \"hazard\", \"hazard-category\", \"product\"]\n",
        "for column in target_columns:\n",
        "    label_encoders[column] = LabelEncoder()\n",
        "    label_encoders[column].fit(train_data[column])\n",
        "\n",
        "# Load models, tokenizers, and devices\n",
        "product_category_model, product_category_tokenizer, product_category_device = load_model_and_tokenizer(\"/content/drive/MyDrive/checkpoint/product-category/product-category-1\")\n",
        "hazard_model, hazard_tokenizer, hazard_device = load_model_and_tokenizer(\"/content/drive/MyDrive/checkpoint/hazard/hazard-3\")\n",
        "hazard_category_model, hazard_category_tokenizer, hazard_category_device = load_model_and_tokenizer(\"/content/drive/MyDrive/checkpoint/hazard-category/hazard-category-2\")\n",
        "product_model, product_tokenizer, product_device = load_model_and_tokenizer(\"/content/drive/MyDrive/checkpoint/product/product-2\")\n",
        "\n",
        "# Load the updated test dataset\n",
        "test_data_path = \"/content/incidents 2.csv\"\n",
        "data = pd.read_csv(test_data_path)\n",
        "\n",
        "# Ensure no NaN values in the text column\n",
        "data[\"text\"] = data[\"text\"].fillna(\"\")\n",
        "\n",
        "# Generate predictions for each task and decode them\n",
        "for column, model, tokenizer, device in zip(\n",
        "    target_columns,\n",
        "    [product_category_model, hazard_model, hazard_category_model, product_model],\n",
        "    [product_category_tokenizer, hazard_tokenizer, hazard_category_tokenizer, product_tokenizer],\n",
        "    [product_category_device, hazard_device, hazard_category_device, product_device]\n",
        "):\n",
        "    predictions_encoded = predict(data['text'].tolist(), model, tokenizer, device)\n",
        "    # Align predictions with test data rows\n",
        "    predictions_encoded = np.pad(\n",
        "        predictions_encoded,\n",
        "        (0, len(data) - len(predictions_encoded)),\n",
        "        constant_values=-1\n",
        "    )\n",
        "    data[f\"{column}_pred\"] = safe_inverse_transform(label_encoders[column], predictions_encoded)\n",
        "\n",
        "# Verify the number of rows in the predictions\n",
        "assert len(data) == len(pd.read_csv(test_data_path)), \"Mismatch in row counts between test data and predictions.\"\n",
        "\n",
        "# Select only the required columns for submission\n",
        "submission_data = data[[\"hazard-category_pred\", \"product-category_pred\", \"hazard_pred\", \"product_pred\"]].rename(\n",
        "    columns={\n",
        "        \"hazard-category_pred\": \"hazard-category\",\n",
        "        \"product-category_pred\": \"product-category\",\n",
        "        \"hazard_pred\": \"hazard\",\n",
        "        \"product_pred\": \"product\"\n",
        "    }\n",
        ")\n",
        "\n",
        "# Save the predictions to a CSV file\n",
        "submission_path = \"/content/submission.csv\"\n",
        "submission_data.to_csv(submission_path, index=False)\n",
        "print(f\"Submission file saved to {submission_path}\")\n",
        "\n",
        "# Compress the submission file into a ZIP file\n",
        "zip_path = \"/content/submission.zip\"\n",
        "with zipfile.ZipFile(zip_path, 'w') as zipf:\n",
        "    zipf.write(submission_path, arcname=\"submission.csv\")\n",
        "print(f\"Submission zip file saved to {zip_path}\")\n",
        "\n"
      ],
      "metadata": {
        "id": "GdtnLihM1jAl",
        "outputId": "1c4d4a7f-2a2e-4516-a623-dcd8e933a4f2",
        "colab": {
          "base_uri": "https://localhost:8080/"
        }
      },
      "execution_count": 38,
      "outputs": [
        {
          "output_type": "stream",
          "name": "stdout",
          "text": [
            "Submission file saved to /content/submission.csv\n",
            "Submission zip file saved to /content/submission.zip\n"
          ]
        }
      ]
    },
    {
      "cell_type": "code",
      "source": [],
      "metadata": {
        "id": "BLOIzlG933vB"
      },
      "execution_count": null,
      "outputs": []
    }
  ]
}